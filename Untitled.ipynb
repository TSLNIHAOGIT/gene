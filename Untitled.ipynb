{
 "cells": [
  {
   "cell_type": "code",
   "execution_count": 1,
   "metadata": {},
   "outputs": [],
   "source": [
    "import numpy as np"
   ]
  },
  {
   "cell_type": "code",
   "execution_count": 2,
   "metadata": {},
   "outputs": [],
   "source": [
    "\n",
    "x1 = [-1.5, 4] # 第一个决策变量范围\n",
    "x2 = [-3, 4] # 第二个决策变量范围\n",
    "b1 = [1, 1] # 第一个决策变量边界，1表示包含范围的边界，0表示不包含\n",
    "b2 = [1, 1] # 第二个决策变量边界，1表示包含范围的边界，0表示不包含\n",
    "# 生成自变量的范围矩阵，使得第一行为所有决策变量的下界，第二行为上界\n",
    "ranges=np.vstack([x1, x2]).T"
   ]
  },
  {
   "cell_type": "code",
   "execution_count": 3,
   "metadata": {},
   "outputs": [
    {
     "data": {
      "text/plain": [
       "array([[-1.5, -3. ],\n",
       "       [ 4. ,  4. ]])"
      ]
     },
     "execution_count": 3,
     "metadata": {},
     "output_type": "execute_result"
    }
   ],
   "source": [
    "ranges"
   ]
  },
  {
   "cell_type": "raw",
   "metadata": {},
   "source": []
  },
  {
   "cell_type": "code",
   "execution_count": 7,
   "metadata": {},
   "outputs": [],
   "source": [
    "path=r'E:\\tsl_file\\python_project\\gene\\geatpy_example\\frame\\tsp_path'\n",
    "testName='att48'\n",
    "places = np.loadtxt(path +'\\\\'+ testName + \".csv\", delimiter=\",\", usecols=(0, 1))"
   ]
  },
  {
   "cell_type": "code",
   "execution_count": 10,
   "metadata": {},
   "outputs": [
    {
     "data": {
      "text/plain": [
       "48"
      ]
     },
     "execution_count": 10,
     "metadata": {},
     "output_type": "execute_result"
    }
   ],
   "source": [
    "places.shape[0]"
   ]
  },
  {
   "cell_type": "code",
   "execution_count": 11,
   "metadata": {},
   "outputs": [
    {
     "data": {
      "text/plain": [
       "array([[6734., 1453.],\n",
       "       [2233.,   10.],\n",
       "       [5530., 1424.],\n",
       "       [ 401.,  841.],\n",
       "       [3082., 1644.],\n",
       "       [7608., 4458.],\n",
       "       [7573., 3716.],\n",
       "       [7265., 1268.],\n",
       "       [6898., 1885.],\n",
       "       [1112., 2049.],\n",
       "       [5468., 2606.],\n",
       "       [5989., 2873.],\n",
       "       [4706., 2674.],\n",
       "       [4612., 2035.],\n",
       "       [6347., 2683.],\n",
       "       [6107.,  669.],\n",
       "       [7611., 5184.],\n",
       "       [7462., 3590.],\n",
       "       [7732., 4723.],\n",
       "       [5900., 3561.],\n",
       "       [4483., 3369.],\n",
       "       [6101., 1110.],\n",
       "       [5199., 2182.],\n",
       "       [1633., 2809.],\n",
       "       [4307., 2322.],\n",
       "       [ 675., 1006.],\n",
       "       [7555., 4819.],\n",
       "       [7541., 3981.],\n",
       "       [3177.,  756.],\n",
       "       [7352., 4506.],\n",
       "       [7545., 2801.],\n",
       "       [3245., 3305.],\n",
       "       [6426., 3173.],\n",
       "       [4608., 1198.],\n",
       "       [  23., 2216.],\n",
       "       [7248., 3779.],\n",
       "       [7762., 4595.],\n",
       "       [7392., 2244.],\n",
       "       [3484., 2829.],\n",
       "       [6271., 2135.],\n",
       "       [4985.,  140.],\n",
       "       [1916., 1569.],\n",
       "       [7280., 4899.],\n",
       "       [7509., 3239.],\n",
       "       [  10., 2676.],\n",
       "       [6807., 2993.],\n",
       "       [5185., 3258.],\n",
       "       [3023., 1942.]])"
      ]
     },
     "execution_count": 11,
     "metadata": {},
     "output_type": "execute_result"
    }
   ],
   "source": [
    "places"
   ]
  },
  {
   "cell_type": "code",
   "execution_count": 13,
   "metadata": {},
   "outputs": [
    {
     "data": {
      "text/plain": [
       "array([401., 841.])"
      ]
     },
     "execution_count": 13,
     "metadata": {},
     "output_type": "execute_result"
    }
   ],
   "source": [
    "places[3,:]"
   ]
  },
  {
   "cell_type": "code",
   "execution_count": 12,
   "metadata": {},
   "outputs": [
    {
     "data": {
      "text/plain": [
       "[47,\n",
       " 47,\n",
       " 47,\n",
       " 47,\n",
       " 47,\n",
       " 47,\n",
       " 47,\n",
       " 47,\n",
       " 47,\n",
       " 47,\n",
       " 47,\n",
       " 47,\n",
       " 47,\n",
       " 47,\n",
       " 47,\n",
       " 47,\n",
       " 47,\n",
       " 47,\n",
       " 47,\n",
       " 47,\n",
       " 47,\n",
       " 47,\n",
       " 47,\n",
       " 47,\n",
       " 47,\n",
       " 47,\n",
       " 47,\n",
       " 47,\n",
       " 47,\n",
       " 47,\n",
       " 47,\n",
       " 47,\n",
       " 47,\n",
       " 47,\n",
       " 47,\n",
       " 47,\n",
       " 47,\n",
       " 47,\n",
       " 47,\n",
       " 47,\n",
       " 47,\n",
       " 47,\n",
       " 47,\n",
       " 47,\n",
       " 47,\n",
       " 47,\n",
       " 47,\n",
       " 47]"
      ]
     },
     "execution_count": 12,
     "metadata": {},
     "output_type": "execute_result"
    }
   ],
   "source": []
  },
  {
   "cell_type": "code",
   "execution_count": null,
   "metadata": {},
   "outputs": [],
   "source": []
  }
 ],
 "metadata": {
  "kernelspec": {
   "display_name": "Python 3",
   "language": "python",
   "name": "python3"
  },
  "language_info": {
   "codemirror_mode": {
    "name": "ipython",
    "version": 3
   },
   "file_extension": ".py",
   "mimetype": "text/x-python",
   "name": "python",
   "nbconvert_exporter": "python",
   "pygments_lexer": "ipython3",
   "version": "3.6.5"
  }
 },
 "nbformat": 4,
 "nbformat_minor": 2
}
