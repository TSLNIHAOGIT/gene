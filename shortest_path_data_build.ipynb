{
 "cells": [
  {
   "cell_type": "code",
   "execution_count": 1,
   "metadata": {},
   "outputs": [],
   "source": [
    "import numpy as np"
   ]
  },
  {
   "cell_type": "code",
   "execution_count": null,
   "metadata": {},
   "outputs": [],
   "source": []
  },
  {
   "cell_type": "code",
   "execution_count": 2,
   "metadata": {},
   "outputs": [],
   "source": [
    "x=np.ones((2,3,4))"
   ]
  },
  {
   "cell_type": "code",
   "execution_count": 3,
   "metadata": {},
   "outputs": [
    {
     "data": {
      "text/plain": [
       "array([[[1., 1., 1., 1.],\n",
       "        [1., 1., 1., 1.],\n",
       "        [1., 1., 1., 1.]],\n",
       "\n",
       "       [[1., 1., 1., 1.],\n",
       "        [1., 1., 1., 1.],\n",
       "        [1., 1., 1., 1.]]])"
      ]
     },
     "execution_count": 3,
     "metadata": {},
     "output_type": "execute_result"
    }
   ],
   "source": [
    "x"
   ]
  },
  {
   "cell_type": "code",
   "execution_count": 4,
   "metadata": {},
   "outputs": [],
   "source": [
    "res=[]\n",
    "for i in range(2):\n",
    "    x00=x[i,:,:]\n",
    "    res.append(np.sum(x00,axis=1))"
   ]
  },
  {
   "cell_type": "code",
   "execution_count": 5,
   "metadata": {},
   "outputs": [
    {
     "data": {
      "text/plain": [
       "array([[1., 1., 1., 1.],\n",
       "       [1., 1., 1., 1.],\n",
       "       [1., 1., 1., 1.]])"
      ]
     },
     "execution_count": 5,
     "metadata": {},
     "output_type": "execute_result"
    }
   ],
   "source": [
    "x00"
   ]
  },
  {
   "cell_type": "code",
   "execution_count": 6,
   "metadata": {},
   "outputs": [
    {
     "data": {
      "text/plain": [
       "array([4., 4., 4.])"
      ]
     },
     "execution_count": 6,
     "metadata": {},
     "output_type": "execute_result"
    }
   ],
   "source": [
    "np.sum(x00,axis=1).T"
   ]
  },
  {
   "cell_type": "code",
   "execution_count": 7,
   "metadata": {},
   "outputs": [
    {
     "data": {
      "text/plain": [
       "array([[4., 4., 4.],\n",
       "       [4., 4., 4.]])"
      ]
     },
     "execution_count": 7,
     "metadata": {},
     "output_type": "execute_result"
    }
   ],
   "source": [
    "np.array(res)"
   ]
  },
  {
   "cell_type": "code",
   "execution_count": 2,
   "metadata": {},
   "outputs": [],
   "source": [
    "import numpy as np"
   ]
  },
  {
   "cell_type": "code",
   "execution_count": 3,
   "metadata": {},
   "outputs": [],
   "source": [
    "x2=np.random.randint(0,2,(2,4,4))"
   ]
  },
  {
   "cell_type": "code",
   "execution_count": 4,
   "metadata": {},
   "outputs": [
    {
     "data": {
      "text/plain": [
       "array([[[1, 1, 0, 1],\n",
       "        [0, 1, 0, 1],\n",
       "        [0, 1, 0, 0],\n",
       "        [1, 1, 1, 0]],\n",
       "\n",
       "       [[0, 0, 1, 0],\n",
       "        [0, 1, 0, 0],\n",
       "        [1, 1, 0, 1],\n",
       "        [1, 1, 1, 1]]])"
      ]
     },
     "execution_count": 4,
     "metadata": {},
     "output_type": "execute_result"
    }
   ],
   "source": [
    "x2"
   ]
  },
  {
   "cell_type": "code",
   "execution_count": 5,
   "metadata": {},
   "outputs": [],
   "source": [
    "#除去起点和终点：剩下的每一个点都是出边和等于入边和\n",
    "#反应在距离矩阵中就是：第i行（以i为起点，i!=o,i!=d）的和等于等i列（以i为终点）的和"
   ]
  },
  {
   "cell_type": "code",
   "execution_count": 6,
   "metadata": {},
   "outputs": [
    {
     "data": {
      "text/plain": [
       "array([[3, 2, 1, 3],\n",
       "       [1, 1, 3, 4]])"
      ]
     },
     "execution_count": 6,
     "metadata": {},
     "output_type": "execute_result"
    }
   ],
   "source": [
    "s_row=np.sum(x2,axis=2)\n",
    "s_row"
   ]
  },
  {
   "cell_type": "code",
   "execution_count": 7,
   "metadata": {},
   "outputs": [
    {
     "data": {
      "text/plain": [
       "array([[2, 4, 1, 2],\n",
       "       [2, 3, 2, 2]])"
      ]
     },
     "execution_count": 7,
     "metadata": {},
     "output_type": "execute_result"
    }
   ],
   "source": [
    "s_col=np.sum(x2,axis=1)\n",
    "s_col"
   ]
  },
  {
   "cell_type": "code",
   "execution_count": 9,
   "metadata": {},
   "outputs": [
    {
     "data": {
      "text/plain": [
       "array([[2, 1],\n",
       "       [1, 3]])"
      ]
     },
     "execution_count": 9,
     "metadata": {},
     "output_type": "execute_result"
    }
   ],
   "source": [
    "s_row[:,1:-1]"
   ]
  },
  {
   "cell_type": "code",
   "execution_count": 10,
   "metadata": {},
   "outputs": [
    {
     "data": {
      "text/plain": [
       "array([[4, 1],\n",
       "       [3, 2]])"
      ]
     },
     "execution_count": 10,
     "metadata": {},
     "output_type": "execute_result"
    }
   ],
   "source": [
    "s_col[:,1:-1]"
   ]
  },
  {
   "cell_type": "code",
   "execution_count": 11,
   "metadata": {},
   "outputs": [
    {
     "data": {
      "text/plain": [
       "array([[-2,  0],\n",
       "       [-2,  1]])"
      ]
     },
     "execution_count": 11,
     "metadata": {},
     "output_type": "execute_result"
    }
   ],
   "source": [
    "s_row[:,1:-1]-s_col[:,1:-1]"
   ]
  },
  {
   "cell_type": "code",
   "execution_count": null,
   "metadata": {},
   "outputs": [],
   "source": [
    "###出边和或者入边和小于等于1"
   ]
  },
  {
   "cell_type": "code",
   "execution_count": null,
   "metadata": {},
   "outputs": [],
   "source": [
    "s_row<=1\n",
    "s_col<=1"
   ]
  },
  {
   "cell_type": "code",
   "execution_count": null,
   "metadata": {},
   "outputs": [],
   "source": []
  },
  {
   "cell_type": "code",
   "execution_count": null,
   "metadata": {},
   "outputs": [],
   "source": [
    "##起点出边和为1，入边和为0"
   ]
  },
  {
   "cell_type": "code",
   "execution_count": null,
   "metadata": {},
   "outputs": [],
   "source": [
    "# 第0行和为1，第0列和为0"
   ]
  },
  {
   "cell_type": "code",
   "execution_count": 14,
   "metadata": {},
   "outputs": [
    {
     "data": {
      "text/plain": [
       "array([[[1],\n",
       "        [1],\n",
       "        [0],\n",
       "        [1]],\n",
       "\n",
       "       [[0],\n",
       "        [0],\n",
       "        [1],\n",
       "        [0]]])"
      ]
     },
     "execution_count": 14,
     "metadata": {},
     "output_type": "execute_result"
    }
   ],
   "source": [
    "r0=x2[:,0,:,None]\n",
    "r0"
   ]
  },
  {
   "cell_type": "code",
   "execution_count": 17,
   "metadata": {},
   "outputs": [
    {
     "data": {
      "text/plain": [
       "array([[3],\n",
       "       [1]])"
      ]
     },
     "execution_count": 17,
     "metadata": {},
     "output_type": "execute_result"
    }
   ],
   "source": [
    "np.sum(r0,axis=1)#==1"
   ]
  },
  {
   "cell_type": "code",
   "execution_count": 18,
   "metadata": {},
   "outputs": [
    {
     "data": {
      "text/plain": [
       "array([[[1],\n",
       "        [0],\n",
       "        [0],\n",
       "        [1]],\n",
       "\n",
       "       [[0],\n",
       "        [0],\n",
       "        [1],\n",
       "        [1]]])"
      ]
     },
     "execution_count": 18,
     "metadata": {},
     "output_type": "execute_result"
    }
   ],
   "source": [
    "c0=x2[:,:,0,None]\n",
    "c0"
   ]
  },
  {
   "cell_type": "code",
   "execution_count": 19,
   "metadata": {},
   "outputs": [
    {
     "data": {
      "text/plain": [
       "array([[2],\n",
       "       [2]])"
      ]
     },
     "execution_count": 19,
     "metadata": {},
     "output_type": "execute_result"
    }
   ],
   "source": [
    "np.sum(c0,axis=1)#==0"
   ]
  },
  {
   "cell_type": "code",
   "execution_count": null,
   "metadata": {},
   "outputs": [],
   "source": [
    "#终点出边和为0，入边和为1"
   ]
  },
  {
   "cell_type": "code",
   "execution_count": null,
   "metadata": {},
   "outputs": [],
   "source": [
    "##第n行和为0；第n列和为1"
   ]
  },
  {
   "cell_type": "code",
   "execution_count": 21,
   "metadata": {},
   "outputs": [
    {
     "data": {
      "text/plain": [
       "array([[[1],\n",
       "        [1],\n",
       "        [1],\n",
       "        [0]],\n",
       "\n",
       "       [[1],\n",
       "        [1],\n",
       "        [1],\n",
       "        [1]]])"
      ]
     },
     "execution_count": 21,
     "metadata": {},
     "output_type": "execute_result"
    }
   ],
   "source": [
    "rn=x2[:,-1,:,None]\n",
    "rn"
   ]
  },
  {
   "cell_type": "code",
   "execution_count": 22,
   "metadata": {},
   "outputs": [
    {
     "data": {
      "text/plain": [
       "array([[3],\n",
       "       [4]])"
      ]
     },
     "execution_count": 22,
     "metadata": {},
     "output_type": "execute_result"
    }
   ],
   "source": [
    "np.sum(rn,axis=1)#==0"
   ]
  },
  {
   "cell_type": "code",
   "execution_count": 23,
   "metadata": {},
   "outputs": [
    {
     "data": {
      "text/plain": [
       "array([[[1],\n",
       "        [1],\n",
       "        [0],\n",
       "        [0]],\n",
       "\n",
       "       [[0],\n",
       "        [0],\n",
       "        [1],\n",
       "        [1]]])"
      ]
     },
     "execution_count": 23,
     "metadata": {},
     "output_type": "execute_result"
    }
   ],
   "source": [
    "cn=x2[:,:,-1,None]\n",
    "cn"
   ]
  },
  {
   "cell_type": "code",
   "execution_count": 24,
   "metadata": {},
   "outputs": [
    {
     "data": {
      "text/plain": [
       "array([[2],\n",
       "       [2]])"
      ]
     },
     "execution_count": 24,
     "metadata": {},
     "output_type": "execute_result"
    }
   ],
   "source": [
    "np.sum(cn,axis=1)#==1"
   ]
  },
  {
   "cell_type": "code",
   "execution_count": 30,
   "metadata": {},
   "outputs": [],
   "source": [
    "res=np.array(\n",
    "[[0, 1, 0, 0, 0, 0, 0, 0, 0, 0,],\n",
    " [0, 0, 0, 0, 0, 1, 0, 0, 0, 0,],\n",
    " [0, 0, 0, 0, 0, 0, 0, 0, 0, 0,],\n",
    " [0, 0, 0, 0, 0, 0, 0, 0, 0, 0,],\n",
    " [0, 0, 0, 0, 0, 0, 0, 0, 0, 1,],\n",
    " [0, 0, 0, 0, 1, 0, 0, 0, 0, 0,],\n",
    " [0, 0, 0, 0, 0, 0, 0, 0, 0, 0,],\n",
    " [0, 0, 0, 0, 0, 0, 0, 0, 0, 0,],\n",
    " [0, 0, 0, 0, 0, 0, 0, 0, 0, 0,],\n",
    " [0, 0, 0, 0, 0, 0, 0, 0, 0, 0,],])"
   ]
  },
  {
   "cell_type": "code",
   "execution_count": 31,
   "metadata": {},
   "outputs": [
    {
     "data": {
      "text/plain": [
       "array([[0, 1, 0, 0, 0, 0, 0, 0, 0, 0],\n",
       "       [0, 0, 0, 0, 0, 1, 0, 0, 0, 0],\n",
       "       [0, 0, 0, 0, 0, 0, 0, 0, 0, 0],\n",
       "       [0, 0, 0, 0, 0, 0, 0, 0, 0, 0],\n",
       "       [0, 0, 0, 0, 0, 0, 0, 0, 0, 1],\n",
       "       [0, 0, 0, 0, 1, 0, 0, 0, 0, 0],\n",
       "       [0, 0, 0, 0, 0, 0, 0, 0, 0, 0],\n",
       "       [0, 0, 0, 0, 0, 0, 0, 0, 0, 0],\n",
       "       [0, 0, 0, 0, 0, 0, 0, 0, 0, 0],\n",
       "       [0, 0, 0, 0, 0, 0, 0, 0, 0, 0]])"
      ]
     },
     "execution_count": 31,
     "metadata": {},
     "output_type": "execute_result"
    }
   ],
   "source": [
    "res"
   ]
  },
  {
   "cell_type": "code",
   "execution_count": 37,
   "metadata": {},
   "outputs": [
    {
     "name": "stdout",
     "output_type": "stream",
     "text": [
      "0 1\n",
      "1 5\n",
      "4 9\n",
      "5 4\n"
     ]
    }
   ],
   "source": [
    "for i in range(10):\n",
    "    for j in range(10):\n",
    "        if res[i,j]>0:\n",
    "            print(i,j)"
   ]
  },
  {
   "cell_type": "code",
   "execution_count": null,
   "metadata": {},
   "outputs": [],
   "source": []
  },
  {
   "cell_type": "code",
   "execution_count": null,
   "metadata": {},
   "outputs": [],
   "source": []
  },
  {
   "cell_type": "code",
   "execution_count": null,
   "metadata": {},
   "outputs": [],
   "source": []
  },
  {
   "cell_type": "code",
   "execution_count": null,
   "metadata": {},
   "outputs": [],
   "source": []
  },
  {
   "cell_type": "code",
   "execution_count": 34,
   "metadata": {},
   "outputs": [],
   "source": [
    "# res2=[]\n",
    "# for i in range(2):\n",
    "#     x00=x2[i,:,:]\n",
    "#     res2.append(np.sum(x00,axis=1))"
   ]
  },
  {
   "cell_type": "raw",
   "metadata": {},
   "source": []
  },
  {
   "cell_type": "code",
   "execution_count": 36,
   "metadata": {},
   "outputs": [],
   "source": [
    "# res"
   ]
  },
  {
   "cell_type": "code",
   "execution_count": 37,
   "metadata": {},
   "outputs": [],
   "source": [
    "# res2"
   ]
  },
  {
   "cell_type": "code",
   "execution_count": 38,
   "metadata": {},
   "outputs": [],
   "source": [
    "# np.array(res)-np.array(res2)"
   ]
  },
  {
   "cell_type": "code",
   "execution_count": null,
   "metadata": {},
   "outputs": [],
   "source": []
  },
  {
   "cell_type": "code",
   "execution_count": 39,
   "metadata": {},
   "outputs": [
    {
     "data": {
      "text/plain": [
       "array([[3, 3, 1, 2],\n",
       "       [3, 1, 3, 1]])"
      ]
     },
     "execution_count": 39,
     "metadata": {},
     "output_type": "execute_result"
    }
   ],
   "source": [
    "#行和\n",
    "np.sum(x2,axis=2)"
   ]
  },
  {
   "cell_type": "code",
   "execution_count": 40,
   "metadata": {},
   "outputs": [
    {
     "data": {
      "text/plain": [
       "array([[3, 2, 1, 3],\n",
       "       [1, 3, 2, 2]])"
      ]
     },
     "execution_count": 40,
     "metadata": {},
     "output_type": "execute_result"
    }
   ],
   "source": [
    "#列和\n",
    "np.sum(x2,axis=1)"
   ]
  },
  {
   "cell_type": "code",
   "execution_count": null,
   "metadata": {},
   "outputs": [],
   "source": [
    "# 两个都去除第一列"
   ]
  },
  {
   "cell_type": "code",
   "execution_count": null,
   "metadata": {},
   "outputs": [],
   "source": []
  },
  {
   "cell_type": "code",
   "execution_count": null,
   "metadata": {},
   "outputs": [],
   "source": []
  },
  {
   "cell_type": "code",
   "execution_count": 41,
   "metadata": {},
   "outputs": [],
   "source": [
    "r2=x2[:,:,0,None]"
   ]
  },
  {
   "cell_type": "code",
   "execution_count": 42,
   "metadata": {},
   "outputs": [
    {
     "data": {
      "text/plain": [
       "array([[[1],\n",
       "        [1],\n",
       "        [0],\n",
       "        [1]],\n",
       "\n",
       "       [[0],\n",
       "        [0],\n",
       "        [1],\n",
       "        [0]]])"
      ]
     },
     "execution_count": 42,
     "metadata": {},
     "output_type": "execute_result"
    }
   ],
   "source": [
    "r2"
   ]
  },
  {
   "cell_type": "code",
   "execution_count": 43,
   "metadata": {},
   "outputs": [
    {
     "data": {
      "text/plain": [
       "array([[3],\n",
       "       [1]])"
      ]
     },
     "execution_count": 43,
     "metadata": {},
     "output_type": "execute_result"
    }
   ],
   "source": [
    "np.sum(r2,axis=1)"
   ]
  },
  {
   "cell_type": "code",
   "execution_count": 44,
   "metadata": {},
   "outputs": [],
   "source": [
    "r3=x2[:,0,:,None]"
   ]
  },
  {
   "cell_type": "code",
   "execution_count": 45,
   "metadata": {},
   "outputs": [
    {
     "data": {
      "text/plain": [
       "array([[[1],\n",
       "        [1],\n",
       "        [0],\n",
       "        [1]],\n",
       "\n",
       "       [[0],\n",
       "        [1],\n",
       "        [1],\n",
       "        [1]]])"
      ]
     },
     "execution_count": 45,
     "metadata": {},
     "output_type": "execute_result"
    }
   ],
   "source": [
    "r3"
   ]
  },
  {
   "cell_type": "code",
   "execution_count": 47,
   "metadata": {},
   "outputs": [
    {
     "data": {
      "text/plain": [
       "array([[3],\n",
       "       [3]])"
      ]
     },
     "execution_count": 47,
     "metadata": {},
     "output_type": "execute_result"
    }
   ],
   "source": [
    "np.sum(r3,axis=1)"
   ]
  },
  {
   "cell_type": "code",
   "execution_count": 49,
   "metadata": {},
   "outputs": [
    {
     "data": {
      "text/plain": [
       "array([[[ 0],\n",
       "        [ 0],\n",
       "        [-1],\n",
       "        [ 0]],\n",
       "\n",
       "       [[-1],\n",
       "        [ 0],\n",
       "        [ 0],\n",
       "        [ 0]]])"
      ]
     },
     "execution_count": 49,
     "metadata": {},
     "output_type": "execute_result"
    }
   ],
   "source": [
    "np.abs(r3)-1"
   ]
  },
  {
   "cell_type": "code",
   "execution_count": 54,
   "metadata": {},
   "outputs": [
    {
     "data": {
      "text/plain": [
       "array([[2],\n",
       "       [1]])"
      ]
     },
     "execution_count": 54,
     "metadata": {},
     "output_type": "execute_result"
    }
   ],
   "source": [
    "np.abs(np.sum(x2[:, -1, :, None], axis=1))"
   ]
  },
  {
   "cell_type": "code",
   "execution_count": 55,
   "metadata": {},
   "outputs": [
    {
     "data": {
      "text/plain": [
       "array([[3],\n",
       "       [2]])"
      ]
     },
     "execution_count": 55,
     "metadata": {},
     "output_type": "execute_result"
    }
   ],
   "source": [
    "np.abs(np.sum(x2[:,: , -1, None], axis=1) )"
   ]
  },
  {
   "cell_type": "code",
   "execution_count": 2,
   "metadata": {},
   "outputs": [],
   "source": [
    "nodes = [ [2, 3], [3, 4, 5], [5, 6], [7, 8], [4, 6], [7, 9], [8, 9], [9, 10], [10]]\n",
    "    "
   ]
  },
  {
   "cell_type": "code",
   "execution_count": 1,
   "metadata": {},
   "outputs": [],
   "source": [
    "import numpy as np\n",
    "import pandas as pd"
   ]
  },
  {
   "cell_type": "code",
   "execution_count": 2,
   "metadata": {},
   "outputs": [],
   "source": [
    "graph={\n",
    "    1:[[2,3],[394,150]],\n",
    "    2:[[5],[251]],\n",
    "    3:[[4],[113]],\n",
    "    4:[[5],[358]],\n",
    "    5:[[6],[357]],\n",
    "    6:[[7,8],[248,145]],\n",
    "    7:[[10],[252]],\n",
    "    8:[[9],[110]],\n",
    "    9:[[12],[299]],\n",
    "    10:[[11],[200]],\n",
    "    11:[[16],[396]],\n",
    "   12 :[[13],[113]],\n",
    "    13:[[14],[142]],\n",
    "    14:[[15,24,27],[80,760,170]],\n",
    "    15:[[16],[192]],\n",
    "    17:[[18,28],[179,159]],\n",
    "    18:[[19],[118]],\n",
    "    19:[[20],[143]],\n",
    "    20:[[21],[428]],\n",
    "    21:[[22],[97]],\n",
    "    22:[[23],[96]],\n",
    "    23:[[24],[172]],\n",
    "    24:[[25],[150]],\n",
    "    25:[[26,33],[106,244]],\n",
    "    26:[[27],[627]],\n",
    "    27:[[35],[286]],\n",
    "    28:[[29,37],[36,259]],\n",
    "    29:[[30],[68]],\n",
    "     30:[[31,38],[322,260]],\n",
    "    31:[[59],[87]],\n",
    "    32:[[33,59],[105,251]],\n",
    "    33:[[34],[78]],\n",
    "    34:[[35,43],[806,114]],\n",
    "    35:[[36],[59]],\n",
    "    36:[[53],[135]],\n",
    "    37:[[38],[109]],\n",
    "    38:[[39,40],[383,20]],\n",
    "    39:[[41],[49]],\n",
    "    40:[[45],[93]],\n",
    "    41:[[42,46],[231,112]],\n",
    "    42:[[44],[143]],\n",
    "    43:[[44],[117]],\n",
    "    44:[[47],[148]],\n",
    "    45:[[46],[387]],\n",
    "     46:[[47],[378]],\n",
    "    47:[[48,58],[239,278]],\n",
    "    48:[[49],[297]],\n",
    "    49:[[50],[201]],\n",
    "    50:[[51],[102]],\n",
    "    51:[[52,54],[72,209]],\n",
    "    52:[[53],[69]],\n",
    "    54:[[55],[156]],\n",
    "    55 :[[56],[234]],\n",
    "    56:[[57],[738]],\n",
    "    57:[[58],[194]],\n",
    "    \n",
    "}"
   ]
  },
  {
   "cell_type": "code",
   "execution_count": 3,
   "metadata": {},
   "outputs": [
    {
     "data": {
      "text/plain": [
       "{1: [[2, 3], [394, 150]],\n",
       " 2: [[5], [251]],\n",
       " 3: [[4], [113]],\n",
       " 4: [[5], [358]],\n",
       " 5: [[6], [357]],\n",
       " 6: [[7, 8], [248, 145]],\n",
       " 7: [[10], [252]],\n",
       " 8: [[9], [110]],\n",
       " 9: [[12], [299]],\n",
       " 10: [[11], [200]],\n",
       " 11: [[16], [396]],\n",
       " 12: [[13], [113]],\n",
       " 13: [[14], [142]],\n",
       " 14: [[15, 24, 27], [80, 760, 170]],\n",
       " 15: [[16], [192]],\n",
       " 17: [[18, 28], [179, 159]],\n",
       " 18: [[19], [118]],\n",
       " 19: [[20], [143]],\n",
       " 20: [[21], [428]],\n",
       " 21: [[22], [97]],\n",
       " 22: [[23], [96]],\n",
       " 23: [[24], [172]],\n",
       " 24: [[25], [150]],\n",
       " 25: [[26, 33], [106, 244]],\n",
       " 26: [[27], [627]],\n",
       " 27: [[35], [286]],\n",
       " 28: [[29, 37], [36, 259]],\n",
       " 29: [[30], [68]],\n",
       " 30: [[31, 38], [322, 260]],\n",
       " 31: [[59], [87]],\n",
       " 32: [[33, 59], [105, 251]],\n",
       " 33: [[34], [78]],\n",
       " 34: [[35, 43], [806, 114]],\n",
       " 35: [[36], [59]],\n",
       " 36: [[53], [135]],\n",
       " 37: [[38], [109]],\n",
       " 38: [[39, 40], [383, 20]],\n",
       " 39: [[41], [49]],\n",
       " 40: [[45], [93]],\n",
       " 41: [[42, 46], [231, 112]],\n",
       " 42: [[44], [143]],\n",
       " 43: [[44], [117]],\n",
       " 44: [[47], [148]],\n",
       " 45: [[46], [387]],\n",
       " 46: [[47], [378]],\n",
       " 47: [[48, 58], [239, 278]],\n",
       " 48: [[49], [297]],\n",
       " 49: [[50], [201]],\n",
       " 50: [[51], [102]],\n",
       " 51: [[52, 54], [72, 209]],\n",
       " 52: [[53], [69]],\n",
       " 54: [[55], [156]],\n",
       " 55: [[56], [234]],\n",
       " 56: [[57], [738]],\n",
       " 57: [[58], [194]]}"
      ]
     },
     "execution_count": 3,
     "metadata": {},
     "output_type": "execute_result"
    }
   ],
   "source": [
    "graph"
   ]
  },
  {
   "cell_type": "code",
   "execution_count": 4,
   "metadata": {},
   "outputs": [
    {
     "data": {
      "text/plain": [
       "[2, 3]"
      ]
     },
     "execution_count": 4,
     "metadata": {},
     "output_type": "execute_result"
    }
   ],
   "source": [
    "graph[1][0]"
   ]
  },
  {
   "cell_type": "code",
   "execution_count": 5,
   "metadata": {},
   "outputs": [
    {
     "data": {
      "text/plain": [
       "[394, 150]"
      ]
     },
     "execution_count": 5,
     "metadata": {},
     "output_type": "execute_result"
    }
   ],
   "source": [
    "\n",
    "graph[1][1]"
   ]
  },
  {
   "cell_type": "code",
   "execution_count": 3,
   "metadata": {},
   "outputs": [],
   "source": [
    "# ls"
   ]
  },
  {
   "cell_type": "code",
   "execution_count": 1,
   "metadata": {},
   "outputs": [],
   "source": [
    "import json\n",
    "#节点序号从零开始，索引和序号就相同\n",
    "with open('可达矩阵结果1.json') as f:\n",
    "        data_json=json.load(f)\n",
    "#         print(data)\n",
    "        nodes_amount=len(data_json)\n",
    "        "
   ]
  },
  {
   "cell_type": "code",
   "execution_count": 2,
   "metadata": {},
   "outputs": [
    {
     "data": {
      "text/plain": [
       "{'0': [[1, 2, 5], [1003.669, 560.926, 393.475]],\n",
       " '1': [[0, 3], [1003.669, 385.485]],\n",
       " '2': [[4, 0, 19], [378.977, 560.926, 1505.925]],\n",
       " '3': [[5, 1, 10], [992.626, 385.485, 326.239]],\n",
       " '4': [[5, 2], [341.379, 378.977]],\n",
       " '5': [[4, 3, 0, 8], [341.379, 992.626, 393.475, 285.505]],\n",
       " '6': [[22], [1728.659]],\n",
       " '7': [[14, 8], [323.511, 387.877]],\n",
       " '8': [[9, 5, 7], [468.571, 285.505, 387.877]],\n",
       " '9': [[8, 13, 10], [468.571, 231.991, 494.969]],\n",
       " '10': [[3, 9, 11], [326.239, 494.969, 203.838]],\n",
       " '11': [[12, 10], [323.326, 203.838]],\n",
       " '12': [[11, 17, 13], [323.326, 617.804, 95.572]],\n",
       " '13': [[14, 9, 12], [864.251, 231.991, 95.572]],\n",
       " '14': [[13, 7, 16], [864.251, 323.511, 492.093]],\n",
       " '15': [[18], [643.609]],\n",
       " '16': [[17, 20, 14], [844.263, 337.114, 492.093]],\n",
       " '17': [[16, 12, 21], [844.263, 617.804, 331.594]],\n",
       " '18': [[22, 15, 19], [746.898, 643.609, 220.758]],\n",
       " '19': [[2, 20, 18, 23], [1505.925, 448.873, 220.758, 750.75]],\n",
       " '20': [[19, 21, 16, 25], [448.873, 787.453, 337.114, 758.19]],\n",
       " '21': [[17, 20, 28], [331.594, 787.453, 884.083]],\n",
       " '22': [[18, 6, 23], [746.898, 1728.659, 191.976]],\n",
       " '23': [[29, 19, 22], [1178.264, 750.75, 191.976]],\n",
       " '24': [[25], [863.074]],\n",
       " '25': [[24, 20, 27], [863.074, 758.19, 117.493]],\n",
       " '26': [[27], [470.473]],\n",
       " '27': [[31, 26, 28, 25], [711.023, 470.473, 664.968, 117.493]],\n",
       " '28': [[30, 21, 27], [667.621, 884.083, 664.968]],\n",
       " '29': [[23], [1178.264]],\n",
       " '30': [[31, 28, 32], [667.02, 667.621, 618.591]],\n",
       " '31': [[27, 30, 33], [711.023, 667.02, 635.97]],\n",
       " '32': [[30], [618.591]],\n",
       " '33': [[31], [635.97]]}"
      ]
     },
     "execution_count": 2,
     "metadata": {},
     "output_type": "execute_result"
    }
   ],
   "source": [
    "data_json"
   ]
  },
  {
   "cell_type": "code",
   "execution_count": 3,
   "metadata": {},
   "outputs": [
    {
     "data": {
      "text/plain": [
       "34"
      ]
     },
     "execution_count": 3,
     "metadata": {},
     "output_type": "execute_result"
    }
   ],
   "source": [
    "nodes_amount"
   ]
  },
  {
   "cell_type": "code",
   "execution_count": 37,
   "metadata": {},
   "outputs": [],
   "source": [
    "row=[]\n",
    "col=[]\n",
    "data=[]\n",
    "MSF_data=[]\n",
    "FHV_data=[]\n",
    "FD_data=[]\n",
    "FW_data=[]\n",
    "FF_data=[]\n",
    "# MSF[distance>0]=420\n",
    "# FHV[distance>0]=0.333\n",
    "# FD[distance>0]=0.97\n",
    "# FW==1\n",
    "# FF[distance>0]=0.95\n",
    "for node_1,v in data_json.items():\n",
    "    \n",
    "    next_node_list=v[0]\n",
    "    weight_list=v[1]\n",
    "#     print(node_1,next_node_list,weight_list)\n",
    "    for next_node,weight in zip(next_node_list,weight_list):\n",
    "        row.append(node_1)\n",
    "        col.append(next_node)\n",
    "#         print(next_node,weight)\n",
    "        data.append(weight)\n",
    "        MSF_data.append(420)\n",
    "        FHV_data.append(0.333)\n",
    "        FD_data.append(0.97)\n",
    "        FW_data.append(0.84)\n",
    "        FF_data.append(0.95)"
   ]
  },
  {
   "cell_type": "code",
   "execution_count": 38,
   "metadata": {},
   "outputs": [],
   "source": [
    "# row"
   ]
  },
  {
   "cell_type": "code",
   "execution_count": 39,
   "metadata": {},
   "outputs": [],
   "source": [
    "# col"
   ]
  },
  {
   "cell_type": "code",
   "execution_count": 40,
   "metadata": {},
   "outputs": [
    {
     "data": {
      "text/plain": [
       "88"
      ]
     },
     "execution_count": 40,
     "metadata": {},
     "output_type": "execute_result"
    }
   ],
   "source": [
    "len(row)"
   ]
  },
  {
   "cell_type": "code",
   "execution_count": 41,
   "metadata": {},
   "outputs": [
    {
     "data": {
      "text/plain": [
       "88"
      ]
     },
     "execution_count": 41,
     "metadata": {},
     "output_type": "execute_result"
    }
   ],
   "source": [
    "len(col)"
   ]
  },
  {
   "cell_type": "code",
   "execution_count": 42,
   "metadata": {},
   "outputs": [],
   "source": [
    "m = sparse.csc_matrix((data, (row, col)), shape=(nodes_amount, nodes_amount))\n",
    "MSF=sparse.csc_matrix((MSF_data, (row, col)), shape=(nodes_amount, nodes_amount))\n",
    "FHV=sparse.csc_matrix((FHV_data, (row, col)), shape=(nodes_amount, nodes_amount))\n",
    "FD=sparse.csc_matrix((FD_data, (row, col)), shape=(nodes_amount, nodes_amount))\n",
    "FW=sparse.csc_matrix((FW_data, (row, col)), shape=(nodes_amount, nodes_amount))\n",
    "FF=sparse.csc_matrix((FF_data, (row, col)), shape=(nodes_amount, nodes_amount))\n",
    "\n",
    "\n",
    "\n"
   ]
  },
  {
   "cell_type": "code",
   "execution_count": 43,
   "metadata": {},
   "outputs": [],
   "source": [
    "import pandas as pd"
   ]
  },
  {
   "cell_type": "code",
   "execution_count": 44,
   "metadata": {},
   "outputs": [],
   "source": [
    "distance=pd.SparseDataFrame(data=m).to_dense()\n",
    "MSF=pd.SparseDataFrame(data=MSF).to_dense()\n",
    "FHV=pd.SparseDataFrame(data=FHV).to_dense()\n",
    "FD=pd.SparseDataFrame(data=FD).to_dense()\n",
    "FW=pd.SparseDataFrame(data=FW).to_dense()\n",
    "FF=pd.SparseDataFrame(data=FF).to_dense()"
   ]
  },
  {
   "cell_type": "code",
   "execution_count": 45,
   "metadata": {},
   "outputs": [
    {
     "data": {
      "text/html": [
       "<div>\n",
       "<style scoped>\n",
       "    .dataframe tbody tr th:only-of-type {\n",
       "        vertical-align: middle;\n",
       "    }\n",
       "\n",
       "    .dataframe tbody tr th {\n",
       "        vertical-align: top;\n",
       "    }\n",
       "\n",
       "    .dataframe thead th {\n",
       "        text-align: right;\n",
       "    }\n",
       "</style>\n",
       "<table border=\"1\" class=\"dataframe\">\n",
       "  <thead>\n",
       "    <tr style=\"text-align: right;\">\n",
       "      <th></th>\n",
       "      <th>0</th>\n",
       "      <th>1</th>\n",
       "      <th>2</th>\n",
       "      <th>3</th>\n",
       "      <th>4</th>\n",
       "      <th>5</th>\n",
       "      <th>6</th>\n",
       "      <th>7</th>\n",
       "      <th>8</th>\n",
       "      <th>9</th>\n",
       "      <th>...</th>\n",
       "      <th>24</th>\n",
       "      <th>25</th>\n",
       "      <th>26</th>\n",
       "      <th>27</th>\n",
       "      <th>28</th>\n",
       "      <th>29</th>\n",
       "      <th>30</th>\n",
       "      <th>31</th>\n",
       "      <th>32</th>\n",
       "      <th>33</th>\n",
       "    </tr>\n",
       "  </thead>\n",
       "  <tbody>\n",
       "    <tr>\n",
       "      <th>0</th>\n",
       "      <td>NaN</td>\n",
       "      <td>1003.669</td>\n",
       "      <td>560.926</td>\n",
       "      <td>NaN</td>\n",
       "      <td>NaN</td>\n",
       "      <td>393.475</td>\n",
       "      <td>NaN</td>\n",
       "      <td>NaN</td>\n",
       "      <td>NaN</td>\n",
       "      <td>NaN</td>\n",
       "      <td>...</td>\n",
       "      <td>NaN</td>\n",
       "      <td>NaN</td>\n",
       "      <td>NaN</td>\n",
       "      <td>NaN</td>\n",
       "      <td>NaN</td>\n",
       "      <td>NaN</td>\n",
       "      <td>NaN</td>\n",
       "      <td>NaN</td>\n",
       "      <td>NaN</td>\n",
       "      <td>NaN</td>\n",
       "    </tr>\n",
       "    <tr>\n",
       "      <th>1</th>\n",
       "      <td>1003.669</td>\n",
       "      <td>NaN</td>\n",
       "      <td>NaN</td>\n",
       "      <td>385.485</td>\n",
       "      <td>NaN</td>\n",
       "      <td>NaN</td>\n",
       "      <td>NaN</td>\n",
       "      <td>NaN</td>\n",
       "      <td>NaN</td>\n",
       "      <td>NaN</td>\n",
       "      <td>...</td>\n",
       "      <td>NaN</td>\n",
       "      <td>NaN</td>\n",
       "      <td>NaN</td>\n",
       "      <td>NaN</td>\n",
       "      <td>NaN</td>\n",
       "      <td>NaN</td>\n",
       "      <td>NaN</td>\n",
       "      <td>NaN</td>\n",
       "      <td>NaN</td>\n",
       "      <td>NaN</td>\n",
       "    </tr>\n",
       "    <tr>\n",
       "      <th>2</th>\n",
       "      <td>560.926</td>\n",
       "      <td>NaN</td>\n",
       "      <td>NaN</td>\n",
       "      <td>NaN</td>\n",
       "      <td>378.977</td>\n",
       "      <td>NaN</td>\n",
       "      <td>NaN</td>\n",
       "      <td>NaN</td>\n",
       "      <td>NaN</td>\n",
       "      <td>NaN</td>\n",
       "      <td>...</td>\n",
       "      <td>NaN</td>\n",
       "      <td>NaN</td>\n",
       "      <td>NaN</td>\n",
       "      <td>NaN</td>\n",
       "      <td>NaN</td>\n",
       "      <td>NaN</td>\n",
       "      <td>NaN</td>\n",
       "      <td>NaN</td>\n",
       "      <td>NaN</td>\n",
       "      <td>NaN</td>\n",
       "    </tr>\n",
       "    <tr>\n",
       "      <th>3</th>\n",
       "      <td>NaN</td>\n",
       "      <td>385.485</td>\n",
       "      <td>NaN</td>\n",
       "      <td>NaN</td>\n",
       "      <td>NaN</td>\n",
       "      <td>992.626</td>\n",
       "      <td>NaN</td>\n",
       "      <td>NaN</td>\n",
       "      <td>NaN</td>\n",
       "      <td>NaN</td>\n",
       "      <td>...</td>\n",
       "      <td>NaN</td>\n",
       "      <td>NaN</td>\n",
       "      <td>NaN</td>\n",
       "      <td>NaN</td>\n",
       "      <td>NaN</td>\n",
       "      <td>NaN</td>\n",
       "      <td>NaN</td>\n",
       "      <td>NaN</td>\n",
       "      <td>NaN</td>\n",
       "      <td>NaN</td>\n",
       "    </tr>\n",
       "    <tr>\n",
       "      <th>4</th>\n",
       "      <td>NaN</td>\n",
       "      <td>NaN</td>\n",
       "      <td>378.977</td>\n",
       "      <td>NaN</td>\n",
       "      <td>NaN</td>\n",
       "      <td>341.379</td>\n",
       "      <td>NaN</td>\n",
       "      <td>NaN</td>\n",
       "      <td>NaN</td>\n",
       "      <td>NaN</td>\n",
       "      <td>...</td>\n",
       "      <td>NaN</td>\n",
       "      <td>NaN</td>\n",
       "      <td>NaN</td>\n",
       "      <td>NaN</td>\n",
       "      <td>NaN</td>\n",
       "      <td>NaN</td>\n",
       "      <td>NaN</td>\n",
       "      <td>NaN</td>\n",
       "      <td>NaN</td>\n",
       "      <td>NaN</td>\n",
       "    </tr>\n",
       "  </tbody>\n",
       "</table>\n",
       "<p>5 rows × 34 columns</p>\n",
       "</div>"
      ],
      "text/plain": [
       "         0         1        2        3        4        5   6   7   8   9   \\\n",
       "0       NaN  1003.669  560.926      NaN      NaN  393.475 NaN NaN NaN NaN   \n",
       "1  1003.669       NaN      NaN  385.485      NaN      NaN NaN NaN NaN NaN   \n",
       "2   560.926       NaN      NaN      NaN  378.977      NaN NaN NaN NaN NaN   \n",
       "3       NaN   385.485      NaN      NaN      NaN  992.626 NaN NaN NaN NaN   \n",
       "4       NaN       NaN  378.977      NaN      NaN  341.379 NaN NaN NaN NaN   \n",
       "\n",
       "   ...  24  25  26  27  28  29  30  31  32  33  \n",
       "0  ... NaN NaN NaN NaN NaN NaN NaN NaN NaN NaN  \n",
       "1  ... NaN NaN NaN NaN NaN NaN NaN NaN NaN NaN  \n",
       "2  ... NaN NaN NaN NaN NaN NaN NaN NaN NaN NaN  \n",
       "3  ... NaN NaN NaN NaN NaN NaN NaN NaN NaN NaN  \n",
       "4  ... NaN NaN NaN NaN NaN NaN NaN NaN NaN NaN  \n",
       "\n",
       "[5 rows x 34 columns]"
      ]
     },
     "execution_count": 45,
     "metadata": {},
     "output_type": "execute_result"
    }
   ],
   "source": [
    "distance.head()"
   ]
  },
  {
   "cell_type": "code",
   "execution_count": 46,
   "metadata": {},
   "outputs": [],
   "source": [
    "distance.to_csv('distance1.csv',index=False,header=None)\n",
    "MSF.to_csv('MSF1.csv',index=False,header=None)\n",
    "FHV.to_csv('FHV1.csv',index=False,header=None)\n",
    "FD.to_csv('FD1.csv',index=False,header=None)\n",
    "FW.to_csv('FW1.csv',index=False,header=None)\n",
    "FF.to_csv('FF1.csv',index=False,header=None)"
   ]
  },
  {
   "cell_type": "code",
   "execution_count": null,
   "metadata": {},
   "outputs": [],
   "source": []
  },
  {
   "cell_type": "code",
   "execution_count": null,
   "metadata": {},
   "outputs": [],
   "source": []
  },
  {
   "cell_type": "code",
   "execution_count": null,
   "metadata": {},
   "outputs": [],
   "source": []
  },
  {
   "cell_type": "code",
   "execution_count": 107,
   "metadata": {},
   "outputs": [],
   "source": [
    "for i in range(nodes_amount):\n",
    "    for j in range(nodes_amount):\n",
    "        if m[i,j]!=m[j,i]:\n",
    "            print(m[i,j],m[j,i])\n",
    "            break"
   ]
  },
  {
   "cell_type": "code",
   "execution_count": 20,
   "metadata": {},
   "outputs": [
    {
     "data": {
      "text/plain": [
       "0.0"
      ]
     },
     "execution_count": 20,
     "metadata": {},
     "output_type": "execute_result"
    }
   ],
   "source": [
    "m[20,17]"
   ]
  },
  {
   "cell_type": "code",
   "execution_count": 112,
   "metadata": {},
   "outputs": [
    {
     "data": {
      "text/plain": [
       "912.8402411397454"
      ]
     },
     "execution_count": 112,
     "metadata": {},
     "output_type": "execute_result"
    }
   ],
   "source": [
    "m[17,20]"
   ]
  },
  {
   "cell_type": "code",
   "execution_count": 105,
   "metadata": {},
   "outputs": [
    {
     "data": {
      "text/plain": [
       "(33, 33)"
      ]
     },
     "execution_count": 105,
     "metadata": {},
     "output_type": "execute_result"
    }
   ],
   "source": [
    "m.shape"
   ]
  },
  {
   "cell_type": "code",
   "execution_count": 90,
   "metadata": {},
   "outputs": [
    {
     "data": {
      "text/plain": [
       "matrix([[ 143.55366415,  577.42923191,  816.08999375,  868.70225948,\n",
       "          480.72628251, 1229.06774948,  128.727783  ,  463.03259198,\n",
       "          998.69439002, 1838.3051602 , 1218.13132864,  365.75524475,\n",
       "          466.75711245,  128.727783  ,  418.96391472,  928.53586038,\n",
       "         1747.76248325,  480.72628251, 1218.13132864,  418.96391472,\n",
       "          348.81458496, 2103.56072041,  463.03259198,  476.0306985 ,\n",
       "          395.26601694,  348.81458496,  476.0306985 ,  575.03794492,\n",
       "          575.03794492,  607.40272503,  283.41877214,  365.75524475,\n",
       "          607.40272503,  562.58115125,  562.58115125,  117.18990239,\n",
       "          754.88388485,  283.41877214,  117.18990239, 1060.59946619,\n",
       "          395.26601694, 1060.59946619,  601.24070556,  998.69439002,\n",
       "          928.53586038,  784.12825173,  871.9568033 ,  601.24070556,\n",
       "         1035.24898715,  411.88763547,  754.88388485, 1035.24898715,\n",
       "          405.18129121,  784.12825173,  270.57465746,  912.84024114,\n",
       "         1838.3051602 , 1747.76248325,  871.9568033 ,  270.57465746,\n",
       "          917.87223979,  527.61531303,  405.18129121, 1079.33749229,\n",
       "          966.40299419, 2103.56072041,  912.84024114,  235.28050756,\n",
       "          917.87223979,  235.28050756, 1426.58929434, 1059.30668156,\n",
       "          143.55366415, 1059.30668156,  926.36243354,  577.42923191,\n",
       "          816.08999375, 1079.33749229,  809.00971583, 1426.58929434,\n",
       "          809.00971583,  761.88622695,  755.74938506,  868.70225948,\n",
       "          761.88622695,  777.03339523,  755.74938506,  777.03339523,\n",
       "          411.88763547,  527.61531303,  966.40299419,  926.36243354,\n",
       "         1229.06774948,  466.75711245]])"
      ]
     },
     "execution_count": 90,
     "metadata": {},
     "output_type": "execute_result"
    }
   ],
   "source": [
    "m[m>0]"
   ]
  },
  {
   "cell_type": "code",
   "execution_count": 106,
   "metadata": {},
   "outputs": [
    {
     "data": {
      "text/plain": [
       "array([[0.  , 0.  , 0.  , 0.  , 0.  , 0.  , 0.  , 0.  , 0.  , 0.  ],\n",
       "       [0.  , 0.  , 0.  , 0.  , 0.  , 0.95, 0.  , 0.  , 0.  , 0.  ],\n",
       "       [0.  , 0.  , 0.  , 0.  , 0.95, 0.  , 0.  , 0.95, 0.  , 0.  ],\n",
       "       [0.  , 0.  , 0.  , 0.  , 0.  , 0.95, 0.  , 0.  , 0.  , 0.  ],\n",
       "       [0.  , 0.  , 0.95, 0.  , 0.  , 0.95, 0.  , 0.  , 0.  , 0.  ],\n",
       "       [0.  , 0.95, 0.  , 0.95, 0.95, 0.  , 0.  , 0.  , 0.95, 0.  ],\n",
       "       [0.  , 0.  , 0.  , 0.  , 0.  , 0.  , 0.  , 0.  , 0.  , 0.  ],\n",
       "       [0.  , 0.  , 0.95, 0.  , 0.  , 0.  , 0.  , 0.  , 0.95, 0.  ],\n",
       "       [0.  , 0.  , 0.  , 0.  , 0.  , 0.95, 0.  , 0.95, 0.  , 0.95],\n",
       "       [0.  , 0.  , 0.  , 0.  , 0.  , 0.  , 0.  , 0.  , 0.95, 0.  ]])"
      ]
     },
     "execution_count": 106,
     "metadata": {},
     "output_type": "execute_result"
    }
   ],
   "source": [
    "FF[0:10,0:10].toarray()"
   ]
  },
  {
   "cell_type": "code",
   "execution_count": 88,
   "metadata": {},
   "outputs": [
    {
     "data": {
      "text/plain": [
       "array([[   0.        ,    0.        ,    0.        ,    0.        ,\n",
       "           0.        ,    0.        ,    0.        ,    0.        ,\n",
       "           0.        ,    0.        ],\n",
       "       [   0.        ,    0.        ,    0.        ,    0.        ,\n",
       "           0.        ,  480.72628251,    0.        ,    0.        ,\n",
       "           0.        ,    0.        ],\n",
       "       [   0.        ,    0.        ,    0.        ,    0.        ,\n",
       "         128.727783  ,    0.        ,    0.        ,  463.03259198,\n",
       "           0.        ,    0.        ],\n",
       "       [   0.        ,    0.        ,    0.        ,    0.        ,\n",
       "           0.        , 1218.13132864,    0.        ,    0.        ,\n",
       "           0.        ,    0.        ],\n",
       "       [   0.        ,    0.        ,  128.727783  ,    0.        ,\n",
       "           0.        ,  418.96391472,    0.        ,    0.        ,\n",
       "           0.        ,    0.        ],\n",
       "       [   0.        ,  480.72628251,    0.        , 1218.13132864,\n",
       "         418.96391472,    0.        ,    0.        ,    0.        ,\n",
       "         348.81458496,    0.        ],\n",
       "       [   0.        ,    0.        ,    0.        ,    0.        ,\n",
       "           0.        ,    0.        ,    0.        ,    0.        ,\n",
       "           0.        ,    0.        ],\n",
       "       [   0.        ,    0.        ,  463.03259198,    0.        ,\n",
       "           0.        ,    0.        ,    0.        ,    0.        ,\n",
       "         476.0306985 ,    0.        ],\n",
       "       [   0.        ,    0.        ,    0.        ,    0.        ,\n",
       "           0.        ,  348.81458496,    0.        ,  476.0306985 ,\n",
       "           0.        ,  575.03794492],\n",
       "       [   0.        ,    0.        ,    0.        ,    0.        ,\n",
       "           0.        ,    0.        ,    0.        ,    0.        ,\n",
       "         575.03794492,    0.        ]])"
      ]
     },
     "execution_count": 88,
     "metadata": {},
     "output_type": "execute_result"
    }
   ],
   "source": [
    "m[0:10,0:10].toarray()"
   ]
  },
  {
   "cell_type": "code",
   "execution_count": 12,
   "metadata": {},
   "outputs": [
    {
     "data": {
      "text/plain": [
       "<4x4 sparse matrix of type '<class 'numpy.intc'>'\n",
       "\twith 4 stored elements in Compressed Sparse Column format>"
      ]
     },
     "execution_count": 12,
     "metadata": {},
     "output_type": "execute_result"
    }
   ],
   "source": [
    "from scipy import sparse\n",
    "row = [0, 1, 2, 2]\n",
    "col = [0, 1, 2, 3]\n",
    "data = [1, 2, 3, 4]\n",
    "m = sparse.csc_matrix((data, (row, col)), shape=(4, 4))\n",
    "m\n"
   ]
  },
  {
   "cell_type": "code",
   "execution_count": 41,
   "metadata": {},
   "outputs": [
    {
     "data": {
      "text/plain": [
       "1"
      ]
     },
     "execution_count": 41,
     "metadata": {},
     "output_type": "execute_result"
    }
   ],
   "source": [
    "m[0,0]"
   ]
  },
  {
   "cell_type": "code",
   "execution_count": 10,
   "metadata": {},
   "outputs": [
    {
     "name": "stdout",
     "output_type": "stream",
     "text": [
      "  (0, 0)\t1\n",
      "  (2, 0)\t3\n",
      "  (3, 0)\t1\n",
      "  (0, 2)\t2\n",
      "  (3, 3)\t4\n"
     ]
    }
   ],
   "source": [
    "import numpy as np\n",
    "\n",
    "import scipy.sparse as sp\n",
    "\n",
    "A=np.array([[1,0,2,0],[0,0,0,0],[3,0,0,0],[1,0,0,4]])\n",
    "\n",
    "AS=sp.csc_matrix(A)\n",
    "\n",
    "print(AS)\n",
    "\n",
    "# print(AS.data)\n",
    "\n",
    "# print(AS.indptr)\n",
    "\n",
    "# print(AS.indices)\n",
    "\n",
    "# print(AS.nnz)    #运行结果：\n",
    "\n",
    "# [1 3 1 2 4]\n",
    "\n",
    "# [0 3 3 4 5]     #注意此处，同一矩阵CSR格式的indptr为[0 2 2 3 5]\n",
    "\n",
    "# [0 2 3 0 3]\n",
    "\n",
    "# 5"
   ]
  },
  {
   "cell_type": "code",
   "execution_count": 18,
   "metadata": {},
   "outputs": [],
   "source": [
    "AS[0,0]=10"
   ]
  },
  {
   "cell_type": "code",
   "execution_count": 28,
   "metadata": {},
   "outputs": [
    {
     "name": "stdout",
     "output_type": "stream",
     "text": [
      "[[10  0  2]\n",
      " [ 0  0  0]\n",
      " [ 3  0  0]]\n"
     ]
    }
   ],
   "source": [
    "print(AS[0:3,0:3].toarray())"
   ]
  },
  {
   "cell_type": "code",
   "execution_count": 34,
   "metadata": {},
   "outputs": [
    {
     "data": {
      "text/plain": [
       "matrix([[1, 0, 4],\n",
       "        [0, 0, 5],\n",
       "        [2, 3, 6]], dtype=int32)"
      ]
     },
     "execution_count": 34,
     "metadata": {},
     "output_type": "execute_result"
    }
   ],
   "source": [
    "from numpy import array\n",
    "row = array([0,2,2,0,1,2])\n",
    "col = array([0,0,1,2,2,2])\n",
    "data = array([1,2,3,4,5,6])\n",
    "dd=sp.csc_matrix( (data,(row,col)), shape=(3,3) ).todense()\n",
    "dd"
   ]
  },
  {
   "cell_type": "code",
   "execution_count": 35,
   "metadata": {},
   "outputs": [],
   "source": [
    "dd[0,0]=10"
   ]
  },
  {
   "cell_type": "code",
   "execution_count": 36,
   "metadata": {},
   "outputs": [
    {
     "data": {
      "text/plain": [
       "10"
      ]
     },
     "execution_count": 36,
     "metadata": {},
     "output_type": "execute_result"
    }
   ],
   "source": [
    "dd[0,0]"
   ]
  },
  {
   "cell_type": "code",
   "execution_count": 6,
   "metadata": {},
   "outputs": [],
   "source": [
    "distance=np.zeros((59,59))"
   ]
  },
  {
   "cell_type": "code",
   "execution_count": 7,
   "metadata": {},
   "outputs": [
    {
     "data": {
      "text/plain": [
       "array([[0., 0., 0., ..., 0., 0., 0.],\n",
       "       [0., 0., 0., ..., 0., 0., 0.],\n",
       "       [0., 0., 0., ..., 0., 0., 0.],\n",
       "       ...,\n",
       "       [0., 0., 0., ..., 0., 0., 0.],\n",
       "       [0., 0., 0., ..., 0., 0., 0.],\n",
       "       [0., 0., 0., ..., 0., 0., 0.]])"
      ]
     },
     "execution_count": 7,
     "metadata": {},
     "output_type": "execute_result"
    }
   ],
   "source": [
    "distance"
   ]
  },
  {
   "cell_type": "code",
   "execution_count": 8,
   "metadata": {},
   "outputs": [],
   "source": [
    "for node_1,v in graph.items():\n",
    "    next_node_list=v[0]\n",
    "    weight_list=v[1]\n",
    "#     print(node_1,next_node_list,weight_list)\n",
    "    for next_node,weight in zip(next_node_list,weight_list):\n",
    "#         print(next_node,weight)\n",
    "        distance[node_1-1,next_node-1]=weight\n",
    "        \n",
    "    "
   ]
  },
  {
   "cell_type": "code",
   "execution_count": 9,
   "metadata": {},
   "outputs": [],
   "source": [
    "dim=59\n",
    "for i in range(dim):\n",
    "    for j in range(dim):\n",
    "        if i>j:\n",
    "            distance[i,j]=distance[j,i]"
   ]
  },
  {
   "cell_type": "code",
   "execution_count": 10,
   "metadata": {},
   "outputs": [],
   "source": [
    "import pandas as pd\n",
    "df=pd.DataFrame(data=distance)"
   ]
  },
  {
   "cell_type": "code",
   "execution_count": 11,
   "metadata": {},
   "outputs": [],
   "source": [
    "df.to_csv('distance.csv',index=False,header=None)"
   ]
  },
  {
   "cell_type": "code",
   "execution_count": 12,
   "metadata": {},
   "outputs": [
    {
     "data": {
      "text/plain": [
       "array([[False,  True,  True, ..., False, False, False],\n",
       "       [ True, False, False, ..., False, False, False],\n",
       "       [ True, False, False, ..., False, False, False],\n",
       "       ...,\n",
       "       [False, False, False, ..., False,  True, False],\n",
       "       [False, False, False, ...,  True, False, False],\n",
       "       [False, False, False, ..., False, False, False]])"
      ]
     },
     "execution_count": 12,
     "metadata": {},
     "output_type": "execute_result"
    }
   ],
   "source": [
    "distance>0"
   ]
  },
  {
   "cell_type": "code",
   "execution_count": 13,
   "metadata": {},
   "outputs": [
    {
     "data": {
      "text/plain": [
       "\"\\nMSF=pd.read_excel(path,'MSF（最大服务交通量）').iloc[:,1:]#,'B2:K11');#读取路段的最大服务交通量\\nFHV=pd.read_excel(path,'FHV（交通组成修正系数）').iloc[:,1:]#,'B2:K11');#读取交通组成修正系数\\nFD=pd.read_excel(path,'FD（方向分布系数）').iloc[:,1:]#,'B2:K11');  #读取方向分布修正系数\\nFW=pd.read_excel(path,'FW（宽度修正系数）').iloc[:,1:]#,'B2:K11');  #读取车道宽度、路肩宽度修正系数\\nFF=pd\\n\""
      ]
     },
     "execution_count": 13,
     "metadata": {},
     "output_type": "execute_result"
    }
   ],
   "source": [
    "'''\n",
    "MSF=pd.read_excel(path,'MSF（最大服务交通量）').iloc[:,1:]#,'B2:K11');#读取路段的最大服务交通量\n",
    "FHV=pd.read_excel(path,'FHV（交通组成修正系数）').iloc[:,1:]#,'B2:K11');#读取交通组成修正系数\n",
    "FD=pd.read_excel(path,'FD（方向分布系数）').iloc[:,1:]#,'B2:K11');  #读取方向分布修正系数\n",
    "FW=pd.read_excel(path,'FW（宽度修正系数）').iloc[:,1:]#,'B2:K11');  #读取车道宽度、路肩宽度修正系数\n",
    "FF=pd\n",
    "'''"
   ]
  },
  {
   "cell_type": "code",
   "execution_count": 14,
   "metadata": {},
   "outputs": [
    {
     "data": {
      "text/plain": [
       "array([[  1., 420., 420., ...,   1.,   1.,   1.],\n",
       "       [420.,   1.,   1., ...,   1.,   1.,   1.],\n",
       "       [420.,   1.,   1., ...,   1.,   1.,   1.],\n",
       "       ...,\n",
       "       [  1.,   1.,   1., ...,   1., 420.,   1.],\n",
       "       [  1.,   1.,   1., ..., 420.,   1.,   1.],\n",
       "       [  1.,   1.,   1., ...,   1.,   1.,   1.]])"
      ]
     },
     "execution_count": 14,
     "metadata": {},
     "output_type": "execute_result"
    }
   ],
   "source": [
    "MSF=np.ones((dim,dim))\n",
    "MSF[distance>0]=420\n",
    "MSF"
   ]
  },
  {
   "cell_type": "code",
   "execution_count": 11,
   "metadata": {},
   "outputs": [
    {
     "data": {
      "text/plain": [
       "array([[1.   , 0.333, 0.333, ..., 1.   , 1.   , 1.   ],\n",
       "       [0.333, 1.   , 1.   , ..., 1.   , 1.   , 1.   ],\n",
       "       [0.333, 1.   , 1.   , ..., 1.   , 1.   , 1.   ],\n",
       "       ...,\n",
       "       [1.   , 1.   , 1.   , ..., 1.   , 0.333, 1.   ],\n",
       "       [1.   , 1.   , 1.   , ..., 0.333, 1.   , 1.   ],\n",
       "       [1.   , 1.   , 1.   , ..., 1.   , 1.   , 1.   ]])"
      ]
     },
     "execution_count": 11,
     "metadata": {},
     "output_type": "execute_result"
    }
   ],
   "source": [
    "FHV=np.ones((dim,dim))\n",
    "# MSF[distance>0]=420\n",
    "FHV[distance>0]=0.333\n",
    "FHV"
   ]
  },
  {
   "cell_type": "code",
   "execution_count": 15,
   "metadata": {},
   "outputs": [
    {
     "data": {
      "text/plain": [
       "array([[1.  , 0.97, 0.97, ..., 1.  , 1.  , 1.  ],\n",
       "       [0.97, 1.  , 1.  , ..., 1.  , 1.  , 1.  ],\n",
       "       [0.97, 1.  , 1.  , ..., 1.  , 1.  , 1.  ],\n",
       "       ...,\n",
       "       [1.  , 1.  , 1.  , ..., 1.  , 0.97, 1.  ],\n",
       "       [1.  , 1.  , 1.  , ..., 0.97, 1.  , 1.  ],\n",
       "       [1.  , 1.  , 1.  , ..., 1.  , 1.  , 1.  ]])"
      ]
     },
     "execution_count": 15,
     "metadata": {},
     "output_type": "execute_result"
    }
   ],
   "source": [
    "FD=np.ones((dim,dim))\n",
    "# MSF[distance>0]=420\n",
    "# FHV[distance>0]=0.333\n",
    "FD[distance>0]=0.97\n",
    "FD"
   ]
  },
  {
   "cell_type": "code",
   "execution_count": null,
   "metadata": {},
   "outputs": [],
   "source": [
    "# MSF[distance>0]=420\n",
    "# FHV[distance>0]=0.333\n",
    "# FD[distance>0]=0.97\n",
    "# FW==1\n",
    "FF[distance>0]=0.95"
   ]
  },
  {
   "cell_type": "code",
   "execution_count": 16,
   "metadata": {},
   "outputs": [
    {
     "data": {
      "text/plain": [
       "array([[9.e-05, 1.e+00, 1.e+00, ..., 9.e-05, 9.e-05, 9.e-05],\n",
       "       [1.e+00, 9.e-05, 9.e-05, ..., 9.e-05, 9.e-05, 9.e-05],\n",
       "       [1.e+00, 9.e-05, 9.e-05, ..., 9.e-05, 9.e-05, 9.e-05],\n",
       "       ...,\n",
       "       [9.e-05, 9.e-05, 9.e-05, ..., 9.e-05, 1.e+00, 9.e-05],\n",
       "       [9.e-05, 9.e-05, 9.e-05, ..., 1.e+00, 9.e-05, 9.e-05],\n",
       "       [9.e-05, 9.e-05, 9.e-05, ..., 9.e-05, 9.e-05, 9.e-05]])"
      ]
     },
     "execution_count": 16,
     "metadata": {},
     "output_type": "execute_result"
    }
   ],
   "source": [
    "FW=np.ones((dim,dim))\n",
    "FW[distance==0]=0.00009\n",
    "FW"
   ]
  },
  {
   "cell_type": "code",
   "execution_count": 17,
   "metadata": {},
   "outputs": [
    {
     "data": {
      "text/plain": [
       "array([[1.  , 0.95, 0.95, ..., 1.  , 1.  , 1.  ],\n",
       "       [0.95, 1.  , 1.  , ..., 1.  , 1.  , 1.  ],\n",
       "       [0.95, 1.  , 1.  , ..., 1.  , 1.  , 1.  ],\n",
       "       ...,\n",
       "       [1.  , 1.  , 1.  , ..., 1.  , 0.95, 1.  ],\n",
       "       [1.  , 1.  , 1.  , ..., 0.95, 1.  , 1.  ],\n",
       "       [1.  , 1.  , 1.  , ..., 1.  , 1.  , 1.  ]])"
      ]
     },
     "execution_count": 17,
     "metadata": {},
     "output_type": "execute_result"
    }
   ],
   "source": [
    "FF=np.ones((dim,dim))\n",
    "FF[distance>0]=0.95\n",
    "FF"
   ]
  },
  {
   "cell_type": "code",
   "execution_count": 12,
   "metadata": {},
   "outputs": [],
   "source": [
    "# MSF=pd.DataFrame(data=MSF)\n",
    "FHV=pd.DataFrame(data=FHV)\n",
    "# FD=pd.DataFrame(data=FD)\n",
    "# FW=pd.DataFrame(data=FW)\n",
    "# FF=pd.DataFrame(data=FF)"
   ]
  },
  {
   "cell_type": "code",
   "execution_count": 13,
   "metadata": {},
   "outputs": [],
   "source": [
    "# MSF.to_csv('MSF.csv',index=False,header=None)\n",
    "FHV.to_csv('FHV.csv',index=False,header=None)\n",
    "# FD.to_csv('FD.csv',index=False,header=None)\n",
    "# FW.to_csv('FW.csv',index=False,header=None)\n",
    "# FF.to_csv('FF.csv',index=False,header=None)\n"
   ]
  },
  {
   "cell_type": "code",
   "execution_count": 21,
   "metadata": {},
   "outputs": [],
   "source": [
    "cell_node={\n",
    "    \n",
    "'一棒':31,\n",
    "'高线':42,\n",
    "'二棒':40,\n",
    "'三棒':45,\n",
    "'炼焦厂_1':31,\n",
    "'老炼钢':43,\n",
    "'新炼钢':32,\n",
    "'原料场':3,\n",
    "'球团厂':23,\n",
    "'265+400烧结厂':26,\n",
    "'炼铁5':48,\n",
    "'窄带':58,\n",
    "'450烧结':8,\n",
    "'炼铁1-4':9,\n",
    "'石灰厂':15,\n",
    "'废钢堆场':46,\n",
    "\n",
    "}"
   ]
  },
  {
   "cell_type": "code",
   "execution_count": 22,
   "metadata": {},
   "outputs": [
    {
     "data": {
      "text/plain": [
       "{'一棒': 31,\n",
       " '高线': 42,\n",
       " '二棒': 40,\n",
       " '三棒': 45,\n",
       " '炼焦厂_1': 31,\n",
       " '老炼钢': 43,\n",
       " '新炼钢': 32,\n",
       " '原料场': 3,\n",
       " '球团厂': 23,\n",
       " '265+400烧结厂': 26,\n",
       " '炼铁5': 48,\n",
       " '窄带': 58,\n",
       " '450烧结': 8,\n",
       " '炼铁1-4': 9,\n",
       " '石灰厂': 15,\n",
       " '废钢堆场': 46}"
      ]
     },
     "execution_count": 22,
     "metadata": {},
     "output_type": "execute_result"
    }
   ],
   "source": [
    "cell_node"
   ]
  },
  {
   "cell_type": "code",
   "execution_count": 23,
   "metadata": {},
   "outputs": [],
   "source": [
    "# ls"
   ]
  },
  {
   "cell_type": "code",
   "execution_count": null,
   "metadata": {},
   "outputs": [],
   "source": []
  },
  {
   "cell_type": "code",
   "execution_count": 24,
   "metadata": {},
   "outputs": [],
   "source": [
    "import pandas as pd"
   ]
  },
  {
   "cell_type": "code",
   "execution_count": null,
   "metadata": {},
   "outputs": [],
   "source": []
  },
  {
   "cell_type": "code",
   "execution_count": 47,
   "metadata": {},
   "outputs": [],
   "source": [
    "path='日照钢铁物料运输量表.xls'\n",
    "ysl_new=pd.read_excel(path)"
   ]
  },
  {
   "cell_type": "code",
   "execution_count": 53,
   "metadata": {},
   "outputs": [],
   "source": [
    "ysl_new=ysl_new[~ysl_new['重车起点'].isnull()]"
   ]
  },
  {
   "cell_type": "code",
   "execution_count": 54,
   "metadata": {},
   "outputs": [
    {
     "data": {
      "text/plain": [
       "(64, 15)"
      ]
     },
     "execution_count": 54,
     "metadata": {},
     "output_type": "execute_result"
    }
   ],
   "source": [
    "ysl_new.shape"
   ]
  },
  {
   "cell_type": "code",
   "execution_count": 55,
   "metadata": {},
   "outputs": [
    {
     "data": {
      "text/html": [
       "<div>\n",
       "<style scoped>\n",
       "    .dataframe tbody tr th:only-of-type {\n",
       "        vertical-align: middle;\n",
       "    }\n",
       "\n",
       "    .dataframe tbody tr th {\n",
       "        vertical-align: top;\n",
       "    }\n",
       "\n",
       "    .dataframe thead th {\n",
       "        text-align: right;\n",
       "    }\n",
       "</style>\n",
       "<table border=\"1\" class=\"dataframe\">\n",
       "  <thead>\n",
       "    <tr style=\"text-align: right;\">\n",
       "      <th></th>\n",
       "      <th>流转类型</th>\n",
       "      <th>运输方式</th>\n",
       "      <th>来源单元</th>\n",
       "      <th>到达单元</th>\n",
       "      <th>物质名称</th>\n",
       "      <th>物质量</th>\n",
       "      <th>日运输量</th>\n",
       "      <th>重车起点</th>\n",
       "      <th>重车终点</th>\n",
       "      <th>空车起点</th>\n",
       "      <th>空车终点</th>\n",
       "      <th>运输车辆的最大装载量</th>\n",
       "      <th>车次</th>\n",
       "      <th>日运输量新</th>\n",
       "      <th>车辆折算系数</th>\n",
       "    </tr>\n",
       "  </thead>\n",
       "  <tbody>\n",
       "    <tr>\n",
       "      <th>59</th>\n",
       "      <td>回收物流</td>\n",
       "      <td>道路</td>\n",
       "      <td>炼钢3</td>\n",
       "      <td>铁钢渣处理_1</td>\n",
       "      <td>精炼渣</td>\n",
       "      <td>32.75</td>\n",
       "      <td>0.093571</td>\n",
       "      <td>0.0</td>\n",
       "      <td>23.0</td>\n",
       "      <td>23.0</td>\n",
       "      <td>0.0</td>\n",
       "      <td>NaN</td>\n",
       "      <td>NaN</td>\n",
       "      <td>NaN</td>\n",
       "      <td>NaN</td>\n",
       "    </tr>\n",
       "    <tr>\n",
       "      <th>60</th>\n",
       "      <td>回收物流</td>\n",
       "      <td>道路</td>\n",
       "      <td>炼钢3</td>\n",
       "      <td>铁钢渣处理_1</td>\n",
       "      <td>脱硫渣</td>\n",
       "      <td>12.28</td>\n",
       "      <td>0.035086</td>\n",
       "      <td>0.0</td>\n",
       "      <td>23.0</td>\n",
       "      <td>23.0</td>\n",
       "      <td>0.0</td>\n",
       "      <td>NaN</td>\n",
       "      <td>NaN</td>\n",
       "      <td>NaN</td>\n",
       "      <td>NaN</td>\n",
       "    </tr>\n",
       "    <tr>\n",
       "      <th>61</th>\n",
       "      <td>回收物流</td>\n",
       "      <td>道路</td>\n",
       "      <td>炼钢3</td>\n",
       "      <td>铁钢渣处理_1</td>\n",
       "      <td>炼钢残钢</td>\n",
       "      <td>10.65</td>\n",
       "      <td>0.030429</td>\n",
       "      <td>0.0</td>\n",
       "      <td>23.0</td>\n",
       "      <td>23.0</td>\n",
       "      <td>0.0</td>\n",
       "      <td>NaN</td>\n",
       "      <td>NaN</td>\n",
       "      <td>NaN</td>\n",
       "      <td>NaN</td>\n",
       "    </tr>\n",
       "    <tr>\n",
       "      <th>62</th>\n",
       "      <td>回收物流</td>\n",
       "      <td>道路</td>\n",
       "      <td>炼钢3</td>\n",
       "      <td>铁钢渣处理_1</td>\n",
       "      <td>中间包冷钢废钢</td>\n",
       "      <td>5.73</td>\n",
       "      <td>0.016371</td>\n",
       "      <td>0.0</td>\n",
       "      <td>23.0</td>\n",
       "      <td>23.0</td>\n",
       "      <td>0.0</td>\n",
       "      <td>NaN</td>\n",
       "      <td>NaN</td>\n",
       "      <td>NaN</td>\n",
       "      <td>NaN</td>\n",
       "    </tr>\n",
       "    <tr>\n",
       "      <th>63</th>\n",
       "      <td>回收物流</td>\n",
       "      <td>道路</td>\n",
       "      <td>炼钢3</td>\n",
       "      <td>铁钢渣处理_1</td>\n",
       "      <td>氧化铁皮、切割渣</td>\n",
       "      <td>3.68</td>\n",
       "      <td>0.010514</td>\n",
       "      <td>0.0</td>\n",
       "      <td>23.0</td>\n",
       "      <td>23.0</td>\n",
       "      <td>0.0</td>\n",
       "      <td>NaN</td>\n",
       "      <td>NaN</td>\n",
       "      <td>NaN</td>\n",
       "      <td>NaN</td>\n",
       "    </tr>\n",
       "  </tbody>\n",
       "</table>\n",
       "</div>"
      ],
      "text/plain": [
       "    流转类型 运输方式 来源单元     到达单元      物质名称    物质量      日运输量  重车起点  重车终点  空车起点  \\\n",
       "59  回收物流   道路  炼钢3  铁钢渣处理_1       精炼渣  32.75  0.093571   0.0  23.0  23.0   \n",
       "60  回收物流   道路  炼钢3  铁钢渣处理_1       脱硫渣  12.28  0.035086   0.0  23.0  23.0   \n",
       "61  回收物流   道路  炼钢3  铁钢渣处理_1      炼钢残钢  10.65  0.030429   0.0  23.0  23.0   \n",
       "62  回收物流   道路  炼钢3  铁钢渣处理_1   中间包冷钢废钢   5.73  0.016371   0.0  23.0  23.0   \n",
       "63  回收物流   道路  炼钢3  铁钢渣处理_1  氧化铁皮、切割渣   3.68  0.010514   0.0  23.0  23.0   \n",
       "\n",
       "    空车终点  运输车辆的最大装载量  车次  日运输量新  车辆折算系数  \n",
       "59   0.0         NaN NaN    NaN     NaN  \n",
       "60   0.0         NaN NaN    NaN     NaN  \n",
       "61   0.0         NaN NaN    NaN     NaN  \n",
       "62   0.0         NaN NaN    NaN     NaN  \n",
       "63   0.0         NaN NaN    NaN     NaN  "
      ]
     },
     "execution_count": 55,
     "metadata": {},
     "output_type": "execute_result"
    }
   ],
   "source": [
    "ysl_new.tail()"
   ]
  },
  {
   "cell_type": "code",
   "execution_count": 56,
   "metadata": {},
   "outputs": [
    {
     "data": {
      "text/html": [
       "<div>\n",
       "<style scoped>\n",
       "    .dataframe tbody tr th:only-of-type {\n",
       "        vertical-align: middle;\n",
       "    }\n",
       "\n",
       "    .dataframe tbody tr th {\n",
       "        vertical-align: top;\n",
       "    }\n",
       "\n",
       "    .dataframe thead th {\n",
       "        text-align: right;\n",
       "    }\n",
       "</style>\n",
       "<table border=\"1\" class=\"dataframe\">\n",
       "  <thead>\n",
       "    <tr style=\"text-align: right;\">\n",
       "      <th></th>\n",
       "      <th>流转类型</th>\n",
       "      <th>运输方式</th>\n",
       "      <th>来源单元</th>\n",
       "      <th>到达单元</th>\n",
       "      <th>物质名称</th>\n",
       "      <th>物质量</th>\n",
       "      <th>日运输量</th>\n",
       "      <th>重车起点</th>\n",
       "      <th>重车终点</th>\n",
       "      <th>空车起点</th>\n",
       "      <th>空车终点</th>\n",
       "      <th>运输车辆的最大装载量</th>\n",
       "      <th>车次</th>\n",
       "      <th>日运输量新</th>\n",
       "      <th>车辆折算系数</th>\n",
       "    </tr>\n",
       "  </thead>\n",
       "  <tbody>\n",
       "    <tr>\n",
       "      <th>0</th>\n",
       "      <td>回收物流</td>\n",
       "      <td>道路</td>\n",
       "      <td>炼钢1</td>\n",
       "      <td>废钢堆场_1</td>\n",
       "      <td>钢水罐铸余及事故钢水</td>\n",
       "      <td>9.37</td>\n",
       "      <td>0.026771</td>\n",
       "      <td>28.0</td>\n",
       "      <td>15.0</td>\n",
       "      <td>15.0</td>\n",
       "      <td>28.0</td>\n",
       "      <td>NaN</td>\n",
       "      <td>NaN</td>\n",
       "      <td>NaN</td>\n",
       "      <td>NaN</td>\n",
       "    </tr>\n",
       "    <tr>\n",
       "      <th>1</th>\n",
       "      <td>回收物流</td>\n",
       "      <td>道路</td>\n",
       "      <td>炼钢1</td>\n",
       "      <td>废钢堆场_1</td>\n",
       "      <td>连铸切头切尾</td>\n",
       "      <td>4.68</td>\n",
       "      <td>0.013371</td>\n",
       "      <td>28.0</td>\n",
       "      <td>15.0</td>\n",
       "      <td>15.0</td>\n",
       "      <td>28.0</td>\n",
       "      <td>NaN</td>\n",
       "      <td>NaN</td>\n",
       "      <td>NaN</td>\n",
       "      <td>NaN</td>\n",
       "    </tr>\n",
       "    <tr>\n",
       "      <th>2</th>\n",
       "      <td>回收物流</td>\n",
       "      <td>道路</td>\n",
       "      <td>炼钢1</td>\n",
       "      <td>废钢堆场_1</td>\n",
       "      <td>废连铸坯及试样</td>\n",
       "      <td>2.60</td>\n",
       "      <td>0.007429</td>\n",
       "      <td>28.0</td>\n",
       "      <td>15.0</td>\n",
       "      <td>15.0</td>\n",
       "      <td>28.0</td>\n",
       "      <td>NaN</td>\n",
       "      <td>NaN</td>\n",
       "      <td>NaN</td>\n",
       "      <td>NaN</td>\n",
       "    </tr>\n",
       "    <tr>\n",
       "      <th>3</th>\n",
       "      <td>回收物流</td>\n",
       "      <td>道路</td>\n",
       "      <td>炼钢1</td>\n",
       "      <td>废钢堆场_1</td>\n",
       "      <td>连铸废旧备件</td>\n",
       "      <td>1.33</td>\n",
       "      <td>0.003800</td>\n",
       "      <td>28.0</td>\n",
       "      <td>15.0</td>\n",
       "      <td>15.0</td>\n",
       "      <td>28.0</td>\n",
       "      <td>NaN</td>\n",
       "      <td>NaN</td>\n",
       "      <td>NaN</td>\n",
       "      <td>NaN</td>\n",
       "    </tr>\n",
       "    <tr>\n",
       "      <th>4</th>\n",
       "      <td>回收物流</td>\n",
       "      <td>道路</td>\n",
       "      <td>炼钢1</td>\n",
       "      <td>原料厂1</td>\n",
       "      <td>炼钢集尘粉</td>\n",
       "      <td>20.82</td>\n",
       "      <td>0.059486</td>\n",
       "      <td>28.0</td>\n",
       "      <td>17.0</td>\n",
       "      <td>17.0</td>\n",
       "      <td>28.0</td>\n",
       "      <td>NaN</td>\n",
       "      <td>NaN</td>\n",
       "      <td>NaN</td>\n",
       "      <td>NaN</td>\n",
       "    </tr>\n",
       "  </tbody>\n",
       "</table>\n",
       "</div>"
      ],
      "text/plain": [
       "   流转类型 运输方式 来源单元    到达单元        物质名称    物质量      日运输量  重车起点  重车终点  空车起点  \\\n",
       "0  回收物流   道路  炼钢1  废钢堆场_1  钢水罐铸余及事故钢水   9.37  0.026771  28.0  15.0  15.0   \n",
       "1  回收物流   道路  炼钢1  废钢堆场_1      连铸切头切尾   4.68  0.013371  28.0  15.0  15.0   \n",
       "2  回收物流   道路  炼钢1  废钢堆场_1     废连铸坯及试样   2.60  0.007429  28.0  15.0  15.0   \n",
       "3  回收物流   道路  炼钢1  废钢堆场_1      连铸废旧备件   1.33  0.003800  28.0  15.0  15.0   \n",
       "4  回收物流   道路  炼钢1    原料厂1       炼钢集尘粉  20.82  0.059486  28.0  17.0  17.0   \n",
       "\n",
       "   空车终点  运输车辆的最大装载量  车次  日运输量新  车辆折算系数  \n",
       "0  28.0         NaN NaN    NaN     NaN  \n",
       "1  28.0         NaN NaN    NaN     NaN  \n",
       "2  28.0         NaN NaN    NaN     NaN  \n",
       "3  28.0         NaN NaN    NaN     NaN  \n",
       "4  28.0         NaN NaN    NaN     NaN  "
      ]
     },
     "execution_count": 56,
     "metadata": {},
     "output_type": "execute_result"
    }
   ],
   "source": [
    "ysl_new.head()"
   ]
  },
  {
   "cell_type": "code",
   "execution_count": 27,
   "metadata": {},
   "outputs": [
    {
     "data": {
      "text/plain": [
       "{'东门', '仓库', '北门', '厂外', '水渣堆场', '铁钢渣处理'}"
      ]
     },
     "execution_count": 27,
     "metadata": {},
     "output_type": "execute_result"
    }
   ],
   "source": [
    "set(ysl['来源单元'].unique())-set(cell_node.keys())"
   ]
  },
  {
   "cell_type": "code",
   "execution_count": 28,
   "metadata": {},
   "outputs": [
    {
     "data": {
      "text/plain": [
       "{'东门', '中央水处理', '仓库', '北门', '厂外', '循环经济园', '水渣堆场', '煤净', '铁钢渣处理'}"
      ]
     },
     "execution_count": 28,
     "metadata": {},
     "output_type": "execute_result"
    }
   ],
   "source": [
    "set(ysl['到达单元'].unique())-set(cell_node.keys())"
   ]
  },
  {
   "cell_type": "code",
   "execution_count": 29,
   "metadata": {},
   "outputs": [],
   "source": [
    "ysl_new=ysl[(ysl['来源单元'].isin(cell_node.keys())) & (ysl['到达单元'].isin(cell_node.keys()))]"
   ]
  },
  {
   "cell_type": "code",
   "execution_count": 30,
   "metadata": {},
   "outputs": [
    {
     "data": {
      "text/plain": [
       "array(['石灰厂', '原料场', '老炼钢', '新炼钢', '废钢堆场', '炼铁1-4', '炼铁5', '一棒', '450烧结',\n",
       "       '265+400烧结厂', '炼焦厂_1', '球团厂'], dtype=object)"
      ]
     },
     "execution_count": 30,
     "metadata": {},
     "output_type": "execute_result"
    }
   ],
   "source": [
    "ysl_new['来源单元'].unique()"
   ]
  },
  {
   "cell_type": "code",
   "execution_count": 31,
   "metadata": {},
   "outputs": [
    {
     "data": {
      "text/plain": [
       "array(['新炼钢', '老炼钢', '二棒', '高线', '窄带', '三棒', '一棒', '原料场', '废钢堆场', '450烧结',\n",
       "       '265+400烧结厂', '炼铁1-4', '炼焦厂_1', '炼铁5', '球团厂', '石灰厂'], dtype=object)"
      ]
     },
     "execution_count": 31,
     "metadata": {},
     "output_type": "execute_result"
    }
   ],
   "source": [
    "ysl_new['到达单元'].unique()"
   ]
  },
  {
   "cell_type": "code",
   "execution_count": 32,
   "metadata": {},
   "outputs": [
    {
     "data": {
      "text/plain": [
       "(95, 7)"
      ]
     },
     "execution_count": 32,
     "metadata": {},
     "output_type": "execute_result"
    }
   ],
   "source": [
    "ysl_new.shape"
   ]
  },
  {
   "cell_type": "code",
   "execution_count": 33,
   "metadata": {},
   "outputs": [
    {
     "name": "stderr",
     "output_type": "stream",
     "text": [
      "f:\\陶士来文件\\software\\python3_6_5\\lib\\site-packages\\ipykernel_launcher.py:1: SettingWithCopyWarning: \n",
      "A value is trying to be set on a copy of a slice from a DataFrame.\n",
      "Try using .loc[row_indexer,col_indexer] = value instead\n",
      "\n",
      "See the caveats in the documentation: http://pandas.pydata.org/pandas-docs/stable/indexing.html#indexing-view-versus-copy\n",
      "  \"\"\"Entry point for launching an IPython kernel.\n"
     ]
    }
   ],
   "source": [
    "ysl_new['日运输量']=ysl_new['物质量']/365"
   ]
  },
  {
   "cell_type": "code",
   "execution_count": 34,
   "metadata": {},
   "outputs": [
    {
     "data": {
      "text/html": [
       "<div>\n",
       "<style scoped>\n",
       "    .dataframe tbody tr th:only-of-type {\n",
       "        vertical-align: middle;\n",
       "    }\n",
       "\n",
       "    .dataframe tbody tr th {\n",
       "        vertical-align: top;\n",
       "    }\n",
       "\n",
       "    .dataframe thead th {\n",
       "        text-align: right;\n",
       "    }\n",
       "</style>\n",
       "<table border=\"1\" class=\"dataframe\">\n",
       "  <thead>\n",
       "    <tr style=\"text-align: right;\">\n",
       "      <th></th>\n",
       "      <th>流转类型</th>\n",
       "      <th>运输方式</th>\n",
       "      <th>来源单元</th>\n",
       "      <th>到达单元</th>\n",
       "      <th>物质名称</th>\n",
       "      <th>物质品类</th>\n",
       "      <th>物质量</th>\n",
       "      <th>日运输量</th>\n",
       "    </tr>\n",
       "  </thead>\n",
       "  <tbody>\n",
       "    <tr>\n",
       "      <th>210</th>\n",
       "      <td>铁前</td>\n",
       "      <td>胶带</td>\n",
       "      <td>原料场</td>\n",
       "      <td>450烧结</td>\n",
       "      <td>铁矿粉</td>\n",
       "      <td>原料</td>\n",
       "      <td>554.15</td>\n",
       "      <td>1.518219</td>\n",
       "    </tr>\n",
       "    <tr>\n",
       "      <th>211</th>\n",
       "      <td>铁前</td>\n",
       "      <td>公路</td>\n",
       "      <td>450烧结</td>\n",
       "      <td>炼铁1-4</td>\n",
       "      <td>烧结矿</td>\n",
       "      <td>主料</td>\n",
       "      <td>482.95</td>\n",
       "      <td>1.323151</td>\n",
       "    </tr>\n",
       "    <tr>\n",
       "      <th>213</th>\n",
       "      <td>铁前</td>\n",
       "      <td>胶带</td>\n",
       "      <td>原料场</td>\n",
       "      <td>炼焦厂_1</td>\n",
       "      <td>洗精煤</td>\n",
       "      <td>燃料</td>\n",
       "      <td>347.40</td>\n",
       "      <td>0.951781</td>\n",
       "    </tr>\n",
       "    <tr>\n",
       "      <th>207</th>\n",
       "      <td>铁钢</td>\n",
       "      <td>公路</td>\n",
       "      <td>炼铁1-4</td>\n",
       "      <td>新炼钢</td>\n",
       "      <td>铁水</td>\n",
       "      <td>主料</td>\n",
       "      <td>320.00</td>\n",
       "      <td>0.876712</td>\n",
       "    </tr>\n",
       "    <tr>\n",
       "      <th>208</th>\n",
       "      <td>铁钢</td>\n",
       "      <td>公路</td>\n",
       "      <td>炼铁5</td>\n",
       "      <td>老炼钢</td>\n",
       "      <td>铁水</td>\n",
       "      <td>主料</td>\n",
       "      <td>300.00</td>\n",
       "      <td>0.821918</td>\n",
       "    </tr>\n",
       "  </tbody>\n",
       "</table>\n",
       "</div>"
      ],
      "text/plain": [
       "    流转类型 运输方式   来源单元   到达单元 物质名称 物质品类     物质量      日运输量\n",
       "210   铁前   胶带    原料场  450烧结  铁矿粉   原料  554.15  1.518219\n",
       "211   铁前   公路  450烧结  炼铁1-4  烧结矿   主料  482.95  1.323151\n",
       "213   铁前   胶带    原料场  炼焦厂_1  洗精煤   燃料  347.40  0.951781\n",
       "207   铁钢   公路  炼铁1-4    新炼钢   铁水   主料  320.00  0.876712\n",
       "208   铁钢   公路    炼铁5    老炼钢   铁水   主料  300.00  0.821918"
      ]
     },
     "execution_count": 34,
     "metadata": {},
     "output_type": "execute_result"
    }
   ],
   "source": [
    "ysl_new.sort_values(by='日运输量',ascending=False).head()"
   ]
  },
  {
   "cell_type": "code",
   "execution_count": 35,
   "metadata": {},
   "outputs": [
    {
     "name": "stderr",
     "output_type": "stream",
     "text": [
      "f:\\陶士来文件\\software\\python3_6_5\\lib\\site-packages\\ipykernel_launcher.py:1: SettingWithCopyWarning: \n",
      "A value is trying to be set on a copy of a slice from a DataFrame.\n",
      "Try using .loc[row_indexer,col_indexer] = value instead\n",
      "\n",
      "See the caveats in the documentation: http://pandas.pydata.org/pandas-docs/stable/indexing.html#indexing-view-versus-copy\n",
      "  \"\"\"Entry point for launching an IPython kernel.\n",
      "f:\\陶士来文件\\software\\python3_6_5\\lib\\site-packages\\ipykernel_launcher.py:2: SettingWithCopyWarning: \n",
      "A value is trying to be set on a copy of a slice from a DataFrame.\n",
      "Try using .loc[row_indexer,col_indexer] = value instead\n",
      "\n",
      "See the caveats in the documentation: http://pandas.pydata.org/pandas-docs/stable/indexing.html#indexing-view-versus-copy\n",
      "  \n",
      "f:\\陶士来文件\\software\\python3_6_5\\lib\\site-packages\\ipykernel_launcher.py:3: SettingWithCopyWarning: \n",
      "A value is trying to be set on a copy of a slice from a DataFrame.\n",
      "Try using .loc[row_indexer,col_indexer] = value instead\n",
      "\n",
      "See the caveats in the documentation: http://pandas.pydata.org/pandas-docs/stable/indexing.html#indexing-view-versus-copy\n",
      "  This is separate from the ipykernel package so we can avoid doing imports until\n",
      "f:\\陶士来文件\\software\\python3_6_5\\lib\\site-packages\\ipykernel_launcher.py:4: SettingWithCopyWarning: \n",
      "A value is trying to be set on a copy of a slice from a DataFrame.\n",
      "Try using .loc[row_indexer,col_indexer] = value instead\n",
      "\n",
      "See the caveats in the documentation: http://pandas.pydata.org/pandas-docs/stable/indexing.html#indexing-view-versus-copy\n",
      "  after removing the cwd from sys.path.\n"
     ]
    }
   ],
   "source": [
    "ysl_new['重车起点']=ysl_new['来源单元'].map(cell_node)\n",
    "ysl_new['重车终点']=ysl_new['到达单元'].map(cell_node)\n",
    "ysl_new['空车起点']=ysl_new['到达单元'].map(cell_node)\n",
    "ysl_new['空车终点']=ysl_new['来源单元'].map(cell_node)"
   ]
  },
  {
   "cell_type": "code",
   "execution_count": 36,
   "metadata": {},
   "outputs": [],
   "source": [
    "ysl_new=ysl_new.sort_values(by='日运输量',ascending=False)"
   ]
  },
  {
   "cell_type": "code",
   "execution_count": 37,
   "metadata": {},
   "outputs": [
    {
     "data": {
      "text/plain": [
       "count    95.000000\n",
       "mean      0.135048\n",
       "std       0.268045\n",
       "min       0.000055\n",
       "25%       0.006479\n",
       "50%       0.043781\n",
       "75%       0.106616\n",
       "max       1.518219\n",
       "Name: 日运输量, dtype: float64"
      ]
     },
     "execution_count": 37,
     "metadata": {},
     "output_type": "execute_result"
    }
   ],
   "source": [
    "ysl_new['日运输量'].describe()"
   ]
  },
  {
   "cell_type": "code",
   "execution_count": null,
   "metadata": {},
   "outputs": [],
   "source": []
  },
  {
   "cell_type": "code",
   "execution_count": null,
   "metadata": {},
   "outputs": [],
   "source": []
  },
  {
   "cell_type": "code",
   "execution_count": 38,
   "metadata": {},
   "outputs": [],
   "source": [
    "ysl_new.to_excel('龙钢运输量表.xlsx',index=False)"
   ]
  },
  {
   "cell_type": "code",
   "execution_count": 39,
   "metadata": {},
   "outputs": [],
   "source": [
    "ysl_new.to_csv('龙钢运输量表.csv',index=False)"
   ]
  },
  {
   "cell_type": "code",
   "execution_count": 40,
   "metadata": {},
   "outputs": [],
   "source": [
    "df_lg=pd.read_csv('龙钢运输量表.csv')"
   ]
  },
  {
   "cell_type": "code",
   "execution_count": 41,
   "metadata": {},
   "outputs": [
    {
     "data": {
      "text/html": [
       "<div>\n",
       "<style scoped>\n",
       "    .dataframe tbody tr th:only-of-type {\n",
       "        vertical-align: middle;\n",
       "    }\n",
       "\n",
       "    .dataframe tbody tr th {\n",
       "        vertical-align: top;\n",
       "    }\n",
       "\n",
       "    .dataframe thead th {\n",
       "        text-align: right;\n",
       "    }\n",
       "</style>\n",
       "<table border=\"1\" class=\"dataframe\">\n",
       "  <thead>\n",
       "    <tr style=\"text-align: right;\">\n",
       "      <th></th>\n",
       "      <th>流转类型</th>\n",
       "      <th>运输方式</th>\n",
       "      <th>来源单元</th>\n",
       "      <th>到达单元</th>\n",
       "      <th>物质名称</th>\n",
       "      <th>物质品类</th>\n",
       "      <th>物质量</th>\n",
       "      <th>日运输量</th>\n",
       "      <th>重车起点</th>\n",
       "      <th>重车终点</th>\n",
       "      <th>空车起点</th>\n",
       "      <th>空车终点</th>\n",
       "    </tr>\n",
       "  </thead>\n",
       "  <tbody>\n",
       "    <tr>\n",
       "      <th>1</th>\n",
       "      <td>铁前</td>\n",
       "      <td>公路</td>\n",
       "      <td>450烧结</td>\n",
       "      <td>炼铁1-4</td>\n",
       "      <td>烧结矿</td>\n",
       "      <td>主料</td>\n",
       "      <td>482.95</td>\n",
       "      <td>1.323151</td>\n",
       "      <td>8</td>\n",
       "      <td>9</td>\n",
       "      <td>9</td>\n",
       "      <td>8</td>\n",
       "    </tr>\n",
       "    <tr>\n",
       "      <th>3</th>\n",
       "      <td>铁钢</td>\n",
       "      <td>公路</td>\n",
       "      <td>炼铁1-4</td>\n",
       "      <td>新炼钢</td>\n",
       "      <td>铁水</td>\n",
       "      <td>主料</td>\n",
       "      <td>320.00</td>\n",
       "      <td>0.876712</td>\n",
       "      <td>9</td>\n",
       "      <td>32</td>\n",
       "      <td>32</td>\n",
       "      <td>9</td>\n",
       "    </tr>\n",
       "    <tr>\n",
       "      <th>4</th>\n",
       "      <td>铁钢</td>\n",
       "      <td>公路</td>\n",
       "      <td>炼铁5</td>\n",
       "      <td>老炼钢</td>\n",
       "      <td>铁水</td>\n",
       "      <td>主料</td>\n",
       "      <td>300.00</td>\n",
       "      <td>0.821918</td>\n",
       "      <td>48</td>\n",
       "      <td>43</td>\n",
       "      <td>43</td>\n",
       "      <td>48</td>\n",
       "    </tr>\n",
       "    <tr>\n",
       "      <th>5</th>\n",
       "      <td>铁前</td>\n",
       "      <td>公路</td>\n",
       "      <td>450烧结</td>\n",
       "      <td>炼铁5</td>\n",
       "      <td>烧结矿</td>\n",
       "      <td>主料</td>\n",
       "      <td>209.75</td>\n",
       "      <td>0.574658</td>\n",
       "      <td>8</td>\n",
       "      <td>48</td>\n",
       "      <td>48</td>\n",
       "      <td>8</td>\n",
       "    </tr>\n",
       "    <tr>\n",
       "      <th>6</th>\n",
       "      <td>铁前</td>\n",
       "      <td>公路</td>\n",
       "      <td>265+400烧结厂</td>\n",
       "      <td>炼铁5</td>\n",
       "      <td>烧结矿</td>\n",
       "      <td>主料</td>\n",
       "      <td>209.75</td>\n",
       "      <td>0.574658</td>\n",
       "      <td>26</td>\n",
       "      <td>48</td>\n",
       "      <td>48</td>\n",
       "      <td>26</td>\n",
       "    </tr>\n",
       "    <tr>\n",
       "      <th>9</th>\n",
       "      <td>钢扎</td>\n",
       "      <td>公路</td>\n",
       "      <td>老炼钢</td>\n",
       "      <td>二棒</td>\n",
       "      <td>钢坯</td>\n",
       "      <td>粗钢</td>\n",
       "      <td>140.56</td>\n",
       "      <td>0.385096</td>\n",
       "      <td>43</td>\n",
       "      <td>40</td>\n",
       "      <td>40</td>\n",
       "      <td>43</td>\n",
       "    </tr>\n",
       "    <tr>\n",
       "      <th>10</th>\n",
       "      <td>铁前</td>\n",
       "      <td>公路</td>\n",
       "      <td>炼焦厂_1</td>\n",
       "      <td>炼铁1-4</td>\n",
       "      <td>焦炭</td>\n",
       "      <td>主产品</td>\n",
       "      <td>139.79</td>\n",
       "      <td>0.382986</td>\n",
       "      <td>31</td>\n",
       "      <td>9</td>\n",
       "      <td>9</td>\n",
       "      <td>31</td>\n",
       "    </tr>\n",
       "    <tr>\n",
       "      <th>11</th>\n",
       "      <td>铁前</td>\n",
       "      <td>公路</td>\n",
       "      <td>炼焦厂_1</td>\n",
       "      <td>炼铁5</td>\n",
       "      <td>焦炭</td>\n",
       "      <td>主产品</td>\n",
       "      <td>121.42</td>\n",
       "      <td>0.332658</td>\n",
       "      <td>31</td>\n",
       "      <td>48</td>\n",
       "      <td>48</td>\n",
       "      <td>31</td>\n",
       "    </tr>\n",
       "    <tr>\n",
       "      <th>12</th>\n",
       "      <td>钢扎</td>\n",
       "      <td>公路</td>\n",
       "      <td>新炼钢</td>\n",
       "      <td>高线</td>\n",
       "      <td>钢坯</td>\n",
       "      <td>粗钢</td>\n",
       "      <td>119.54</td>\n",
       "      <td>0.327507</td>\n",
       "      <td>32</td>\n",
       "      <td>42</td>\n",
       "      <td>42</td>\n",
       "      <td>32</td>\n",
       "    </tr>\n",
       "    <tr>\n",
       "      <th>13</th>\n",
       "      <td>铁前</td>\n",
       "      <td>公路</td>\n",
       "      <td>原料场</td>\n",
       "      <td>石灰厂</td>\n",
       "      <td>石灰石</td>\n",
       "      <td>熔剂</td>\n",
       "      <td>117.86</td>\n",
       "      <td>0.322904</td>\n",
       "      <td>3</td>\n",
       "      <td>15</td>\n",
       "      <td>15</td>\n",
       "      <td>3</td>\n",
       "    </tr>\n",
       "  </tbody>\n",
       "</table>\n",
       "</div>"
      ],
      "text/plain": [
       "   流转类型 运输方式        来源单元   到达单元 物质名称 物质品类     物质量      日运输量  重车起点  重车终点  空车起点  \\\n",
       "1    铁前   公路       450烧结  炼铁1-4  烧结矿   主料  482.95  1.323151     8     9     9   \n",
       "3    铁钢   公路       炼铁1-4    新炼钢   铁水   主料  320.00  0.876712     9    32    32   \n",
       "4    铁钢   公路         炼铁5    老炼钢   铁水   主料  300.00  0.821918    48    43    43   \n",
       "5    铁前   公路       450烧结    炼铁5  烧结矿   主料  209.75  0.574658     8    48    48   \n",
       "6    铁前   公路  265+400烧结厂    炼铁5  烧结矿   主料  209.75  0.574658    26    48    48   \n",
       "9    钢扎   公路         老炼钢     二棒   钢坯   粗钢  140.56  0.385096    43    40    40   \n",
       "10   铁前   公路       炼焦厂_1  炼铁1-4   焦炭  主产品  139.79  0.382986    31     9     9   \n",
       "11   铁前   公路       炼焦厂_1    炼铁5   焦炭  主产品  121.42  0.332658    31    48    48   \n",
       "12   钢扎   公路         新炼钢     高线   钢坯   粗钢  119.54  0.327507    32    42    42   \n",
       "13   铁前   公路         原料场    石灰厂  石灰石   熔剂  117.86  0.322904     3    15    15   \n",
       "\n",
       "    空车终点  \n",
       "1      8  \n",
       "3      9  \n",
       "4     48  \n",
       "5      8  \n",
       "6     26  \n",
       "9     43  \n",
       "10    31  \n",
       "11    31  \n",
       "12    32  \n",
       "13     3  "
      ]
     },
     "execution_count": 41,
     "metadata": {},
     "output_type": "execute_result"
    }
   ],
   "source": [
    "df_lg=df_lg[df_lg['运输方式']=='公路']\n",
    "df_lg.head(10)"
   ]
  },
  {
   "cell_type": "code",
   "execution_count": 42,
   "metadata": {},
   "outputs": [
    {
     "data": {
      "text/plain": [
       "array(['烧结矿', '铁水', '钢坯', '焦炭', '石灰石', '球团矿', '烧结返矿', '废钢', '生石灰', '白云石',\n",
       "       '高炉除尘灰', '返焦', '块矿返矿', '萤石', '锰矿', '硅石', '炼钢集尘粉', '高炉集尘粉', '轻烧白云石',\n",
       "       '返球团', 'OG泥', '铁矿石', '钢水罐铸余及事故钢水', '压块OG泥', '连铸切头切尾', '钢包改质剂',\n",
       "       '合成渣', '废连铸坯及试样', '连铸废旧备件', '轧钢皮', '高炉炉尘', '转炉渣'], dtype=object)"
      ]
     },
     "execution_count": 42,
     "metadata": {},
     "output_type": "execute_result"
    }
   ],
   "source": [
    "df_lg['物质名称'].unique()"
   ]
  },
  {
   "cell_type": "code",
   "execution_count": 43,
   "metadata": {},
   "outputs": [
    {
     "data": {
      "text/plain": [
       "array(['主料', '粗钢', '主产品', '熔剂', '自产物质', '其他副产品', '废钢类', '冶金辅料', '副产品'],\n",
       "      dtype=object)"
      ]
     },
     "execution_count": 43,
     "metadata": {},
     "output_type": "execute_result"
    }
   ],
   "source": [
    "df_lg['物质品类'].unique()"
   ]
  },
  {
   "cell_type": "code",
   "execution_count": 44,
   "metadata": {},
   "outputs": [],
   "source": [
    "df_lg=df_lg[~df_lg['物质品类'].isin(['主料','原料','燃料'])]\n"
   ]
  },
  {
   "cell_type": "code",
   "execution_count": 45,
   "metadata": {},
   "outputs": [],
   "source": [
    "df_lg['日运输量']=df_lg['日运输量']*365/350"
   ]
  },
  {
   "cell_type": "code",
   "execution_count": 46,
   "metadata": {},
   "outputs": [
    {
     "data": {
      "text/html": [
       "<div>\n",
       "<style scoped>\n",
       "    .dataframe tbody tr th:only-of-type {\n",
       "        vertical-align: middle;\n",
       "    }\n",
       "\n",
       "    .dataframe tbody tr th {\n",
       "        vertical-align: top;\n",
       "    }\n",
       "\n",
       "    .dataframe thead th {\n",
       "        text-align: right;\n",
       "    }\n",
       "</style>\n",
       "<table border=\"1\" class=\"dataframe\">\n",
       "  <thead>\n",
       "    <tr style=\"text-align: right;\">\n",
       "      <th></th>\n",
       "      <th>流转类型</th>\n",
       "      <th>运输方式</th>\n",
       "      <th>来源单元</th>\n",
       "      <th>到达单元</th>\n",
       "      <th>物质名称</th>\n",
       "      <th>物质品类</th>\n",
       "      <th>物质量</th>\n",
       "      <th>日运输量</th>\n",
       "      <th>重车起点</th>\n",
       "      <th>重车终点</th>\n",
       "      <th>空车起点</th>\n",
       "      <th>空车终点</th>\n",
       "    </tr>\n",
       "  </thead>\n",
       "  <tbody>\n",
       "    <tr>\n",
       "      <th>9</th>\n",
       "      <td>钢扎</td>\n",
       "      <td>公路</td>\n",
       "      <td>老炼钢</td>\n",
       "      <td>二棒</td>\n",
       "      <td>钢坯</td>\n",
       "      <td>粗钢</td>\n",
       "      <td>140.56</td>\n",
       "      <td>0.401600</td>\n",
       "      <td>43</td>\n",
       "      <td>40</td>\n",
       "      <td>40</td>\n",
       "      <td>43</td>\n",
       "    </tr>\n",
       "    <tr>\n",
       "      <th>10</th>\n",
       "      <td>铁前</td>\n",
       "      <td>公路</td>\n",
       "      <td>炼焦厂_1</td>\n",
       "      <td>炼铁1-4</td>\n",
       "      <td>焦炭</td>\n",
       "      <td>主产品</td>\n",
       "      <td>139.79</td>\n",
       "      <td>0.399400</td>\n",
       "      <td>31</td>\n",
       "      <td>9</td>\n",
       "      <td>9</td>\n",
       "      <td>31</td>\n",
       "    </tr>\n",
       "    <tr>\n",
       "      <th>11</th>\n",
       "      <td>铁前</td>\n",
       "      <td>公路</td>\n",
       "      <td>炼焦厂_1</td>\n",
       "      <td>炼铁5</td>\n",
       "      <td>焦炭</td>\n",
       "      <td>主产品</td>\n",
       "      <td>121.42</td>\n",
       "      <td>0.346914</td>\n",
       "      <td>31</td>\n",
       "      <td>48</td>\n",
       "      <td>48</td>\n",
       "      <td>31</td>\n",
       "    </tr>\n",
       "    <tr>\n",
       "      <th>12</th>\n",
       "      <td>钢扎</td>\n",
       "      <td>公路</td>\n",
       "      <td>新炼钢</td>\n",
       "      <td>高线</td>\n",
       "      <td>钢坯</td>\n",
       "      <td>粗钢</td>\n",
       "      <td>119.54</td>\n",
       "      <td>0.341543</td>\n",
       "      <td>32</td>\n",
       "      <td>42</td>\n",
       "      <td>42</td>\n",
       "      <td>32</td>\n",
       "    </tr>\n",
       "    <tr>\n",
       "      <th>13</th>\n",
       "      <td>铁前</td>\n",
       "      <td>公路</td>\n",
       "      <td>原料场</td>\n",
       "      <td>石灰厂</td>\n",
       "      <td>石灰石</td>\n",
       "      <td>熔剂</td>\n",
       "      <td>117.86</td>\n",
       "      <td>0.336743</td>\n",
       "      <td>3</td>\n",
       "      <td>15</td>\n",
       "      <td>15</td>\n",
       "      <td>3</td>\n",
       "    </tr>\n",
       "    <tr>\n",
       "      <th>17</th>\n",
       "      <td>钢扎</td>\n",
       "      <td>公路</td>\n",
       "      <td>新炼钢</td>\n",
       "      <td>窄带</td>\n",
       "      <td>钢坯</td>\n",
       "      <td>粗钢</td>\n",
       "      <td>65.47</td>\n",
       "      <td>0.187057</td>\n",
       "      <td>32</td>\n",
       "      <td>58</td>\n",
       "      <td>58</td>\n",
       "      <td>32</td>\n",
       "    </tr>\n",
       "    <tr>\n",
       "      <th>18</th>\n",
       "      <td>钢扎</td>\n",
       "      <td>公路</td>\n",
       "      <td>老炼钢</td>\n",
       "      <td>三棒</td>\n",
       "      <td>钢坯</td>\n",
       "      <td>粗钢</td>\n",
       "      <td>58.80</td>\n",
       "      <td>0.168000</td>\n",
       "      <td>43</td>\n",
       "      <td>45</td>\n",
       "      <td>45</td>\n",
       "      <td>43</td>\n",
       "    </tr>\n",
       "    <tr>\n",
       "      <th>23</th>\n",
       "      <td>回收</td>\n",
       "      <td>公路</td>\n",
       "      <td>废钢堆场</td>\n",
       "      <td>新炼钢</td>\n",
       "      <td>废钢</td>\n",
       "      <td>自产物质</td>\n",
       "      <td>43.20</td>\n",
       "      <td>0.123429</td>\n",
       "      <td>46</td>\n",
       "      <td>32</td>\n",
       "      <td>32</td>\n",
       "      <td>46</td>\n",
       "    </tr>\n",
       "    <tr>\n",
       "      <th>25</th>\n",
       "      <td>铁前</td>\n",
       "      <td>公路</td>\n",
       "      <td>石灰厂</td>\n",
       "      <td>450烧结</td>\n",
       "      <td>生石灰</td>\n",
       "      <td>主产品</td>\n",
       "      <td>31.85</td>\n",
       "      <td>0.091000</td>\n",
       "      <td>15</td>\n",
       "      <td>8</td>\n",
       "      <td>8</td>\n",
       "      <td>15</td>\n",
       "    </tr>\n",
       "    <tr>\n",
       "      <th>28</th>\n",
       "      <td>回收</td>\n",
       "      <td>公路</td>\n",
       "      <td>废钢堆场</td>\n",
       "      <td>老炼钢</td>\n",
       "      <td>废钢</td>\n",
       "      <td>自产物质</td>\n",
       "      <td>29.44</td>\n",
       "      <td>0.084114</td>\n",
       "      <td>46</td>\n",
       "      <td>43</td>\n",
       "      <td>43</td>\n",
       "      <td>46</td>\n",
       "    </tr>\n",
       "  </tbody>\n",
       "</table>\n",
       "</div>"
      ],
      "text/plain": [
       "   流转类型 运输方式   来源单元   到达单元 物质名称  物质品类     物质量      日运输量  重车起点  重车终点  空车起点  \\\n",
       "9    钢扎   公路    老炼钢     二棒   钢坯    粗钢  140.56  0.401600    43    40    40   \n",
       "10   铁前   公路  炼焦厂_1  炼铁1-4   焦炭   主产品  139.79  0.399400    31     9     9   \n",
       "11   铁前   公路  炼焦厂_1    炼铁5   焦炭   主产品  121.42  0.346914    31    48    48   \n",
       "12   钢扎   公路    新炼钢     高线   钢坯    粗钢  119.54  0.341543    32    42    42   \n",
       "13   铁前   公路    原料场    石灰厂  石灰石    熔剂  117.86  0.336743     3    15    15   \n",
       "17   钢扎   公路    新炼钢     窄带   钢坯    粗钢   65.47  0.187057    32    58    58   \n",
       "18   钢扎   公路    老炼钢     三棒   钢坯    粗钢   58.80  0.168000    43    45    45   \n",
       "23   回收   公路   废钢堆场    新炼钢   废钢  自产物质   43.20  0.123429    46    32    32   \n",
       "25   铁前   公路    石灰厂  450烧结  生石灰   主产品   31.85  0.091000    15     8     8   \n",
       "28   回收   公路   废钢堆场    老炼钢   废钢  自产物质   29.44  0.084114    46    43    43   \n",
       "\n",
       "    空车终点  \n",
       "9     43  \n",
       "10    31  \n",
       "11    31  \n",
       "12    32  \n",
       "13     3  \n",
       "17    32  \n",
       "18    43  \n",
       "23    46  \n",
       "25    15  \n",
       "28    46  "
      ]
     },
     "execution_count": 46,
     "metadata": {},
     "output_type": "execute_result"
    }
   ],
   "source": [
    "df_lg.head(10)"
   ]
  },
  {
   "cell_type": "code",
   "execution_count": 47,
   "metadata": {},
   "outputs": [
    {
     "data": {
      "text/html": [
       "<div>\n",
       "<style scoped>\n",
       "    .dataframe tbody tr th:only-of-type {\n",
       "        vertical-align: middle;\n",
       "    }\n",
       "\n",
       "    .dataframe tbody tr th {\n",
       "        vertical-align: top;\n",
       "    }\n",
       "\n",
       "    .dataframe thead th {\n",
       "        text-align: right;\n",
       "    }\n",
       "</style>\n",
       "<table border=\"1\" class=\"dataframe\">\n",
       "  <thead>\n",
       "    <tr style=\"text-align: right;\">\n",
       "      <th></th>\n",
       "      <th>物质量</th>\n",
       "      <th>日运输量</th>\n",
       "      <th>重车起点</th>\n",
       "      <th>重车终点</th>\n",
       "      <th>空车起点</th>\n",
       "      <th>空车终点</th>\n",
       "    </tr>\n",
       "  </thead>\n",
       "  <tbody>\n",
       "    <tr>\n",
       "      <th>count</th>\n",
       "      <td>72.000000</td>\n",
       "      <td>72.000000</td>\n",
       "      <td>72.000000</td>\n",
       "      <td>72.000000</td>\n",
       "      <td>72.000000</td>\n",
       "      <td>72.000000</td>\n",
       "    </tr>\n",
       "    <tr>\n",
       "      <th>mean</th>\n",
       "      <td>19.078750</td>\n",
       "      <td>0.054511</td>\n",
       "      <td>21.277778</td>\n",
       "      <td>26.694444</td>\n",
       "      <td>26.694444</td>\n",
       "      <td>21.277778</td>\n",
       "    </tr>\n",
       "    <tr>\n",
       "      <th>std</th>\n",
       "      <td>32.631981</td>\n",
       "      <td>0.093234</td>\n",
       "      <td>18.064222</td>\n",
       "      <td>17.818837</td>\n",
       "      <td>17.818837</td>\n",
       "      <td>18.064222</td>\n",
       "    </tr>\n",
       "    <tr>\n",
       "      <th>min</th>\n",
       "      <td>0.020000</td>\n",
       "      <td>0.000057</td>\n",
       "      <td>3.000000</td>\n",
       "      <td>3.000000</td>\n",
       "      <td>3.000000</td>\n",
       "      <td>3.000000</td>\n",
       "    </tr>\n",
       "    <tr>\n",
       "      <th>25%</th>\n",
       "      <td>1.477500</td>\n",
       "      <td>0.004221</td>\n",
       "      <td>3.000000</td>\n",
       "      <td>8.000000</td>\n",
       "      <td>8.000000</td>\n",
       "      <td>3.000000</td>\n",
       "    </tr>\n",
       "    <tr>\n",
       "      <th>50%</th>\n",
       "      <td>5.970000</td>\n",
       "      <td>0.017057</td>\n",
       "      <td>15.000000</td>\n",
       "      <td>32.000000</td>\n",
       "      <td>32.000000</td>\n",
       "      <td>15.000000</td>\n",
       "    </tr>\n",
       "    <tr>\n",
       "      <th>75%</th>\n",
       "      <td>18.390000</td>\n",
       "      <td>0.052543</td>\n",
       "      <td>43.000000</td>\n",
       "      <td>43.000000</td>\n",
       "      <td>43.000000</td>\n",
       "      <td>43.000000</td>\n",
       "    </tr>\n",
       "    <tr>\n",
       "      <th>max</th>\n",
       "      <td>140.560000</td>\n",
       "      <td>0.401600</td>\n",
       "      <td>48.000000</td>\n",
       "      <td>58.000000</td>\n",
       "      <td>58.000000</td>\n",
       "      <td>48.000000</td>\n",
       "    </tr>\n",
       "  </tbody>\n",
       "</table>\n",
       "</div>"
      ],
      "text/plain": [
       "              物质量       日运输量       重车起点       重车终点       空车起点       空车终点\n",
       "count   72.000000  72.000000  72.000000  72.000000  72.000000  72.000000\n",
       "mean    19.078750   0.054511  21.277778  26.694444  26.694444  21.277778\n",
       "std     32.631981   0.093234  18.064222  17.818837  17.818837  18.064222\n",
       "min      0.020000   0.000057   3.000000   3.000000   3.000000   3.000000\n",
       "25%      1.477500   0.004221   3.000000   8.000000   8.000000   3.000000\n",
       "50%      5.970000   0.017057  15.000000  32.000000  32.000000  15.000000\n",
       "75%     18.390000   0.052543  43.000000  43.000000  43.000000  43.000000\n",
       "max    140.560000   0.401600  48.000000  58.000000  58.000000  48.000000"
      ]
     },
     "execution_count": 47,
     "metadata": {},
     "output_type": "execute_result"
    }
   ],
   "source": [
    "df_lg.describe()"
   ]
  },
  {
   "cell_type": "code",
   "execution_count": 48,
   "metadata": {},
   "outputs": [
    {
     "data": {
      "text/plain": [
       "(72, 12)"
      ]
     },
     "execution_count": 48,
     "metadata": {},
     "output_type": "execute_result"
    }
   ],
   "source": [
    "df_lg.shape"
   ]
  },
  {
   "cell_type": "code",
   "execution_count": 49,
   "metadata": {},
   "outputs": [],
   "source": [
    "# np.random.seed(10)\n",
    "# np.random.randint(8,50,82)"
   ]
  },
  {
   "cell_type": "code",
   "execution_count": 57,
   "metadata": {},
   "outputs": [
    {
     "data": {
      "text/plain": [
       "(64, 15)"
      ]
     },
     "execution_count": 57,
     "metadata": {},
     "output_type": "execute_result"
    }
   ],
   "source": [
    "ysl_new.shape"
   ]
  },
  {
   "cell_type": "code",
   "execution_count": 35,
   "metadata": {},
   "outputs": [
    {
     "data": {
      "text/plain": [
       "array([47, 47, 22, 33, 12, 27, 13, 17, 11, 45, 28, 28, 48, 22, 26, 16, 37,\n",
       "       10, 21, 25, 33, 46, 23, 43, 38, 37, 24, 21, 41, 47, 21, 49, 19, 43,\n",
       "       49, 46, 32, 35, 15, 36, 36, 24, 37, 29, 40, 39, 44, 25, 38, 22, 26,\n",
       "       49, 43, 19, 21, 38, 14, 44, 38, 20, 25, 27, 19, 17, 48, 26, 29, 41,\n",
       "       33, 21, 39, 39])"
      ]
     },
     "execution_count": 35,
     "metadata": {},
     "output_type": "execute_result"
    }
   ],
   "source": [
    "np.random.randint(10,50,72)"
   ]
  },
  {
   "cell_type": "code",
   "execution_count": 58,
   "metadata": {},
   "outputs": [],
   "source": [
    "np.random.seed(30)\n",
    "# df_lg['运输车辆的最大装载量']=np.random.randint(10,50,72)\n",
    "ysl_new['运输车辆的最大装载量']=np.random.randint(10,50,64)"
   ]
  },
  {
   "cell_type": "code",
   "execution_count": 51,
   "metadata": {},
   "outputs": [],
   "source": [
    "np.random.seed(50)\n",
    "df_lg['车次']=np.random.randint(1,100,72)"
   ]
  },
  {
   "cell_type": "code",
   "execution_count": 52,
   "metadata": {},
   "outputs": [],
   "source": [
    "df_lg['日运输量新']=df_lg['日运输量']/df_lg['车次']*10000"
   ]
  },
  {
   "cell_type": "code",
   "execution_count": 53,
   "metadata": {},
   "outputs": [],
   "source": [
    "df_temp=df_lg['日运输量新']/df_lg['运输车辆的最大装载量']"
   ]
  },
  {
   "cell_type": "code",
   "execution_count": 54,
   "metadata": {},
   "outputs": [
    {
     "data": {
      "text/plain": [
       "count    72.000000\n",
       "mean      1.179460\n",
       "std       2.656022\n",
       "min       0.000354\n",
       "25%       0.029417\n",
       "50%       0.174780\n",
       "75%       0.888722\n",
       "max      13.856085\n",
       "dtype: float64"
      ]
     },
     "execution_count": 54,
     "metadata": {},
     "output_type": "execute_result"
    }
   ],
   "source": [
    "df_temp.describe()"
   ]
  },
  {
   "cell_type": "code",
   "execution_count": 55,
   "metadata": {},
   "outputs": [
    {
     "data": {
      "text/html": [
       "<div>\n",
       "<style scoped>\n",
       "    .dataframe tbody tr th:only-of-type {\n",
       "        vertical-align: middle;\n",
       "    }\n",
       "\n",
       "    .dataframe tbody tr th {\n",
       "        vertical-align: top;\n",
       "    }\n",
       "\n",
       "    .dataframe thead th {\n",
       "        text-align: right;\n",
       "    }\n",
       "</style>\n",
       "<table border=\"1\" class=\"dataframe\">\n",
       "  <thead>\n",
       "    <tr style=\"text-align: right;\">\n",
       "      <th></th>\n",
       "      <th>物质量</th>\n",
       "      <th>日运输量</th>\n",
       "      <th>重车起点</th>\n",
       "      <th>重车终点</th>\n",
       "      <th>空车起点</th>\n",
       "      <th>空车终点</th>\n",
       "      <th>运输车辆的最大装载量</th>\n",
       "      <th>车次</th>\n",
       "      <th>日运输量新</th>\n",
       "    </tr>\n",
       "  </thead>\n",
       "  <tbody>\n",
       "    <tr>\n",
       "      <th>count</th>\n",
       "      <td>72.000000</td>\n",
       "      <td>72.000000</td>\n",
       "      <td>72.000000</td>\n",
       "      <td>72.000000</td>\n",
       "      <td>72.000000</td>\n",
       "      <td>72.000000</td>\n",
       "      <td>72.000000</td>\n",
       "      <td>72.000000</td>\n",
       "      <td>72.000000</td>\n",
       "    </tr>\n",
       "    <tr>\n",
       "      <th>mean</th>\n",
       "      <td>19.078750</td>\n",
       "      <td>0.054511</td>\n",
       "      <td>21.277778</td>\n",
       "      <td>26.694444</td>\n",
       "      <td>26.694444</td>\n",
       "      <td>21.277778</td>\n",
       "      <td>31.152778</td>\n",
       "      <td>47.472222</td>\n",
       "      <td>31.152054</td>\n",
       "    </tr>\n",
       "    <tr>\n",
       "      <th>std</th>\n",
       "      <td>32.631981</td>\n",
       "      <td>0.093234</td>\n",
       "      <td>18.064222</td>\n",
       "      <td>17.818837</td>\n",
       "      <td>17.818837</td>\n",
       "      <td>18.064222</td>\n",
       "      <td>11.243351</td>\n",
       "      <td>31.283336</td>\n",
       "      <td>68.317357</td>\n",
       "    </tr>\n",
       "    <tr>\n",
       "      <th>min</th>\n",
       "      <td>0.020000</td>\n",
       "      <td>0.000057</td>\n",
       "      <td>3.000000</td>\n",
       "      <td>3.000000</td>\n",
       "      <td>3.000000</td>\n",
       "      <td>3.000000</td>\n",
       "      <td>10.000000</td>\n",
       "      <td>1.000000</td>\n",
       "      <td>0.013825</td>\n",
       "    </tr>\n",
       "    <tr>\n",
       "      <th>25%</th>\n",
       "      <td>1.477500</td>\n",
       "      <td>0.004221</td>\n",
       "      <td>3.000000</td>\n",
       "      <td>8.000000</td>\n",
       "      <td>8.000000</td>\n",
       "      <td>3.000000</td>\n",
       "      <td>21.750000</td>\n",
       "      <td>20.750000</td>\n",
       "      <td>1.002728</td>\n",
       "    </tr>\n",
       "    <tr>\n",
       "      <th>50%</th>\n",
       "      <td>5.970000</td>\n",
       "      <td>0.017057</td>\n",
       "      <td>15.000000</td>\n",
       "      <td>32.000000</td>\n",
       "      <td>32.000000</td>\n",
       "      <td>15.000000</td>\n",
       "      <td>30.500000</td>\n",
       "      <td>46.500000</td>\n",
       "      <td>6.403025</td>\n",
       "    </tr>\n",
       "    <tr>\n",
       "      <th>75%</th>\n",
       "      <td>18.390000</td>\n",
       "      <td>0.052543</td>\n",
       "      <td>43.000000</td>\n",
       "      <td>43.000000</td>\n",
       "      <td>43.000000</td>\n",
       "      <td>43.000000</td>\n",
       "      <td>40.250000</td>\n",
       "      <td>72.000000</td>\n",
       "      <td>19.791667</td>\n",
       "    </tr>\n",
       "    <tr>\n",
       "      <th>max</th>\n",
       "      <td>140.560000</td>\n",
       "      <td>0.401600</td>\n",
       "      <td>48.000000</td>\n",
       "      <td>58.000000</td>\n",
       "      <td>58.000000</td>\n",
       "      <td>48.000000</td>\n",
       "      <td>49.000000</td>\n",
       "      <td>97.000000</td>\n",
       "      <td>374.114286</td>\n",
       "    </tr>\n",
       "  </tbody>\n",
       "</table>\n",
       "</div>"
      ],
      "text/plain": [
       "              物质量       日运输量       重车起点       重车终点       空车起点       空车终点  \\\n",
       "count   72.000000  72.000000  72.000000  72.000000  72.000000  72.000000   \n",
       "mean    19.078750   0.054511  21.277778  26.694444  26.694444  21.277778   \n",
       "std     32.631981   0.093234  18.064222  17.818837  17.818837  18.064222   \n",
       "min      0.020000   0.000057   3.000000   3.000000   3.000000   3.000000   \n",
       "25%      1.477500   0.004221   3.000000   8.000000   8.000000   3.000000   \n",
       "50%      5.970000   0.017057  15.000000  32.000000  32.000000  15.000000   \n",
       "75%     18.390000   0.052543  43.000000  43.000000  43.000000  43.000000   \n",
       "max    140.560000   0.401600  48.000000  58.000000  58.000000  48.000000   \n",
       "\n",
       "       运输车辆的最大装载量         车次       日运输量新  \n",
       "count   72.000000  72.000000   72.000000  \n",
       "mean    31.152778  47.472222   31.152054  \n",
       "std     11.243351  31.283336   68.317357  \n",
       "min     10.000000   1.000000    0.013825  \n",
       "25%     21.750000  20.750000    1.002728  \n",
       "50%     30.500000  46.500000    6.403025  \n",
       "75%     40.250000  72.000000   19.791667  \n",
       "max     49.000000  97.000000  374.114286  "
      ]
     },
     "execution_count": 55,
     "metadata": {},
     "output_type": "execute_result"
    }
   ],
   "source": [
    "df_lg.describe()"
   ]
  },
  {
   "cell_type": "code",
   "execution_count": 56,
   "metadata": {},
   "outputs": [],
   "source": [
    "df_lg['车辆折算系数']=df_lg['运输车辆的最大装载量']/(59/2)*(5.1/2)\n"
   ]
  },
  {
   "cell_type": "code",
   "execution_count": 59,
   "metadata": {},
   "outputs": [],
   "source": [
    "ysl_new['车辆折算系数']=ysl_new['运输车辆的最大装载量']/(59/2)*(5.1/2)"
   ]
  },
  {
   "cell_type": "code",
   "execution_count": 60,
   "metadata": {},
   "outputs": [
    {
     "data": {
      "text/html": [
       "<div>\n",
       "<style scoped>\n",
       "    .dataframe tbody tr th:only-of-type {\n",
       "        vertical-align: middle;\n",
       "    }\n",
       "\n",
       "    .dataframe tbody tr th {\n",
       "        vertical-align: top;\n",
       "    }\n",
       "\n",
       "    .dataframe thead th {\n",
       "        text-align: right;\n",
       "    }\n",
       "</style>\n",
       "<table border=\"1\" class=\"dataframe\">\n",
       "  <thead>\n",
       "    <tr style=\"text-align: right;\">\n",
       "      <th></th>\n",
       "      <th>流转类型</th>\n",
       "      <th>运输方式</th>\n",
       "      <th>来源单元</th>\n",
       "      <th>到达单元</th>\n",
       "      <th>物质名称</th>\n",
       "      <th>物质量</th>\n",
       "      <th>日运输量</th>\n",
       "      <th>重车起点</th>\n",
       "      <th>重车终点</th>\n",
       "      <th>空车起点</th>\n",
       "      <th>空车终点</th>\n",
       "      <th>运输车辆的最大装载量</th>\n",
       "      <th>车次</th>\n",
       "      <th>日运输量新</th>\n",
       "      <th>车辆折算系数</th>\n",
       "    </tr>\n",
       "  </thead>\n",
       "  <tbody>\n",
       "    <tr>\n",
       "      <th>0</th>\n",
       "      <td>回收物流</td>\n",
       "      <td>道路</td>\n",
       "      <td>炼钢1</td>\n",
       "      <td>废钢堆场_1</td>\n",
       "      <td>钢水罐铸余及事故钢水</td>\n",
       "      <td>9.37</td>\n",
       "      <td>0.026771</td>\n",
       "      <td>28.0</td>\n",
       "      <td>15.0</td>\n",
       "      <td>15.0</td>\n",
       "      <td>28.0</td>\n",
       "      <td>47</td>\n",
       "      <td>NaN</td>\n",
       "      <td>NaN</td>\n",
       "      <td>4.062712</td>\n",
       "    </tr>\n",
       "    <tr>\n",
       "      <th>1</th>\n",
       "      <td>回收物流</td>\n",
       "      <td>道路</td>\n",
       "      <td>炼钢1</td>\n",
       "      <td>废钢堆场_1</td>\n",
       "      <td>连铸切头切尾</td>\n",
       "      <td>4.68</td>\n",
       "      <td>0.013371</td>\n",
       "      <td>28.0</td>\n",
       "      <td>15.0</td>\n",
       "      <td>15.0</td>\n",
       "      <td>28.0</td>\n",
       "      <td>47</td>\n",
       "      <td>NaN</td>\n",
       "      <td>NaN</td>\n",
       "      <td>4.062712</td>\n",
       "    </tr>\n",
       "    <tr>\n",
       "      <th>2</th>\n",
       "      <td>回收物流</td>\n",
       "      <td>道路</td>\n",
       "      <td>炼钢1</td>\n",
       "      <td>废钢堆场_1</td>\n",
       "      <td>废连铸坯及试样</td>\n",
       "      <td>2.60</td>\n",
       "      <td>0.007429</td>\n",
       "      <td>28.0</td>\n",
       "      <td>15.0</td>\n",
       "      <td>15.0</td>\n",
       "      <td>28.0</td>\n",
       "      <td>22</td>\n",
       "      <td>NaN</td>\n",
       "      <td>NaN</td>\n",
       "      <td>1.901695</td>\n",
       "    </tr>\n",
       "    <tr>\n",
       "      <th>3</th>\n",
       "      <td>回收物流</td>\n",
       "      <td>道路</td>\n",
       "      <td>炼钢1</td>\n",
       "      <td>废钢堆场_1</td>\n",
       "      <td>连铸废旧备件</td>\n",
       "      <td>1.33</td>\n",
       "      <td>0.003800</td>\n",
       "      <td>28.0</td>\n",
       "      <td>15.0</td>\n",
       "      <td>15.0</td>\n",
       "      <td>28.0</td>\n",
       "      <td>33</td>\n",
       "      <td>NaN</td>\n",
       "      <td>NaN</td>\n",
       "      <td>2.852542</td>\n",
       "    </tr>\n",
       "    <tr>\n",
       "      <th>4</th>\n",
       "      <td>回收物流</td>\n",
       "      <td>道路</td>\n",
       "      <td>炼钢1</td>\n",
       "      <td>原料厂1</td>\n",
       "      <td>炼钢集尘粉</td>\n",
       "      <td>20.82</td>\n",
       "      <td>0.059486</td>\n",
       "      <td>28.0</td>\n",
       "      <td>17.0</td>\n",
       "      <td>17.0</td>\n",
       "      <td>28.0</td>\n",
       "      <td>12</td>\n",
       "      <td>NaN</td>\n",
       "      <td>NaN</td>\n",
       "      <td>1.037288</td>\n",
       "    </tr>\n",
       "  </tbody>\n",
       "</table>\n",
       "</div>"
      ],
      "text/plain": [
       "   流转类型 运输方式 来源单元    到达单元        物质名称    物质量      日运输量  重车起点  重车终点  空车起点  \\\n",
       "0  回收物流   道路  炼钢1  废钢堆场_1  钢水罐铸余及事故钢水   9.37  0.026771  28.0  15.0  15.0   \n",
       "1  回收物流   道路  炼钢1  废钢堆场_1      连铸切头切尾   4.68  0.013371  28.0  15.0  15.0   \n",
       "2  回收物流   道路  炼钢1  废钢堆场_1     废连铸坯及试样   2.60  0.007429  28.0  15.0  15.0   \n",
       "3  回收物流   道路  炼钢1  废钢堆场_1      连铸废旧备件   1.33  0.003800  28.0  15.0  15.0   \n",
       "4  回收物流   道路  炼钢1    原料厂1       炼钢集尘粉  20.82  0.059486  28.0  17.0  17.0   \n",
       "\n",
       "   空车终点  运输车辆的最大装载量  车次  日运输量新    车辆折算系数  \n",
       "0  28.0          47 NaN    NaN  4.062712  \n",
       "1  28.0          47 NaN    NaN  4.062712  \n",
       "2  28.0          22 NaN    NaN  1.901695  \n",
       "3  28.0          33 NaN    NaN  2.852542  \n",
       "4  28.0          12 NaN    NaN  1.037288  "
      ]
     },
     "execution_count": 60,
     "metadata": {},
     "output_type": "execute_result"
    }
   ],
   "source": [
    "ysl_new.head()"
   ]
  },
  {
   "cell_type": "code",
   "execution_count": 63,
   "metadata": {},
   "outputs": [],
   "source": [
    "ysl_new['重车起点']=ysl_new['重车起点']+1\n",
    "ysl_new['重车终点']=ysl_new['重车终点']+1\n",
    "ysl_new['空车起点']=ysl_new['空车起点']+1\n",
    "ysl_new['空车终点']=ysl_new['空车终点']+1"
   ]
  },
  {
   "cell_type": "code",
   "execution_count": 64,
   "metadata": {},
   "outputs": [
    {
     "data": {
      "text/html": [
       "<div>\n",
       "<style scoped>\n",
       "    .dataframe tbody tr th:only-of-type {\n",
       "        vertical-align: middle;\n",
       "    }\n",
       "\n",
       "    .dataframe tbody tr th {\n",
       "        vertical-align: top;\n",
       "    }\n",
       "\n",
       "    .dataframe thead th {\n",
       "        text-align: right;\n",
       "    }\n",
       "</style>\n",
       "<table border=\"1\" class=\"dataframe\">\n",
       "  <thead>\n",
       "    <tr style=\"text-align: right;\">\n",
       "      <th></th>\n",
       "      <th>流转类型</th>\n",
       "      <th>运输方式</th>\n",
       "      <th>来源单元</th>\n",
       "      <th>到达单元</th>\n",
       "      <th>物质名称</th>\n",
       "      <th>物质量</th>\n",
       "      <th>日运输量</th>\n",
       "      <th>重车起点</th>\n",
       "      <th>重车终点</th>\n",
       "      <th>空车起点</th>\n",
       "      <th>空车终点</th>\n",
       "      <th>运输车辆的最大装载量</th>\n",
       "      <th>车次</th>\n",
       "      <th>日运输量新</th>\n",
       "      <th>车辆折算系数</th>\n",
       "    </tr>\n",
       "  </thead>\n",
       "  <tbody>\n",
       "    <tr>\n",
       "      <th>0</th>\n",
       "      <td>回收物流</td>\n",
       "      <td>道路</td>\n",
       "      <td>炼钢1</td>\n",
       "      <td>废钢堆场_1</td>\n",
       "      <td>钢水罐铸余及事故钢水</td>\n",
       "      <td>9.37</td>\n",
       "      <td>0.026771</td>\n",
       "      <td>29.0</td>\n",
       "      <td>16.0</td>\n",
       "      <td>16.0</td>\n",
       "      <td>29.0</td>\n",
       "      <td>47</td>\n",
       "      <td>NaN</td>\n",
       "      <td>NaN</td>\n",
       "      <td>4.062712</td>\n",
       "    </tr>\n",
       "    <tr>\n",
       "      <th>1</th>\n",
       "      <td>回收物流</td>\n",
       "      <td>道路</td>\n",
       "      <td>炼钢1</td>\n",
       "      <td>废钢堆场_1</td>\n",
       "      <td>连铸切头切尾</td>\n",
       "      <td>4.68</td>\n",
       "      <td>0.013371</td>\n",
       "      <td>29.0</td>\n",
       "      <td>16.0</td>\n",
       "      <td>16.0</td>\n",
       "      <td>29.0</td>\n",
       "      <td>47</td>\n",
       "      <td>NaN</td>\n",
       "      <td>NaN</td>\n",
       "      <td>4.062712</td>\n",
       "    </tr>\n",
       "    <tr>\n",
       "      <th>2</th>\n",
       "      <td>回收物流</td>\n",
       "      <td>道路</td>\n",
       "      <td>炼钢1</td>\n",
       "      <td>废钢堆场_1</td>\n",
       "      <td>废连铸坯及试样</td>\n",
       "      <td>2.60</td>\n",
       "      <td>0.007429</td>\n",
       "      <td>29.0</td>\n",
       "      <td>16.0</td>\n",
       "      <td>16.0</td>\n",
       "      <td>29.0</td>\n",
       "      <td>22</td>\n",
       "      <td>NaN</td>\n",
       "      <td>NaN</td>\n",
       "      <td>1.901695</td>\n",
       "    </tr>\n",
       "    <tr>\n",
       "      <th>3</th>\n",
       "      <td>回收物流</td>\n",
       "      <td>道路</td>\n",
       "      <td>炼钢1</td>\n",
       "      <td>废钢堆场_1</td>\n",
       "      <td>连铸废旧备件</td>\n",
       "      <td>1.33</td>\n",
       "      <td>0.003800</td>\n",
       "      <td>29.0</td>\n",
       "      <td>16.0</td>\n",
       "      <td>16.0</td>\n",
       "      <td>29.0</td>\n",
       "      <td>33</td>\n",
       "      <td>NaN</td>\n",
       "      <td>NaN</td>\n",
       "      <td>2.852542</td>\n",
       "    </tr>\n",
       "    <tr>\n",
       "      <th>4</th>\n",
       "      <td>回收物流</td>\n",
       "      <td>道路</td>\n",
       "      <td>炼钢1</td>\n",
       "      <td>原料厂1</td>\n",
       "      <td>炼钢集尘粉</td>\n",
       "      <td>20.82</td>\n",
       "      <td>0.059486</td>\n",
       "      <td>29.0</td>\n",
       "      <td>18.0</td>\n",
       "      <td>18.0</td>\n",
       "      <td>29.0</td>\n",
       "      <td>12</td>\n",
       "      <td>NaN</td>\n",
       "      <td>NaN</td>\n",
       "      <td>1.037288</td>\n",
       "    </tr>\n",
       "  </tbody>\n",
       "</table>\n",
       "</div>"
      ],
      "text/plain": [
       "   流转类型 运输方式 来源单元    到达单元        物质名称    物质量      日运输量  重车起点  重车终点  空车起点  \\\n",
       "0  回收物流   道路  炼钢1  废钢堆场_1  钢水罐铸余及事故钢水   9.37  0.026771  29.0  16.0  16.0   \n",
       "1  回收物流   道路  炼钢1  废钢堆场_1      连铸切头切尾   4.68  0.013371  29.0  16.0  16.0   \n",
       "2  回收物流   道路  炼钢1  废钢堆场_1     废连铸坯及试样   2.60  0.007429  29.0  16.0  16.0   \n",
       "3  回收物流   道路  炼钢1  废钢堆场_1      连铸废旧备件   1.33  0.003800  29.0  16.0  16.0   \n",
       "4  回收物流   道路  炼钢1    原料厂1       炼钢集尘粉  20.82  0.059486  29.0  18.0  18.0   \n",
       "\n",
       "   空车终点  运输车辆的最大装载量  车次  日运输量新    车辆折算系数  \n",
       "0  29.0          47 NaN    NaN  4.062712  \n",
       "1  29.0          47 NaN    NaN  4.062712  \n",
       "2  29.0          22 NaN    NaN  1.901695  \n",
       "3  29.0          33 NaN    NaN  2.852542  \n",
       "4  29.0          12 NaN    NaN  1.037288  "
      ]
     },
     "execution_count": 64,
     "metadata": {},
     "output_type": "execute_result"
    }
   ],
   "source": [
    "ysl_new.head()"
   ]
  },
  {
   "cell_type": "code",
   "execution_count": null,
   "metadata": {},
   "outputs": [],
   "source": []
  },
  {
   "cell_type": "code",
   "execution_count": 66,
   "metadata": {},
   "outputs": [],
   "source": [
    "ysl_new.to_excel('日照钢铁物料运输量表_new.xlsx',index=False)"
   ]
  },
  {
   "cell_type": "code",
   "execution_count": null,
   "metadata": {},
   "outputs": [],
   "source": []
  },
  {
   "cell_type": "code",
   "execution_count": 57,
   "metadata": {},
   "outputs": [
    {
     "data": {
      "text/plain": [
       "3418"
      ]
     },
     "execution_count": 57,
     "metadata": {},
     "output_type": "execute_result"
    }
   ],
   "source": [
    "df_lg['车次'].sum()"
   ]
  },
  {
   "cell_type": "code",
   "execution_count": 58,
   "metadata": {},
   "outputs": [
    {
     "data": {
      "text/html": [
       "<div>\n",
       "<style scoped>\n",
       "    .dataframe tbody tr th:only-of-type {\n",
       "        vertical-align: middle;\n",
       "    }\n",
       "\n",
       "    .dataframe tbody tr th {\n",
       "        vertical-align: top;\n",
       "    }\n",
       "\n",
       "    .dataframe thead th {\n",
       "        text-align: right;\n",
       "    }\n",
       "</style>\n",
       "<table border=\"1\" class=\"dataframe\">\n",
       "  <thead>\n",
       "    <tr style=\"text-align: right;\">\n",
       "      <th></th>\n",
       "      <th>流转类型</th>\n",
       "      <th>运输方式</th>\n",
       "      <th>来源单元</th>\n",
       "      <th>到达单元</th>\n",
       "      <th>物质名称</th>\n",
       "      <th>物质品类</th>\n",
       "      <th>物质量</th>\n",
       "      <th>日运输量</th>\n",
       "      <th>重车起点</th>\n",
       "      <th>重车终点</th>\n",
       "      <th>空车起点</th>\n",
       "      <th>空车终点</th>\n",
       "      <th>运输车辆的最大装载量</th>\n",
       "      <th>车次</th>\n",
       "      <th>日运输量新</th>\n",
       "      <th>车辆折算系数</th>\n",
       "    </tr>\n",
       "  </thead>\n",
       "  <tbody>\n",
       "    <tr>\n",
       "      <th>9</th>\n",
       "      <td>钢扎</td>\n",
       "      <td>公路</td>\n",
       "      <td>老炼钢</td>\n",
       "      <td>二棒</td>\n",
       "      <td>钢坯</td>\n",
       "      <td>粗钢</td>\n",
       "      <td>140.56</td>\n",
       "      <td>0.401600</td>\n",
       "      <td>43</td>\n",
       "      <td>40</td>\n",
       "      <td>40</td>\n",
       "      <td>43</td>\n",
       "      <td>47</td>\n",
       "      <td>49</td>\n",
       "      <td>81.959184</td>\n",
       "      <td>4.062712</td>\n",
       "    </tr>\n",
       "    <tr>\n",
       "      <th>10</th>\n",
       "      <td>铁前</td>\n",
       "      <td>公路</td>\n",
       "      <td>炼焦厂_1</td>\n",
       "      <td>炼铁1-4</td>\n",
       "      <td>焦炭</td>\n",
       "      <td>主产品</td>\n",
       "      <td>139.79</td>\n",
       "      <td>0.399400</td>\n",
       "      <td>31</td>\n",
       "      <td>9</td>\n",
       "      <td>9</td>\n",
       "      <td>31</td>\n",
       "      <td>47</td>\n",
       "      <td>97</td>\n",
       "      <td>41.175258</td>\n",
       "      <td>4.062712</td>\n",
       "    </tr>\n",
       "    <tr>\n",
       "      <th>11</th>\n",
       "      <td>铁前</td>\n",
       "      <td>公路</td>\n",
       "      <td>炼焦厂_1</td>\n",
       "      <td>炼铁5</td>\n",
       "      <td>焦炭</td>\n",
       "      <td>主产品</td>\n",
       "      <td>121.42</td>\n",
       "      <td>0.346914</td>\n",
       "      <td>31</td>\n",
       "      <td>48</td>\n",
       "      <td>48</td>\n",
       "      <td>31</td>\n",
       "      <td>22</td>\n",
       "      <td>12</td>\n",
       "      <td>289.095238</td>\n",
       "      <td>1.901695</td>\n",
       "    </tr>\n",
       "    <tr>\n",
       "      <th>12</th>\n",
       "      <td>钢扎</td>\n",
       "      <td>公路</td>\n",
       "      <td>新炼钢</td>\n",
       "      <td>高线</td>\n",
       "      <td>钢坯</td>\n",
       "      <td>粗钢</td>\n",
       "      <td>119.54</td>\n",
       "      <td>0.341543</td>\n",
       "      <td>32</td>\n",
       "      <td>42</td>\n",
       "      <td>42</td>\n",
       "      <td>32</td>\n",
       "      <td>33</td>\n",
       "      <td>34</td>\n",
       "      <td>100.453782</td>\n",
       "      <td>2.852542</td>\n",
       "    </tr>\n",
       "    <tr>\n",
       "      <th>13</th>\n",
       "      <td>铁前</td>\n",
       "      <td>公路</td>\n",
       "      <td>原料场</td>\n",
       "      <td>石灰厂</td>\n",
       "      <td>石灰石</td>\n",
       "      <td>熔剂</td>\n",
       "      <td>117.86</td>\n",
       "      <td>0.336743</td>\n",
       "      <td>3</td>\n",
       "      <td>15</td>\n",
       "      <td>15</td>\n",
       "      <td>3</td>\n",
       "      <td>12</td>\n",
       "      <td>95</td>\n",
       "      <td>35.446617</td>\n",
       "      <td>1.037288</td>\n",
       "    </tr>\n",
       "  </tbody>\n",
       "</table>\n",
       "</div>"
      ],
      "text/plain": [
       "   流转类型 运输方式   来源单元   到达单元 物质名称 物质品类     物质量      日运输量  重车起点  重车终点  空车起点  \\\n",
       "9    钢扎   公路    老炼钢     二棒   钢坯   粗钢  140.56  0.401600    43    40    40   \n",
       "10   铁前   公路  炼焦厂_1  炼铁1-4   焦炭  主产品  139.79  0.399400    31     9     9   \n",
       "11   铁前   公路  炼焦厂_1    炼铁5   焦炭  主产品  121.42  0.346914    31    48    48   \n",
       "12   钢扎   公路    新炼钢     高线   钢坯   粗钢  119.54  0.341543    32    42    42   \n",
       "13   铁前   公路    原料场    石灰厂  石灰石   熔剂  117.86  0.336743     3    15    15   \n",
       "\n",
       "    空车终点  运输车辆的最大装载量  车次       日运输量新    车辆折算系数  \n",
       "9     43          47  49   81.959184  4.062712  \n",
       "10    31          47  97   41.175258  4.062712  \n",
       "11    31          22  12  289.095238  1.901695  \n",
       "12    32          33  34  100.453782  2.852542  \n",
       "13     3          12  95   35.446617  1.037288  "
      ]
     },
     "execution_count": 58,
     "metadata": {},
     "output_type": "execute_result"
    }
   ],
   "source": [
    "df_lg.head()"
   ]
  },
  {
   "cell_type": "code",
   "execution_count": 59,
   "metadata": {},
   "outputs": [],
   "source": [
    "df_lg.to_csv('龙钢运输量表_final.csv',index=False)"
   ]
  },
  {
   "cell_type": "code",
   "execution_count": 60,
   "metadata": {},
   "outputs": [],
   "source": [
    "df_lg.to_excel('龙钢运输量表_final.xlsx',index=False)"
   ]
  },
  {
   "cell_type": "code",
   "execution_count": null,
   "metadata": {},
   "outputs": [],
   "source": []
  },
  {
   "cell_type": "code",
   "execution_count": null,
   "metadata": {},
   "outputs": [],
   "source": []
  },
  {
   "cell_type": "code",
   "execution_count": null,
   "metadata": {},
   "outputs": [],
   "source": []
  },
  {
   "cell_type": "code",
   "execution_count": null,
   "metadata": {},
   "outputs": [],
   "source": []
  },
  {
   "cell_type": "code",
   "execution_count": 61,
   "metadata": {},
   "outputs": [],
   "source": [
    "# set(ysl_new['物质名称'])"
   ]
  },
  {
   "cell_type": "code",
   "execution_count": 45,
   "metadata": {},
   "outputs": [
    {
     "name": "stdout",
     "output_type": "stream",
     "text": [
      " Volume in drive E is 学校资料资源教学\n",
      " Volume Serial Number is 5ADC-AF84\n",
      "\n",
      " Directory of E:\\tsl_file\\python_project\\gene\n",
      "\n",
      "2020/03/26  11:24    <DIR>          .\n",
      "2020/03/26  11:24    <DIR>          ..\n",
      "2020/03/26  11:23    <DIR>          .idea\n",
      "2020/03/25  16:32    <DIR>          .ipynb_checkpoints\n",
      "2020/03/18  10:58           712,932 1.总览.pdf\n",
      "2020/03/18  11:24           281,284 2.数据结构.pdf\n",
      "2020/03/26  10:26            27,221 2018年运输量表-766万吨产能 20190410(1).xlsx\n",
      "2020/03/18  16:18           915,928 3.快速入门.pdf\n",
      "2020/03/18  13:32         1,025,649 4.进化算法模板.pdf\n",
      "2020/03/24  17:03           479,811 5.多染色体混合编码.pdf\n",
      "2020/03/24  17:08           231,949 6.多种群进化优化.pdf\n",
      "2020/03/25  14:39            14,231 distance.csv\n",
      "2020/03/25  15:54            14,119 FD.csv\n",
      "2020/03/25  15:54            14,119 FF.csv\n",
      "2020/03/25  15:54            14,119 FHV.csv\n",
      "2020/03/25  15:54            14,255 FW.csv\n",
      "2020/03/17  14:55    <DIR>          geatpy_example\n",
      "2020/03/17  12:32             7,959 gene.py\n",
      "2020/03/25  14:24             1,271 graph\n",
      "2020/03/26  10:15           235,566 model.ipynb\n",
      "2020/03/25  15:54            14,255 MSF.csv\n",
      "2020/03/26  11:24            49,950 shortest_path_data_build.ipynb\n",
      "2020/03/17  10:38                37 temp.py\n",
      "2020/03/18  14:04             5,672 Untitled.ipynb\n",
      "2020/03/26  10:09             8,926 龙钢运输量表.csv\n",
      "2020/03/26  10:09            10,941 龙钢运输量表.xlsx\n",
      "2020/03/23  16:01            12,534 陕西龙门钢铁（集团）有限责任公司物料运输量表.xlsx\n",
      "              22 File(s)      4,092,728 bytes\n",
      "               5 Dir(s)  148,438,798,336 bytes free\n"
     ]
    }
   ],
   "source": [
    "ls"
   ]
  },
  {
   "cell_type": "code",
   "execution_count": 51,
   "metadata": {},
   "outputs": [],
   "source": [
    "path='all_2018.xlsx'\n",
    "df_all=pd.read_excel(path)"
   ]
  },
  {
   "cell_type": "code",
   "execution_count": 52,
   "metadata": {},
   "outputs": [
    {
     "data": {
      "text/plain": [
       "Index([], dtype='object')"
      ]
     },
     "execution_count": 52,
     "metadata": {},
     "output_type": "execute_result"
    }
   ],
   "source": [
    "df_all.columns"
   ]
  },
  {
   "cell_type": "code",
   "execution_count": 54,
   "metadata": {},
   "outputs": [],
   "source": [
    "a=np.inf"
   ]
  },
  {
   "cell_type": "code",
   "execution_count": 55,
   "metadata": {},
   "outputs": [
    {
     "data": {
      "text/plain": [
       "float"
      ]
     },
     "execution_count": 55,
     "metadata": {},
     "output_type": "execute_result"
    }
   ],
   "source": [
    "type(a)"
   ]
  },
  {
   "cell_type": "code",
   "execution_count": 56,
   "metadata": {},
   "outputs": [
    {
     "data": {
      "text/plain": [
       "True"
      ]
     },
     "execution_count": 56,
     "metadata": {},
     "output_type": "execute_result"
    }
   ],
   "source": [
    "a>3"
   ]
  },
  {
   "cell_type": "code",
   "execution_count": 57,
   "metadata": {},
   "outputs": [
    {
     "data": {
      "text/plain": [
       "True"
      ]
     },
     "execution_count": 57,
     "metadata": {},
     "output_type": "execute_result"
    }
   ],
   "source": [
    "a>999999999"
   ]
  },
  {
   "cell_type": "code",
   "execution_count": 58,
   "metadata": {},
   "outputs": [
    {
     "data": {
      "text/plain": [
       "inf"
      ]
     },
     "execution_count": 58,
     "metadata": {},
     "output_type": "execute_result"
    }
   ],
   "source": [
    "3*a"
   ]
  },
  {
   "cell_type": "code",
   "execution_count": 1,
   "metadata": {},
   "outputs": [],
   "source": [
    "import numpy as np"
   ]
  },
  {
   "cell_type": "code",
   "execution_count": 2,
   "metadata": {},
   "outputs": [
    {
     "data": {
      "text/plain": [
       "array([[0, 1, 0],\n",
       "       [1, 0, 1],\n",
       "       [0, 0, 1]])"
      ]
     },
     "execution_count": 2,
     "metadata": {},
     "output_type": "execute_result"
    }
   ],
   "source": [
    "x=np.random.randint(0,2,(3,3))\n",
    "x"
   ]
  },
  {
   "cell_type": "code",
   "execution_count": 3,
   "metadata": {},
   "outputs": [
    {
     "data": {
      "text/plain": [
       "array([[0, 1, 0],\n",
       "       [1, 0, 1],\n",
       "       [0, 0, 1]])"
      ]
     },
     "execution_count": 3,
     "metadata": {},
     "output_type": "execute_result"
    }
   ],
   "source": [
    "x"
   ]
  },
  {
   "cell_type": "code",
   "execution_count": 4,
   "metadata": {},
   "outputs": [
    {
     "data": {
      "text/plain": [
       "array([1, 1, 2])"
      ]
     },
     "execution_count": 4,
     "metadata": {},
     "output_type": "execute_result"
    }
   ],
   "source": [
    "np.sum(x,axis=0)"
   ]
  },
  {
   "cell_type": "code",
   "execution_count": 5,
   "metadata": {},
   "outputs": [
    {
     "data": {
      "text/plain": [
       "array([1, 2, 1])"
      ]
     },
     "execution_count": 5,
     "metadata": {},
     "output_type": "execute_result"
    }
   ],
   "source": [
    "np.sum(x,axis=1)"
   ]
  },
  {
   "cell_type": "raw",
   "metadata": {},
   "source": []
  },
  {
   "cell_type": "code",
   "execution_count": 6,
   "metadata": {},
   "outputs": [],
   "source": [
    "data=[[ 0,  0,  0,  0,  0,  0,  0,  0,  1,  0,],\n",
    " [ 0,  0,  0,  0,  0,  0,  1,  0,  0,  0,],\n",
    " [ 0,  1,  0,  0,  0,  0,  0,  0,  0,  0,],\n",
    " [ 0,  0,  0,  0,  0,  0,  0,  0,  0,  0,],\n",
    " [ 0,  0,  1,  0,  0,  0,  0,  0,  0,  0,],\n",
    " [ 0,  0,  0,  0,  0,  1,  0,  0,  0,  0,],\n",
    " [ 0,  0,  0,  0,  0,  0,  0,  0,  0,  1,],\n",
    " [ 0,  0,  0, -0,  0,  0,  0,  1,  0,  0,],\n",
    " [ 0,  0,  0,  0,  1,  0,  0,  0,  0,  0,],\n",
    " [ 0,  0,  0,  0,  0,  0,  0,  0,  0,  0,],]\n",
    "data=np.array(data)"
   ]
  },
  {
   "cell_type": "code",
   "execution_count": 7,
   "metadata": {},
   "outputs": [
    {
     "data": {
      "text/plain": [
       "array([[0, 0, 0, 0, 0, 0, 0, 0, 1, 0],\n",
       "       [0, 0, 0, 0, 0, 0, 1, 0, 0, 0],\n",
       "       [0, 1, 0, 0, 0, 0, 0, 0, 0, 0],\n",
       "       [0, 0, 0, 0, 0, 0, 0, 0, 0, 0],\n",
       "       [0, 0, 1, 0, 0, 0, 0, 0, 0, 0],\n",
       "       [0, 0, 0, 0, 0, 1, 0, 0, 0, 0],\n",
       "       [0, 0, 0, 0, 0, 0, 0, 0, 0, 1],\n",
       "       [0, 0, 0, 0, 0, 0, 0, 1, 0, 0],\n",
       "       [0, 0, 0, 0, 1, 0, 0, 0, 0, 0],\n",
       "       [0, 0, 0, 0, 0, 0, 0, 0, 0, 0]])"
      ]
     },
     "execution_count": 7,
     "metadata": {},
     "output_type": "execute_result"
    }
   ],
   "source": [
    "data"
   ]
  },
  {
   "cell_type": "code",
   "execution_count": 8,
   "metadata": {},
   "outputs": [
    {
     "data": {
      "text/plain": [
       "array([1, 1, 1, 1, 1, 1, 1, 1])"
      ]
     },
     "execution_count": 8,
     "metadata": {},
     "output_type": "execute_result"
    }
   ],
   "source": [
    "data[data>0]"
   ]
  },
  {
   "cell_type": "code",
   "execution_count": 9,
   "metadata": {},
   "outputs": [
    {
     "data": {
      "text/plain": [
       "(array([0, 1, 2, 4, 5, 6, 7, 8], dtype=int64),\n",
       " array([8, 6, 1, 2, 5, 9, 7, 4], dtype=int64))"
      ]
     },
     "execution_count": 9,
     "metadata": {},
     "output_type": "execute_result"
    }
   ],
   "source": [
    "data_pair=np.where(data>0)\n",
    "data_pair"
   ]
  },
  {
   "cell_type": "code",
   "execution_count": 10,
   "metadata": {},
   "outputs": [
    {
     "name": "stdout",
     "output_type": "stream",
     "text": [
      "(0, 8)\n",
      "(1, 6)\n",
      "(2, 1)\n",
      "(4, 2)\n",
      "(5, 5)\n",
      "(6, 9)\n",
      "(7, 7)\n",
      "(8, 4)\n"
     ]
    }
   ],
   "source": [
    "node_sort={}\n",
    "for each_pair in zip(data_pair[0],data_pair[1]):\n",
    "    print(each_pair)\n",
    "    node_sort[each_pair[0]]=each_pair[1]\n",
    "    "
   ]
  },
  {
   "cell_type": "code",
   "execution_count": 11,
   "metadata": {},
   "outputs": [
    {
     "data": {
      "text/plain": [
       "{0: 8, 1: 6, 2: 1, 4: 2, 5: 5, 6: 9, 7: 7, 8: 4}"
      ]
     },
     "execution_count": 11,
     "metadata": {},
     "output_type": "execute_result"
    }
   ],
   "source": [
    "node_sort"
   ]
  },
  {
   "cell_type": "code",
   "execution_count": 29,
   "metadata": {},
   "outputs": [
    {
     "ename": "TypeError",
     "evalue": "show_sort() takes 0 positional arguments but 1 was given",
     "output_type": "error",
     "traceback": [
      "\u001b[1;31m---------------------------------------------------------------------------\u001b[0m",
      "\u001b[1;31mTypeError\u001b[0m                                 Traceback (most recent call last)",
      "\u001b[1;32m<ipython-input-29-583b37f52608>\u001b[0m in \u001b[0;36m<module>\u001b[1;34m\u001b[0m\n\u001b[0;32m      5\u001b[0m \u001b[1;33m\u001b[0m\u001b[0m\n\u001b[0;32m      6\u001b[0m \u001b[1;32mfor\u001b[0m \u001b[0m_\u001b[0m \u001b[1;32min\u001b[0m \u001b[0mrange\u001b[0m\u001b[1;33m(\u001b[0m\u001b[0mlen\u001b[0m\u001b[1;33m(\u001b[0m\u001b[0mnode_sort\u001b[0m\u001b[1;33m)\u001b[0m\u001b[1;33m)\u001b[0m\u001b[1;33m:\u001b[0m\u001b[1;33m\u001b[0m\u001b[0m\n\u001b[1;32m----> 7\u001b[1;33m     \u001b[0mprint\u001b[0m\u001b[1;33m(\u001b[0m\u001b[0mshow_sort\u001b[0m\u001b[1;33m(\u001b[0m\u001b[0mshow_sort\u001b[0m\u001b[1;33m(\u001b[0m\u001b[1;33m)\u001b[0m\u001b[1;33m)\u001b[0m\u001b[1;33m)\u001b[0m\u001b[1;33m\u001b[0m\u001b[0m\n\u001b[0m\u001b[0;32m      8\u001b[0m \u001b[1;33m\u001b[0m\u001b[0m\n\u001b[0;32m      9\u001b[0m \u001b[1;33m\u001b[0m\u001b[0m\n",
      "\u001b[1;31mTypeError\u001b[0m: show_sort() takes 0 positional arguments but 1 was given"
     ]
    }
   ],
   "source": [
    "\n",
    "def show_sort():\n",
    "    if i==0:\n",
    "     return node_sort[0]\n",
    "    else:\n",
    "        show_sort()\n",
    "    \n",
    "     \n",
    "for _ in range(len(node_sort)):\n",
    "    print()\n",
    "    \n",
    "                \n",
    "        \n",
    "        \n",
    "show_sort(0)"
   ]
  },
  {
   "cell_type": "code",
   "execution_count": null,
   "metadata": {},
   "outputs": [],
   "source": []
  },
  {
   "cell_type": "code",
   "execution_count": null,
   "metadata": {},
   "outputs": [],
   "source": []
  },
  {
   "cell_type": "code",
   "execution_count": null,
   "metadata": {},
   "outputs": [],
   "source": []
  },
  {
   "cell_type": "code",
   "execution_count": null,
   "metadata": {},
   "outputs": [],
   "source": []
  },
  {
   "cell_type": "code",
   "execution_count": null,
   "metadata": {},
   "outputs": [],
   "source": []
  },
  {
   "cell_type": "code",
   "execution_count": null,
   "metadata": {},
   "outputs": [],
   "source": []
  },
  {
   "cell_type": "code",
   "execution_count": null,
   "metadata": {},
   "outputs": [],
   "source": []
  },
  {
   "cell_type": "code",
   "execution_count": null,
   "metadata": {},
   "outputs": [],
   "source": []
  },
  {
   "cell_type": "code",
   "execution_count": null,
   "metadata": {},
   "outputs": [],
   "source": []
  },
  {
   "cell_type": "code",
   "execution_count": null,
   "metadata": {},
   "outputs": [],
   "source": []
  },
  {
   "cell_type": "code",
   "execution_count": null,
   "metadata": {},
   "outputs": [],
   "source": []
  }
 ],
 "metadata": {
  "kernelspec": {
   "display_name": "Python 3",
   "language": "python",
   "name": "python3"
  },
  "language_info": {
   "codemirror_mode": {
    "name": "ipython",
    "version": 3
   },
   "file_extension": ".py",
   "mimetype": "text/x-python",
   "name": "python",
   "nbconvert_exporter": "python",
   "pygments_lexer": "ipython3",
   "version": "3.6.5"
  }
 },
 "nbformat": 4,
 "nbformat_minor": 2
}
