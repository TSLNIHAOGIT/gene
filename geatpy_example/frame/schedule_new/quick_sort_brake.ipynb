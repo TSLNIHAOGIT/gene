{
 "cells": [
  {
   "cell_type": "code",
   "execution_count": 1,
   "metadata": {},
   "outputs": [],
   "source": [
    "import tensorflow as tf\n",
    "import numpy as np\n",
    "import collections"
   ]
  },
  {
   "cell_type": "code",
   "execution_count": 2,
   "metadata": {},
   "outputs": [],
   "source": [
    "wait_list=np.array([[100.0, 16.0], [92.0, 16.2], [104.8, 16.24], [110.0, 17.2], [109.7, 16.24], [108.0, 17.25], [100.0, 16.0], [86.48, 14.24], [89.9, 15.0], [102.0, 16.24], [104.98, 16.23], [99.9, 16.24], [129.98, 16.23], [129.9, 16.24], [86.8, 16.2], [100.02, 17.63], [99.8, 16.24], [86.8, 14.83], [82.0, 14.03], [92.0, 14.83], [98.8, 16.2], [93.82, 16.2], [86.8, 16.23], [87.0, 14.83], [100.0, 17.23], [109.9, 17.24], [108.0, 17.25], [89.8, 14.8], [89.8, 16.04], [110.0, 19.25], [100.0, 16.0], [99.8, 16.23], [111.0, 18.0], [129.92, 16.24], [110.0, 19.25], [130.0, 16.0], [130.0, 16.0], [130.0, 16.0], [80.0, 13.63], [129.98, 16.26], [105.0, 16.0], [104.98, 16.23], [91.0, 15.0], [86.8, 16.23], [129.98, 16.23], [56.8, 10.0], [108.0, 17.25], [110.0, 16.0], [105.0, 16.23], [100.0, 17.23], [95.0, 16.23], [110.0, 19.2], [99.8, 16.05], [129.9, 16.25], [99.8, 16.05], [79.6, 13.63], [100.0, 16.0], [130.0, 16.0], [130.0, 16.0], [108.0, 17.0], [80.0, 14.0], [86.8, 15.04], [99.8, 16.25], [61.0, 14.0], [86.86, 13.64], [99.8, 16.21], [76.7, 12.0], [110.0, 19.25], [92.0, 16.24], [92.0, 16.24], [99.8, 16.25], [90.0, 16.2], [99.8, 16.25], [106.0, 17.25], [92.0, 14.84], [99.8, 16.25], [91.3, 14.8], [92.0, 16.2], [99.8, 16.25], [105.0, 17.24], [95.0, 16.2], [105.0, 16.23], [92.0, 16.23], [110.0, 19.25], [105.0, 17.2], [79.6, 13.6], [110.0, 19.2], [79.6, 13.62], [108.0, 17.2], [65.5, 10.83], [87.0, 14.83], [68.0, 11.15], [92.0, 14.83], [98.9, 16.28], [78.0, 13.6], [92.0, 14.85], [110.0, 19.26], [86.48, 14.24], [110.0, 19.0], [88.0, 14.0], [105.0, 16.0], [79.8, 13.6], [129.97, 16.2], [130.0, 16.0], [109.8, 19.25], [90.0, 15.0], [99.8, 16.23], [105.0, 16.0], [108.0, 17.25], [107.0, 17.24], [78.0, 13.64], [110.0, 17.2], [107.0, 17.24], [99.6, 16.24], [112.0, 17.2], [110.0, 16.0], [104.81, 16.23], [85.28, 14.23], [80.0, 13.63], [80.0, 13.63], [105.0, 16.0], [104.81, 16.23], [99.6, 16.2], [105.0, 17.2], [99.8, 16.24], [110.0, 19.25], [78.0, 14.0], [99.6, 16.23], [89.8, 14.84], [110.0, 19.2], [129.97, 16.24], [129.97, 16.2], [110.0, 19.25], [57.6, 11.9], [80.0, 14.0], [87.0, 14.83], [100.2, 17.23], [86.48, 14.24], [110.0, 19.25], [65.5, 10.83], [79.6, 13.63], [80.0, 13.0], [85.32, 14.16], [79.58, 13.8], [90.45, 14.83], [106.0, 17.25], [106.0, 17.25], [109.88, 19.25], [104.9, 16.23], [84.9, 14.03], [90.8, 14.84], [90.8, 14.84], [82.0, 14.24], [92.0, 16.24], [92.0, 14.8], [110.0, 19.28], [79.6, 13.63], [104.88, 16.23], [107.0, 14.0], [99.8, 16.3], [80.0, 13.22], [79.78, 13.22], [87.0, 13.6], [87.0, 13.62], [87.0, 14.83], [87.0, 14.8], [109.42, 17.2], [79.0, 13.0], [105.0, 16.0], [110.0, 19.26], [110.0, 19.24], [110.0, 19.2], [110.0, 19.2], [82.3, 14.32], [87.8, 14.82], [104.8, 16.23], [105.0, 16.25], [99.8, 16.25], [88.0, 16.23], [105.0, 16.25], [86.0, 14.0], [86.8, 14.04], [104.88, 16.24], [80.0, 14.0], [92.0, 14.83], [64.9, 11.5], [99.8, 16.25], [100.0, 16.0], [86.8, 14.24], [86.0, 14.0], [78.0, 13.63], [82.0, 14.0], [87.0, 14.0], [88.0, 14.0], [108.8, 17.25], [130.0, 16.0], [86.0, 15.0], [106.8, 16.25], [105.0, 16.24], [106.0, 17.28], [106.0, 17.25], [99.8, 16.25], [90.8, 14.84], [110.0, 19.2], [110.0, 19.2], [86.8, 16.3], [79.6, 13.6], [79.6, 13.6], [79.6, 13.62], [79.6, 13.6], [92.0, 16.23], [99.8, 16.24], [105.0, 16.24], [105.0, 16.2], [79.6, 13.6], [79.6, 13.6], [99.0, 16.0], [79.0, 13.0], [110.0, 17.0], [105.0, 17.0], [92.0, 16.0], [92.0, 16.0], [110.0, 17.0], [110.0, 17.0], [80.0, 14.0], [89.0, 15.0], [105.02, 16.23], [92.0, 14.84], [88.0, 14.0], [100.0, 17.23], [100.0, 17.2], [100.0, 17.23], [100.0, 17.23], [75.7, 13.12], [74.3, 13.64], [87.0, 14.0], [85.0, 14.03], [82.0, 14.04], [107.0, 17.24], [110.0, 17.0], [90.0, 15.0], [105.0, 17.2], [104.81, 16.23], [129.98, 16.26], [129.98, 16.26], [84.0, 14.0], [92.0, 14.8], [99.6, 16.7], [104.98, 16.24], [110.0, 19.2], [92.0, 16.2], [99.8, 16.2], [87.0, 15.0], [79.6, 13.63], [83.0, 14.0]])\n",
    "wait_list=tf.Variable(wait_list[:15])\n",
    "# wait_list=tf.reshape(wait_list,(3,5,2))"
   ]
  },
  {
   "cell_type": "code",
   "execution_count": 3,
   "metadata": {},
   "outputs": [],
   "source": [
    "aa=np.random.randint(0,10,(5,3,2))"
   ]
  },
  {
   "cell_type": "code",
   "execution_count": 4,
   "metadata": {},
   "outputs": [
    {
     "data": {
      "text/plain": [
       "array([[[3, 4],\n",
       "        [8, 3],\n",
       "        [9, 0]],\n",
       "\n",
       "       [[6, 6],\n",
       "        [7, 2],\n",
       "        [2, 2]],\n",
       "\n",
       "       [[1, 1],\n",
       "        [0, 8],\n",
       "        [5, 0]],\n",
       "\n",
       "       [[9, 0],\n",
       "        [9, 6],\n",
       "        [4, 0]],\n",
       "\n",
       "       [[5, 0],\n",
       "        [6, 7],\n",
       "        [1, 6]]])"
      ]
     },
     "execution_count": 4,
     "metadata": {},
     "output_type": "execute_result"
    }
   ],
   "source": [
    "aa"
   ]
  },
  {
   "cell_type": "code",
   "execution_count": 5,
   "metadata": {},
   "outputs": [],
   "source": [
    "aa[:,1:2,:]=[1,2]"
   ]
  },
  {
   "cell_type": "code",
   "execution_count": 6,
   "metadata": {},
   "outputs": [
    {
     "data": {
      "text/plain": [
       "<tf.Tensor: shape=(5, 3, 2), dtype=float32, numpy=\n",
       "array([[[3., 4.],\n",
       "        [1., 2.],\n",
       "        [9., 0.]],\n",
       "\n",
       "       [[6., 6.],\n",
       "        [1., 2.],\n",
       "        [2., 2.]],\n",
       "\n",
       "       [[1., 1.],\n",
       "        [1., 2.],\n",
       "        [5., 0.]],\n",
       "\n",
       "       [[9., 0.],\n",
       "        [1., 2.],\n",
       "        [4., 0.]],\n",
       "\n",
       "       [[5., 0.],\n",
       "        [1., 2.],\n",
       "        [1., 6.]]], dtype=float32)>"
      ]
     },
     "execution_count": 6,
     "metadata": {},
     "output_type": "execute_result"
    }
   ],
   "source": [
    "tf.cast(aa,tf.float32)"
   ]
  },
  {
   "cell_type": "code",
   "execution_count": 7,
   "metadata": {},
   "outputs": [],
   "source": [
    "a1=[[0,1],[0,0]]\n",
    "a2=[[1,0],[0,1]]"
   ]
  },
  {
   "cell_type": "code",
   "execution_count": 8,
   "metadata": {},
   "outputs": [
    {
     "data": {
      "text/plain": [
       "<tf.Tensor: shape=(2, 2), dtype=int32, numpy=\n",
       "array([[1, 1],\n",
       "       [0, 1]])>"
      ]
     },
     "execution_count": 8,
     "metadata": {},
     "output_type": "execute_result"
    }
   ],
   "source": [
    "#实数直接取最大值，也可以转为bool，用或运算\n",
    "#取最小值，相当于bool交运算\n",
    "tf.maximum(a1,a2)"
   ]
  },
  {
   "cell_type": "code",
   "execution_count": 9,
   "metadata": {},
   "outputs": [],
   "source": [
    "a3=tf.cast(a1,tf.bool) | tf.cast(a2,tf.bool)"
   ]
  },
  {
   "cell_type": "code",
   "execution_count": 10,
   "metadata": {},
   "outputs": [
    {
     "data": {
      "text/plain": [
       "<tf.Tensor: shape=(2, 2), dtype=float32, numpy=\n",
       "array([[1., 1.],\n",
       "       [0., 1.]], dtype=float32)>"
      ]
     },
     "execution_count": 10,
     "metadata": {},
     "output_type": "execute_result"
    }
   ],
   "source": [
    "tf.cast(a3,tf.float32)"
   ]
  },
  {
   "cell_type": "code",
   "execution_count": 11,
   "metadata": {},
   "outputs": [
    {
     "data": {
      "text/plain": [
       "<tf.Variable 'Variable:0' shape=(15, 2) dtype=float64, numpy=\n",
       "array([[100.  ,  16.  ],\n",
       "       [ 92.  ,  16.2 ],\n",
       "       [104.8 ,  16.24],\n",
       "       [110.  ,  17.2 ],\n",
       "       [109.7 ,  16.24],\n",
       "       [108.  ,  17.25],\n",
       "       [100.  ,  16.  ],\n",
       "       [ 86.48,  14.24],\n",
       "       [ 89.9 ,  15.  ],\n",
       "       [102.  ,  16.24],\n",
       "       [104.98,  16.23],\n",
       "       [ 99.9 ,  16.24],\n",
       "       [129.98,  16.23],\n",
       "       [129.9 ,  16.24],\n",
       "       [ 86.8 ,  16.2 ]])>"
      ]
     },
     "execution_count": 11,
     "metadata": {},
     "output_type": "execute_result"
    }
   ],
   "source": [
    "wait_list"
   ]
  },
  {
   "cell_type": "code",
   "execution_count": 12,
   "metadata": {},
   "outputs": [],
   "source": [
    "#模拟3个batch ,每个batch序列长度为5（即有5艘船），每艘船维度为2（长宽）\n",
    "wait_list=tf.reshape(wait_list,(3,5,2))"
   ]
  },
  {
   "cell_type": "code",
   "execution_count": 13,
   "metadata": {},
   "outputs": [],
   "source": [
    "#改成数据结构为：batch,seq_len(可排点个数)，2（坐标）\n",
    "#假设最多6个可排点，初始化值全是（0,0）,然后配合mask值来使用\n",
    "available_point=tf.zeros((3,6,2))"
   ]
  },
  {
   "cell_type": "code",
   "execution_count": 14,
   "metadata": {},
   "outputs": [],
   "source": [
    "b_size=wait_list.shape[0]"
   ]
  },
  {
   "cell_type": "code",
   "execution_count": 15,
   "metadata": {},
   "outputs": [],
   "source": [
    "boat_state={i:[]  for i in range(b_size)}"
   ]
  },
  {
   "cell_type": "code",
   "execution_count": 16,
   "metadata": {},
   "outputs": [
    {
     "data": {
      "text/plain": [
       "{0: [], 1: [], 2: []}"
      ]
     },
     "execution_count": 16,
     "metadata": {},
     "output_type": "execute_result"
    }
   ],
   "source": [
    "boat_state"
   ]
  },
  {
   "cell_type": "code",
   "execution_count": 17,
   "metadata": {},
   "outputs": [],
   "source": [
    "\n",
    "\n",
    "#判断能否放下该船\n",
    "def judge_put(xi,yi,li,wi,L,W):\n",
    "    if (xi+li<=L) and (yi+wi)<=W:\n",
    "        return True\n",
    "    else:\n",
    "        return False\n",
    "#判断船之间不重叠：\n",
    "def judge_overlab(xi,yi,li,wi,xj,yj,lj,wj):\n",
    "    if (xi+li<=xj) or (xj+lj<=xi) or (yi+wi<=yj) or (yj+wj<=yi):\n",
    "        return True\n",
    "    else:\n",
    "        return False\n",
    "\n",
    "\n",
    "##在外面通过可排点队列，判断闸室是否已满    \n",
    "#大概逻辑：传入该闸室的可排点队列，闸室状态，当前排闸的船舶信息\n",
    "\n",
    "\n",
    "def quick_sort_brake(each_boat,available_queue,brake_boat,L,W):\n",
    "    # 可排序点队列\n",
    "#     available_queue = [(0, 0)]\n",
    "\n",
    "#     brake_boat = {}  # 船的序号，长，宽，在闸室中的坐标\n",
    "#     for index,each_boat in enumerate(wait_list):\n",
    "    if True:\n",
    "        '''\n",
    "        先试第一个可排点，再试第二个可排点，能放下（满足约束）就放，否则就放弃该船\n",
    "        '''\n",
    "        #初始化时，第一艘船的坐标为（0,0）\n",
    "        # availabel_point=available_queue[0]\n",
    "\n",
    "        li,wi=each_boat\n",
    "\n",
    "        #先假设船满足两个条件，再进行判断，不满足条件就不放，进行下一只船\n",
    "        #判断该船是否放的下，\n",
    "        #判断该船与闸室中其它所有船是否重叠；\n",
    "        #闸室不为空的化，需要新增的与里面所有的进行比较看是否不重叠\n",
    "\n",
    "#         #无可排点时，退出\n",
    "#         if len(available_queue)<1:\n",
    "#             # print('无可排点，本轮结束')\n",
    "#             return False\n",
    "\n",
    "        for availabel_point in available_queue:\n",
    "\n",
    "            xi, yi = availabel_point\n",
    "            in_flag=judge_put(xi,yi,li,wi,L,W)\n",
    "\n",
    "            #判断能否放下该船\n",
    "            if in_flag:\n",
    "                if len(brake_boat)>0:\n",
    "                    #判断放下该船后，与闸室中其它的船是否会重叠\n",
    "                    overlap_flag=False\n",
    "                    for in_boat in brake_boat:\n",
    "                        [(xj,yj),(lj,wj)]=in_boat\n",
    "\n",
    "                        if not judge_overlab(xi,yi,li,wi,xj,yj,lj,wj):\n",
    "                            # print('该船重叠',index,li,wi)\n",
    "                            overlap_flag=True\n",
    "                            break\n",
    "                    #能放下该船，但是与其它船有重叠，则选下一个排放点进行放\n",
    "                    if overlap_flag:\n",
    "                        continue\n",
    "                    #不重叠时，把该船放入闸室中\n",
    "                    if not overlap_flag:\n",
    "                        brake_boat.append([(xi,yi),(li,wi)])\n",
    "                        #移除已用的可排点，增加新的可排点\n",
    "                        available_queue.remove(availabel_point)\n",
    "\n",
    "                        #可排点，应该能放下船，才会加入队列中\n",
    "                        if (L-xi>=85) and (W-yi-wi>=16):\n",
    "                            available_queue.append((xi,yi+wi))\n",
    "                        if (L-xi-li>=85) and (W-yi>=16):\n",
    "                            available_queue.append((xi+li,yi))\n",
    "\n",
    "                        # available_queue.extend([(xi,yi+wi),(xi+li,yi)])\n",
    "                        #可排点重新排序\n",
    "                        #available_queue=sorted(available_queue, key=(lambda x: [x]))\n",
    "                        # print('该船入闸',index,li,wi)\n",
    "                        break\n",
    "\n",
    "\n",
    "                else:\n",
    "                    #闸室中一艘船都没有时，直接放\n",
    "                    brake_boat.append([(xi,yi),(li,wi)])\n",
    "                    #移除已用的可排点，增加新的可排点\n",
    "                    available_queue.remove(availabel_point)\n",
    "\n",
    "                    # 可排点，应该能放下船，才会加入队列中\n",
    "                    if (L - xi >= 85) and (W - yi - wi >= 16):\n",
    "                        available_queue.append((xi, yi + wi))\n",
    "                    if (L - xi - li >= 85) and (W - yi >= 16):\n",
    "                        available_queue.append((xi + li, yi))\n",
    "                    # available_queue.extend([(xi,yi+wi),(xi+li,yi)])\n",
    "                    # 可排点重新排序\n",
    "                    available_queue = sorted(available_queue, key=(lambda x: [x]))\n",
    "                    # print('该船入闸',index,li,wi)\n",
    "                    break\n",
    "        else:\n",
    "            # print('放弃该船',index,li,wi)\n",
    "            #放不下返回False,以及原来的闸室状态信息\n",
    "            return False,brake_boat,available_queue\n",
    "\n",
    "    # print('finished')\n",
    "    # print('闸室信息',brake_boat)\n",
    "    #放的下，返回True以及新的闸室状态信息\n",
    "    return True,brake_boat,available_queue\n"
   ]
  },
  {
   "cell_type": "code",
   "execution_count": 91,
   "metadata": {},
   "outputs": [],
   "source": [
    "\n",
    "\n",
    "#判断能否放下该船\n",
    "def judge_put(xi,yi,li,wi,L,W):\n",
    "    if (xi+li<=L) and (yi+wi)<=W:\n",
    "        return True\n",
    "    else:\n",
    "        return False\n",
    "#判断船之间不重叠：\n",
    "def judge_overlab(xi,yi,li,wi,xj,yj,lj,wj):\n",
    "    if (xi+li<=xj) or (xj+lj<=xi) or (yi+wi<=yj) or (yj+wj<=yi):\n",
    "        return True\n",
    "    else:\n",
    "        return False\n",
    "\n",
    "\n",
    "##在外面通过可排点队列，判断闸室是否已满    \n",
    "#大概逻辑：传入该闸室的可排点队列，闸室状态，当前排闸的船舶信息\n",
    "\n",
    "\n",
    "def quick_sort_brake_new(each_boat,available_queue,brake_boat,L,W,ava_L=50,ava_W=10):\n",
    "    # 可排序点队列\n",
    "#     available_queue = [(0, 0)]\n",
    "\n",
    "#     brake_boat = {}  # 船的序号，长，宽，在闸室中的坐标\n",
    "#     for index,each_boat in enumerate(wait_list):\n",
    "    if True:\n",
    "        '''\n",
    "        先试第一个可排点，再试第二个可排点，能放下（满足约束）就放，否则就放弃该船\n",
    "        '''\n",
    "        #初始化时，第一艘船的坐标为（0,0）\n",
    "        # availabel_point=available_queue[0]\n",
    "\n",
    "        li,wi=each_boat\n",
    "\n",
    "        #先假设船满足两个条件，再进行判断，不满足条件就不放，进行下一只船\n",
    "        #判断该船是否放的下，\n",
    "        #判断该船与闸室中其它所有船是否重叠；\n",
    "        #闸室不为空的化，需要新增的与里面所有的进行比较看是否不重叠\n",
    "\n",
    "#         #无可排点时，退出\n",
    "#         if len(available_queue)<1:\n",
    "#             # print('无可排点，本轮结束')\n",
    "#             return False\n",
    "\n",
    "        for availabel_point in available_queue:\n",
    "            print('availabel_point',availabel_point)\n",
    "\n",
    "            xi, yi = availabel_point\n",
    "            in_flag=judge_put(xi,yi,li,wi,L,W)\n",
    "\n",
    "            #判断能否放下该船\n",
    "            if in_flag:\n",
    "                if len(brake_boat)>0:\n",
    "                    #判断放下该船后，与闸室中其它的船是否会重叠\n",
    "                    overlap_flag=False\n",
    "                    for in_boat in brake_boat:\n",
    "                        [xj,yj,lj,wj]=in_boat\n",
    "\n",
    "                        if not judge_overlab(xi,yi,li,wi,xj,yj,lj,wj):\n",
    "                            # print('该船重叠',index,li,wi)\n",
    "                            overlap_flag=True\n",
    "                            break\n",
    "                    #能放下该船，但是与其它船有重叠，则选下一个排放点进行放\n",
    "                    if overlap_flag:\n",
    "                        continue\n",
    "                    #不重叠时，把该船放入闸室中\n",
    "                    if not overlap_flag:\n",
    "                        brake_boat.append([xi,yi,li,wi])\n",
    "                        #移除已用的可排点，增加新的可排点\n",
    "                        available_queue.remove(availabel_point)\n",
    "\n",
    "                        #可排点，应该能放下船，才会加入队列中\n",
    "                        if (L-xi>=85) and (W-yi-wi>=16):\n",
    "                            available_queue.append([xi,yi+wi])\n",
    "                        if (L-xi-li>=85) and (W-yi>=16):\n",
    "                            available_queue.append([xi+li,yi])\n",
    "\n",
    "                        # available_queue.extend([(xi,yi+wi),(xi+li,yi)])\n",
    "                        #可排点重新排序\n",
    "                        #available_queue=sorted(available_queue, key=(lambda x: [x]))\n",
    "                        # print('该船入闸',index,li,wi)\n",
    "                        break\n",
    "\n",
    "\n",
    "                else:\n",
    "                    #闸室中一艘船都没有时，直接放\n",
    "                    brake_boat.append([xi,yi,li,wi])\n",
    "                    #移除已用的可排点，增加新的可排点\n",
    "                    available_queue.remove(availabel_point)\n",
    "\n",
    "                    # 可排点，应该能放下船，才会加入队列中\n",
    "                    ##至少留宽是16米，长是85米\n",
    "#                     print(L ,xi,W , yi , wi  )\n",
    "#                     ava_L=50\n",
    "#                     ava_W=10\n",
    "                    if (L - xi >= ava_L) and (W - yi - wi >= ava_W):\n",
    "#                         print('go1')\n",
    "                        available_queue.append([xi, yi + wi])\n",
    "                    if (L - xi - li >= ava_L) and (W - yi >= ava_W):\n",
    "#                         print('go2')\n",
    "                        available_queue.append([xi + li, yi])\n",
    "                    # available_queue.extend([(xi,yi+wi),(xi+li,yi)])\n",
    "                    # 可排点重新排序\n",
    "#                     print('available_queue1',available_queue)\n",
    "                    available_queue = sorted(available_queue, key=(lambda x: [x]))\n",
    "#                     print('available_queue2',available_queue)\n",
    "                    # print('该船入闸',index,li,wi)\n",
    "                    break\n",
    "        else:\n",
    "            # print('放弃该船',index,li,wi)\n",
    "            #放不下返回False,以及原来的闸室状态信息\n",
    "            return False,brake_boat,available_queue\n",
    "\n",
    "    # print('finished')\n",
    "    # print('闸室信息',brake_boat)\n",
    "    #放的下，返回True以及新的闸室状态信息\n",
    "    return True,brake_boat,available_queue\n"
   ]
  },
  {
   "cell_type": "code",
   "execution_count": 92,
   "metadata": {},
   "outputs": [],
   "source": [
    "each_boat=[108, 17.25]\n",
    "# each_boat=[100.  ,  16.]\n",
    "available_queue=    [[0,0]]\n",
    "\n",
    "brake_boat=[]"
   ]
  },
  {
   "cell_type": "code",
   "execution_count": 93,
   "metadata": {},
   "outputs": [
    {
     "name": "stdout",
     "output_type": "stream",
     "text": [
      "availabel_point [0, 0]\n"
     ]
    },
    {
     "data": {
      "text/plain": [
       "(True, [[0, 0, 108, 17.25]], [[0, 17.25], [108, 0]])"
      ]
     },
     "execution_count": 93,
     "metadata": {},
     "output_type": "execute_result"
    }
   ],
   "source": [
    "rr=quick_sort_brake_new(each_boat,available_queue,brake_boat,L=264,W=32.8)\n",
    "rr"
   ]
  },
  {
   "cell_type": "code",
   "execution_count": 73,
   "metadata": {},
   "outputs": [
    {
     "data": {
      "text/plain": [
       "15.549999999999997"
      ]
     },
     "execution_count": 73,
     "metadata": {},
     "output_type": "execute_result"
    }
   ],
   "source": [
    "32.8- 0- 17.25"
   ]
  },
  {
   "cell_type": "code",
   "execution_count": 20,
   "metadata": {},
   "outputs": [],
   "source": [
    "# each_boat=[86.8 ,  16.2 ]\n",
    "# available_queue=[(0,0)]\n",
    "# brake_boat=[]\n",
    "# W = 32.8\n",
    "# L = 264\n",
    "# res=quick_sort_brake(each_boat,available_queue,brake_boat,L,W)"
   ]
  },
  {
   "cell_type": "code",
   "execution_count": 21,
   "metadata": {},
   "outputs": [],
   "source": [
    "# res"
   ]
  },
  {
   "cell_type": "code",
   "execution_count": 22,
   "metadata": {},
   "outputs": [
    {
     "data": {
      "text/plain": [
       "<tf.Tensor: shape=(3, 5, 2), dtype=float64, numpy=\n",
       "array([[[100.  ,  16.  ],\n",
       "        [ 92.  ,  16.2 ],\n",
       "        [104.8 ,  16.24],\n",
       "        [110.  ,  17.2 ],\n",
       "        [109.7 ,  16.24]],\n",
       "\n",
       "       [[108.  ,  17.25],\n",
       "        [100.  ,  16.  ],\n",
       "        [ 86.48,  14.24],\n",
       "        [ 89.9 ,  15.  ],\n",
       "        [102.  ,  16.24]],\n",
       "\n",
       "       [[104.98,  16.23],\n",
       "        [ 99.9 ,  16.24],\n",
       "        [129.98,  16.23],\n",
       "        [129.9 ,  16.24],\n",
       "        [ 86.8 ,  16.2 ]]])>"
      ]
     },
     "execution_count": 22,
     "metadata": {},
     "output_type": "execute_result"
    }
   ],
   "source": [
    "wait_list"
   ]
  },
  {
   "cell_type": "code",
   "execution_count": 23,
   "metadata": {},
   "outputs": [],
   "source": [
    "next_node=wait_list[:,0,:]"
   ]
  },
  {
   "cell_type": "code",
   "execution_count": 24,
   "metadata": {},
   "outputs": [
    {
     "data": {
      "text/plain": [
       "<tf.Tensor: shape=(3, 2), dtype=float64, numpy=\n",
       "array([[100.  ,  16.  ],\n",
       "       [108.  ,  17.25],\n",
       "       [104.98,  16.23]])>"
      ]
     },
     "execution_count": 24,
     "metadata": {},
     "output_type": "execute_result"
    }
   ],
   "source": [
    "next_node"
   ]
  },
  {
   "cell_type": "code",
   "execution_count": 25,
   "metadata": {},
   "outputs": [
    {
     "data": {
      "text/plain": [
       "array([[100.  ,  16.  ],\n",
       "       [ 92.  ,  16.2 ],\n",
       "       [104.8 ,  16.24],\n",
       "       [110.  ,  17.2 ],\n",
       "       [109.7 ,  16.24]])"
      ]
     },
     "execution_count": 25,
     "metadata": {},
     "output_type": "execute_result"
    }
   ],
   "source": [
    "dd=wait_list[0].numpy()\n",
    "dd"
   ]
  },
  {
   "cell_type": "code",
   "execution_count": 26,
   "metadata": {},
   "outputs": [
    {
     "name": "stdout",
     "output_type": "stream",
     "text": [
      "[100.  16.]\n",
      "(True, [[(0, 0), (100.0, 16.0)]], [(0, 16.0), (100.0, 0)]) ***\n",
      "**\n",
      "[92.  16.2]\n",
      "(True, [[(0, 0), (100.0, 16.0)], [(0, 16.0), (92.0, 16.2)]], [(100.0, 0), (92.0, 16.0)]) ***\n",
      "**\n",
      "[104.8   16.24]\n",
      "(True, [[(0, 0), (100.0, 16.0)], [(0, 16.0), (92.0, 16.2)], [(100.0, 0), (104.8, 16.24)]], [(92.0, 16.0), (100.0, 16.24)]) ***\n",
      "**\n",
      "[110.   17.2]\n",
      "(False, [[(0, 0), (100.0, 16.0)], [(0, 16.0), (92.0, 16.2)], [(100.0, 0), (104.8, 16.24)]], [(92.0, 16.0), (100.0, 16.24)]) ***\n",
      "**\n",
      "available_queue [(92.0, 16.0), (100.0, 16.24)]\n",
      "brake_boat [[(0, 0), (100.0, 16.0)], [(0, 16.0), (92.0, 16.2)], [(100.0, 0), (104.8, 16.24)]]\n",
      "res (False, [[(0, 0), (100.0, 16.0)], [(0, 16.0), (92.0, 16.2)], [(100.0, 0), (104.8, 16.24)]], [(92.0, 16.0), (100.0, 16.24)])\n"
     ]
    }
   ],
   "source": [
    "available_queue=[(0,0)]\n",
    "brake_boat=[]\n",
    "W = 32.8\n",
    "L = 264\n",
    "\n",
    "for index, cc in  enumerate(dd):\n",
    "    print(cc)\n",
    "    each_boat=cc\n",
    "    res=quick_sort_brake(each_boat,available_queue,brake_boat,L,W)\n",
    "    print(res,'***\\n**')\n",
    "    #某艘船判断放不下就退出\n",
    "    if not res[0]:\n",
    "        break\n",
    "print('available_queue',available_queue)\n",
    "print('brake_boat',brake_boat)\n",
    "print('res',res)"
   ]
  },
  {
   "cell_type": "code",
   "execution_count": 27,
   "metadata": {},
   "outputs": [],
   "source": [
    "from plot_example import plot_example"
   ]
  },
  {
   "cell_type": "code",
   "execution_count": 28,
   "metadata": {},
   "outputs": [
    {
     "data": {
      "text/plain": [
       "[[(0, 0), (100.0, 16.0)],\n",
       " [(0, 16.0), (92.0, 16.2)],\n",
       " [(100.0, 0), (104.8, 16.24)]]"
      ]
     },
     "execution_count": 28,
     "metadata": {},
     "output_type": "execute_result"
    }
   ],
   "source": [
    "# 判断是否有问题\n",
    "brake_boats = res[1]\n",
    "brake_boats"
   ]
  },
  {
   "cell_type": "code",
   "execution_count": 29,
   "metadata": {},
   "outputs": [
    {
     "data": {
      "text/plain": [
       "173.6"
      ]
     },
     "execution_count": 29,
     "metadata": {},
     "output_type": "execute_result"
    }
   ],
   "source": [
    "86.8+86.8"
   ]
  },
  {
   "cell_type": "code",
   "execution_count": 30,
   "metadata": {},
   "outputs": [
    {
     "name": "stdout",
     "output_type": "stream",
     "text": [
      "[(0, 0), (100.0, 16.0)]\n",
      "[(0, 16.0), (92.0, 16.2)]\n",
      "[(100.0, 0), (104.8, 16.24)]\n",
      "gogo\n"
     ]
    },
    {
     "data": {
      "image/png": "[encoded data removed]",
      "text/plain": [
       "<Figure size 432x288 with 1 Axes>"
      ]
     },
     "metadata": {
      "needs_background": "light"
     },
     "output_type": "display_data"
    }
   ],
   "source": [
    "\n",
    "X = []\n",
    "Y = []\n",
    "li = []\n",
    "wi = []\n",
    "N = len(brake_boats)\n",
    "for x in brake_boats:\n",
    "    v=x\n",
    "    print(v)\n",
    "    li.append(v[1][0])\n",
    "    wi.append(v[1][1])\n",
    "    X.append(v[0][0])\n",
    "    Y.append(v[0][1])\n",
    "print('gogo')\n",
    "plot_example(np.array(X), np.array(Y), np.array(li), np.array(wi), N)"
   ]
  },
  {
   "cell_type": "code",
   "execution_count": 112,
   "metadata": {},
   "outputs": [],
   "source": [
    "def constrains_me(x,y,z):\n",
    "    x=x.numpy()\n",
    "    y=y.numpy()\n",
    "    z=z.numpy()\n",
    "    \n",
    "    print('x',x)\n",
    "    print('y',y)\n",
    "    print('z',z)\n",
    "    res_batch=[]\n",
    "    states_flag=[]\n",
    "    detail_states=[]\n",
    "    available_queue_new=[]\n",
    "    for e_next_node,e_available_queue,e_brake_boat in zip(x,y,z):\n",
    "        e_available_queue,e_brake_boat=e_available_queue.tolist(),e_brake_boat.tolist()\n",
    "        print('e_next_node={},e_available_queue={},e_brake_boat={}'.format(e_next_node,e_available_queue,e_brake_boat))\n",
    "#         ava_L=30,ava_W=8\n",
    "        res=quick_sort_brake_new(each_boat=e_next_node,available_queue=e_available_queue,\n",
    "                                 brake_boat=e_brake_boat,L=264,W=32.8,ava_L=50,ava_W=16)\n",
    "        print('res',res)\n",
    "#         print('res2',res[2])\n",
    "        #         res_batch.append(res)\n",
    "        states_flag.append(res[0])\n",
    "        detail_states.append(res[1])\n",
    "        available_queue_new.append(res[2])\n",
    "#     print('res_batch',res_batch)\n",
    "#     states=res_batch[:,0]\n",
    "#     detail_states=res_batch[:,1]\n",
    "#     for i in range(3):\n",
    "#         print('i',x[i],y[i])\n",
    "    print('states_flag={}'.format(states_flag))\n",
    "    print('detail_states={}'.format(detail_states))\n",
    "    print('available_queue_new={}'.format(available_queue_new))\n",
    "    return states_flag,detail_states,tf.ragged.constant(available_queue_new).to_tensor()\n",
    "#真实情况，一个batch可能有140艘船，每个船有自己的长宽，batch大小可取32,64等等"
   ]
  },
  {
   "cell_type": "code",
   "execution_count": 113,
   "metadata": {},
   "outputs": [
    {
     "name": "stdout",
     "output_type": "stream",
     "text": [
      "x [[100.    16.  ]\n",
      " [108.    17.25]\n",
      " [104.98  16.23]]\n",
      "y [[[0 0]]\n",
      "\n",
      " [[0 0]]\n",
      "\n",
      " [[0 0]]]\n",
      "z []\n",
      "e_next_node=[100.  16.],e_available_queue=[[0, 0]],e_brake_boat=[]\n",
      "availabel_point [0, 0]\n",
      "res (True, [[0, 0, 100.0, 16.0]], [[0, 16.0], [100.0, 0]])\n",
      "e_next_node=[108.    17.25],e_available_queue=[[0, 0]],e_brake_boat=[]\n",
      "availabel_point [0, 0]\n",
      "res (True, [[0, 0, 108.0, 17.25]], [[108.0, 0]])\n",
      "e_next_node=[104.98  16.23],e_available_queue=[[0, 0]],e_brake_boat=[]\n",
      "availabel_point [0, 0]\n",
      "res (True, [[0, 0, 104.98, 16.23]], [[0, 16.229999542236328], [104.9800033569336, 0]])\n",
      "states_flag=[True, True, True]\n",
      "detail_states=[[[0, 0, 100.0, 16.0]], [[0, 0, 108.0, 17.25]], [[0, 0, 104.98, 16.23]]]\n",
      "available_queue_new=[[[0, 16.0], [100.0, 0]], [[108.0, 0]], [[0, 16.229999542236328], [104.9800033569336, 0]]]\n",
      "tf.Tensor([1. 1. 1.], shape=(3,), dtype=float32)\n",
      "tf.Tensor(\n",
      "[[[  0.     0.   100.    16.  ]]\n",
      "\n",
      " [[  0.     0.   108.    17.25]]\n",
      "\n",
      " [[  0.     0.   104.98  16.23]]], shape=(3, 1, 4), dtype=float32)\n",
      "tf.Tensor(\n",
      "[[[  0.    16.  ]\n",
      "  [100.     0.  ]]\n",
      "\n",
      " [[108.     0.  ]\n",
      "  [  0.     0.  ]]\n",
      "\n",
      " [[  0.    16.23]\n",
      "  [104.98   0.  ]]], shape=(3, 2, 2), dtype=float32)\n"
     ]
    }
   ],
   "source": [
    "\n",
    "next_node=tf.cast(next_node,tf.float32)\n",
    "\n",
    "#一个batch=3的可排点队列初始化全为（0,0）,以及闸室状态\n",
    "available_queue=[\n",
    "    [[0,0]],[[0,0]],[[0,0]]\n",
    "]\n",
    "brake_boat=[[],[],[]]\n",
    "\n",
    "y1,y2,y3 = tf.py_function(func=constrains_me, inp=[next_node, available_queue,brake_boat], Tout=[tf.float32,tf.float32,tf.float32])\n",
    "# y= tf.numpy_function(func=constrains_me, inp=[next_node, available_queue,brake_boat], Tout=[tf.float32,tf.float32,tf.float32])\n",
    "# print(y)\n",
    "# y1,y2,y3 \n",
    "\n",
    "print(y1)  \n",
    "print(y2)\n",
    "print(y3)"
   ]
  },
  {
   "cell_type": "code",
   "execution_count": null,
   "metadata": {},
   "outputs": [],
   "source": []
  },
  {
   "cell_type": "code",
   "execution_count": null,
   "metadata": {},
   "outputs": [],
   "source": [
    "len(y)"
   ]
  },
  {
   "cell_type": "code",
   "execution_count": null,
   "metadata": {},
   "outputs": [],
   "source": [
    "wait_list.shape"
   ]
  },
  {
   "cell_type": "code",
   "execution_count": null,
   "metadata": {},
   "outputs": [],
   "source": [
    "\n",
    "#一个batch=3的可排点队列初始化全为（0,0）,以及闸室状态\n",
    "available_queue=[\n",
    "    [[0,0]],[[0,0]],[[0,0]]\n",
    "]\n",
    "brake_boat=[[],[],[]]\n",
    "for  i  in  range(5)\n",
    "    next_node=wait_list[:,i,:]\n",
    "#     #一个batch=3的可排点队列初始化全为（0,0）,以及闸室状态\n",
    "#     available_queue=[[(0,0)],[(0,0)],[(0,0)]]\n",
    "#     brake_boat=[[],[],[]]\n",
    "    y1,y2 = tf.py_function(func=constrains_me, inp=[next_node, available_queue,brake_boat], Tout=[tf.float32,tf.float32])\n",
    "    \n",
    "    \n",
    "    \n",
    "    "
   ]
  },
  {
   "cell_type": "code",
   "execution_count": null,
   "metadata": {},
   "outputs": [],
   "source": [
    "aa=[(True, [[(0, 0), (100.0, 16.0)]]), (True, [[(0, 0), (108.0, 17.25)]]), (True, [[(0, 0), (104.98, 16.23)]])]"
   ]
  },
  {
   "cell_type": "code",
   "execution_count": null,
   "metadata": {},
   "outputs": [],
   "source": [
    "\n",
    "res=quick_sort_brake(each_boat=[100. , 16.],available_queue=[[0, 0]],brake_boat=[],L=264,W=32.8)"
   ]
  },
  {
   "cell_type": "code",
   "execution_count": null,
   "metadata": {},
   "outputs": [],
   "source": [
    "res"
   ]
  },
  {
   "cell_type": "code",
   "execution_count": null,
   "metadata": {},
   "outputs": [],
   "source": [
    "each_boat=[86.8 ,  16.2 ]\n",
    "available_queue=[(0,0)]\n",
    "brake_boat=[]\n",
    "W = 32.8\n",
    "L = 264\n",
    "res=quick_sort_brake(each_boat,available_queue,brake_boat,L,W)"
   ]
  },
  {
   "cell_type": "code",
   "execution_count": null,
   "metadata": {},
   "outputs": [],
   "source": [
    "res"
   ]
  },
  {
   "cell_type": "code",
   "execution_count": null,
   "metadata": {},
   "outputs": [],
   "source": [
    "for e1,e2,e3 in zip(next_node,available_queue,brake_boat):\n",
    "    print('e1={},e2={},e3={}'.format(e1,e2,e3))"
   ]
  },
  {
   "cell_type": "code",
   "execution_count": null,
   "metadata": {},
   "outputs": [],
   "source": []
  },
  {
   "cell_type": "code",
   "execution_count": 103,
   "metadata": {},
   "outputs": [
    {
     "name": "stdout",
     "output_type": "stream",
     "text": [
      "(3, None, None)\n",
      "<tf.RaggedTensor [[[3, 1, 4, 1], [], [5, 9, 2]], [], [[6], []]]>\n",
      "tf.Tensor([3 1 4 1 5 9 2 6], shape=(8,), dtype=int32)\n"
     ]
    }
   ],
   "source": [
    "rt = tf.ragged.constant([\n",
    "                         [[3, 1, 4, 1], [], [5, 9, 2]],\n",
    "                         [],\n",
    "                         [[6], []]\n",
    "                        ])\n",
    "print(rt.shape)\n",
    "print(rt)\n",
    "print(rt.flat_values)"
   ]
  },
  {
   "cell_type": "code",
   "execution_count": 108,
   "metadata": {},
   "outputs": [],
   "source": [
    "rt_dense=rt.to_tensor()"
   ]
  },
  {
   "cell_type": "code",
   "execution_count": 109,
   "metadata": {},
   "outputs": [
    {
     "data": {
      "text/plain": [
       "<tf.Tensor: shape=(3, 3, 4), dtype=int32, numpy=\n",
       "array([[[3, 1, 4, 1],\n",
       "        [0, 0, 0, 0],\n",
       "        [5, 9, 2, 0]],\n",
       "\n",
       "       [[0, 0, 0, 0],\n",
       "        [0, 0, 0, 0],\n",
       "        [0, 0, 0, 0]],\n",
       "\n",
       "       [[6, 0, 0, 0],\n",
       "        [0, 0, 0, 0],\n",
       "        [0, 0, 0, 0]]])>"
      ]
     },
     "execution_count": 109,
     "metadata": {},
     "output_type": "execute_result"
    }
   ],
   "source": [
    "rt_dense"
   ]
  },
  {
   "cell_type": "code",
   "execution_count": 114,
   "metadata": {},
   "outputs": [
    {
     "ename": "AttributeError",
     "evalue": "'tensorflow.python.framework.ops.EagerTensor' object has no attribute 'to_sparse'",
     "output_type": "error",
     "traceback": [
      "\u001b[1;31m---------------------------------------------------------------------------\u001b[0m",
      "\u001b[1;31mAttributeError\u001b[0m                            Traceback (most recent call last)",
      "\u001b[1;32m<ipython-input-114-0118c12ebba7>\u001b[0m in \u001b[0;36m<module>\u001b[1;34m\u001b[0m\n\u001b[1;32m----> 1\u001b[1;33m \u001b[0mrt_dense\u001b[0m\u001b[1;33m.\u001b[0m\u001b[0mto_sparse\u001b[0m\u001b[1;33m(\u001b[0m\u001b[1;33m)\u001b[0m\u001b[1;33m\u001b[0m\u001b[0m\n\u001b[0m",
      "\u001b[1;31mAttributeError\u001b[0m: 'tensorflow.python.framework.ops.EagerTensor' object has no attribute 'to_sparse'"
     ]
    }
   ],
   "source": [
    "rt_dense.to_sparse()"
   ]
  },
  {
   "cell_type": "code",
   "execution_count": 110,
   "metadata": {},
   "outputs": [
    {
     "data": {
      "text/plain": [
       "<tf.RaggedTensor [[[3, 1, 4, 1], [], [5, 9, 2]], [], [[6], []]]>"
      ]
     },
     "execution_count": 110,
     "metadata": {},
     "output_type": "execute_result"
    }
   ],
   "source": [
    "rt"
   ]
  },
  {
   "cell_type": "code",
   "execution_count": 111,
   "metadata": {},
   "outputs": [
    {
     "data": {
      "text/plain": [
       "TensorShape([3, None, None])"
      ]
     },
     "execution_count": 111,
     "metadata": {},
     "output_type": "execute_result"
    }
   ],
   "source": [
    "rt.shape"
   ]
  },
  {
   "cell_type": "code",
   "execution_count": 104,
   "metadata": {},
   "outputs": [
    {
     "data": {
      "text/plain": [
       "['__abs__',\n",
       " '__abstractmethods__',\n",
       " '__add__',\n",
       " '__and__',\n",
       " '__bool__',\n",
       " '__class__',\n",
       " '__delattr__',\n",
       " '__dict__',\n",
       " '__dir__',\n",
       " '__div__',\n",
       " '__doc__',\n",
       " '__eq__',\n",
       " '__floordiv__',\n",
       " '__format__',\n",
       " '__ge__',\n",
       " '__getattribute__',\n",
       " '__getitem__',\n",
       " '__gt__',\n",
       " '__hash__',\n",
       " '__init__',\n",
       " '__init_subclass__',\n",
       " '__invert__',\n",
       " '__le__',\n",
       " '__lt__',\n",
       " '__mod__',\n",
       " '__module__',\n",
       " '__mul__',\n",
       " '__ne__',\n",
       " '__neg__',\n",
       " '__new__',\n",
       " '__nonzero__',\n",
       " '__or__',\n",
       " '__pow__',\n",
       " '__radd__',\n",
       " '__rand__',\n",
       " '__rdiv__',\n",
       " '__reduce__',\n",
       " '__reduce_ex__',\n",
       " '__repr__',\n",
       " '__rfloordiv__',\n",
       " '__rmod__',\n",
       " '__rmul__',\n",
       " '__ror__',\n",
       " '__rpow__',\n",
       " '__rsub__',\n",
       " '__rtruediv__',\n",
       " '__rxor__',\n",
       " '__setattr__',\n",
       " '__sizeof__',\n",
       " '__str__',\n",
       " '__sub__',\n",
       " '__subclasshook__',\n",
       " '__truediv__',\n",
       " '__weakref__',\n",
       " '__xor__',\n",
       " '_abc_cache',\n",
       " '_abc_negative_cache',\n",
       " '_abc_negative_cache_version',\n",
       " '_abc_registry',\n",
       " '_as_graph_element',\n",
       " '_consumers',\n",
       " '_convert_values_and_partition',\n",
       " '_eager_value',\n",
       " '_from_row_partition',\n",
       " '_from_variant',\n",
       " '_is_eager',\n",
       " '_nested_row_partitions',\n",
       " '_row_partition',\n",
       " '_set_shape',\n",
       " '_shape_invariant_to_type_spec',\n",
       " '_tf_api_names',\n",
       " '_tf_api_names_v1',\n",
       " '_to_variant',\n",
       " '_type_spec',\n",
       " '_values',\n",
       " 'bounding_shape',\n",
       " 'consumers',\n",
       " 'dtype',\n",
       " 'flat_values',\n",
       " 'from_nested_row_lengths',\n",
       " 'from_nested_row_splits',\n",
       " 'from_nested_value_rowids',\n",
       " 'from_row_lengths',\n",
       " 'from_row_limits',\n",
       " 'from_row_splits',\n",
       " 'from_row_starts',\n",
       " 'from_sparse',\n",
       " 'from_tensor',\n",
       " 'from_uniform_row_length',\n",
       " 'from_value_rowids',\n",
       " 'get_shape',\n",
       " 'merge_dims',\n",
       " 'nested_row_lengths',\n",
       " 'nested_row_splits',\n",
       " 'nested_value_rowids',\n",
       " 'nrows',\n",
       " 'numpy',\n",
       " 'ragged_rank',\n",
       " 'row_lengths',\n",
       " 'row_limits',\n",
       " 'row_splits',\n",
       " 'row_starts',\n",
       " 'shape',\n",
       " 'to_list',\n",
       " 'to_sparse',\n",
       " 'to_tensor',\n",
       " 'uniform_row_length',\n",
       " 'value_rowids',\n",
       " 'values',\n",
       " 'with_flat_values',\n",
       " 'with_row_splits_dtype',\n",
       " 'with_values']"
      ]
     },
     "execution_count": 104,
     "metadata": {},
     "output_type": "execute_result"
    }
   ],
   "source": [
    "dir(rt)"
   ]
  },
  {
   "cell_type": "code",
   "execution_count": null,
   "metadata": {},
   "outputs": [],
   "source": []
  },
  {
   "cell_type": "code",
   "execution_count": null,
   "metadata": {},
   "outputs": [],
   "source": [
    "available_point"
   ]
  },
  {
   "cell_type": "code",
   "execution_count": null,
   "metadata": {},
   "outputs": [],
   "source": [
    "mask_available_point=tf.cast(tf.ones((3,5,2)),tf.bool)\n"
   ]
  },
  {
   "cell_type": "code",
   "execution_count": null,
   "metadata": {},
   "outputs": [],
   "source": [
    "mask_available_point=tf.concat([tf.cast(tf.zeros((3,1,2)),tf.bool),mask_available_point],axis=1)"
   ]
  },
  {
   "cell_type": "code",
   "execution_count": null,
   "metadata": {},
   "outputs": [],
   "source": [
    "def pp(x):\n",
    "    tf.print(x)\n",
    "    tf.print('***')\n",
    "    x=x+1\n",
    "    return x\n"
   ]
  },
  {
   "cell_type": "code",
   "execution_count": null,
   "metadata": {},
   "outputs": [],
   "source": [
    "tf.map_fn(fn=lambda x:pp(x), elems=(available_point,wait_list))"
   ]
  },
  {
   "cell_type": "code",
   "execution_count": null,
   "metadata": {},
   "outputs": [],
   "source": [
    "tf.map_fn(fn=lambda x:x+1, elems=tf.constant([[3, 5, 2],[3, 5, 2],[3, 5, 2]]))"
   ]
  },
  {
   "cell_type": "code",
   "execution_count": null,
   "metadata": {},
   "outputs": [],
   "source": [
    "tf.map_fn(fn=lambda x:x+1, elems=available_point)"
   ]
  },
  {
   "cell_type": "code",
   "execution_count": null,
   "metadata": {},
   "outputs": [],
   "source": [
    "mask_available_point"
   ]
  },
  {
   "cell_type": "code",
   "execution_count": null,
   "metadata": {},
   "outputs": [],
   "source": [
    "mask_available_point[:,0]=[ True,  True]#=False#tf.cast(tf.zeros((3,2)),tf.bool)"
   ]
  },
  {
   "cell_type": "code",
   "execution_count": null,
   "metadata": {},
   "outputs": [],
   "source": []
  },
  {
   "cell_type": "code",
   "execution_count": null,
   "metadata": {},
   "outputs": [],
   "source": [
    "available_point"
   ]
  },
  {
   "cell_type": "code",
   "execution_count": null,
   "metadata": {},
   "outputs": [],
   "source": [
    "brake_state"
   ]
  },
  {
   "cell_type": "code",
   "execution_count": null,
   "metadata": {},
   "outputs": [],
   "source": [
    "brake_state= tf.TensorArray(dtype = tf.float32, size = 0, dynamic_size = True, element_shape = (3,))"
   ]
  },
  {
   "cell_type": "code",
   "execution_count": null,
   "metadata": {},
   "outputs": [],
   "source": [
    "available_point_array= tf.TensorArray(dtype = tf.float32, size = 0, dynamic_size = True, element_shape = (3,None,2))"
   ]
  },
  {
   "cell_type": "code",
   "execution_count": null,
   "metadata": {},
   "outputs": [],
   "source": [
    "available_point_array.write(0,tf.zeros((3,1,2)))\n",
    "# available_point_array.write(1,tf.zeros((3,2,2)))"
   ]
  },
  {
   "cell_type": "code",
   "execution_count": null,
   "metadata": {},
   "outputs": [],
   "source": [
    "available_point_array.read(0)"
   ]
  },
  {
   "cell_type": "code",
   "execution_count": null,
   "metadata": {},
   "outputs": [],
   "source": [
    "brake_state.write(0,[2,3,1])"
   ]
  },
  {
   "cell_type": "code",
   "execution_count": null,
   "metadata": {},
   "outputs": [],
   "source": [
    "brake_state.read(0)"
   ]
  },
  {
   "cell_type": "code",
   "execution_count": null,
   "metadata": {},
   "outputs": [],
   "source": [
    "wait_list"
   ]
  },
  {
   "cell_type": "code",
   "execution_count": null,
   "metadata": {},
   "outputs": [],
   "source": [
    "RawResult = collections.namedtuple('RawResult',\n",
    "                                   ['available_point', 'brake_state'])\n"
   ]
  },
  {
   "cell_type": "code",
   "execution_count": null,
   "metadata": {},
   "outputs": [],
   "source": [
    "res=RawResult(available_point=[0,0],brake_state=[1,1])"
   ]
  },
  {
   "cell_type": "code",
   "execution_count": null,
   "metadata": {},
   "outputs": [],
   "source": [
    "res"
   ]
  },
  {
   "cell_type": "code",
   "execution_count": null,
   "metadata": {},
   "outputs": [],
   "source": [
    "res.available_point"
   ]
  },
  {
   "cell_type": "code",
   "execution_count": null,
   "metadata": {},
   "outputs": [],
   "source": [
    "res.brake_state"
   ]
  },
  {
   "cell_type": "code",
   "execution_count": null,
   "metadata": {},
   "outputs": [],
   "source": [
    "# (xi+li<=L) and (yi+wi)<=W:#能否放下\n",
    "# (xi+li<=xj) or (xj+lj<=xi) or (yi+wi<=yj) or (yj+wj<=yi):是否重叠"
   ]
  },
  {
   "cell_type": "code",
   "execution_count": null,
   "metadata": {},
   "outputs": [],
   "source": [
    "#假设该batch是刚开始，对于每一个闸次初始化时可排点是一样的，随着动态变化，可排点不断变化\n",
    "#闸室中对应着两个队列，可排点队列和已排的船队列（位置坐标和长宽）\n",
    "#对应当前batch，中每一个序列，都要维护两个东西：当前闸室可排点状态，当前闸室已排船只状态\n",
    "# available_queue = [(0, 0)]"
   ]
  },
  {
   "cell_type": "code",
   "execution_count": null,
   "metadata": {},
   "outputs": [],
   "source": [
    "W = 34\n",
    "L = 280\n",
    "xi=0\n",
    "yi=0"
   ]
  },
  {
   "cell_type": "code",
   "execution_count": null,
   "metadata": {},
   "outputs": [],
   "source": [
    "#切片维度不变\n",
    "wait_list[:,:,:1]"
   ]
  },
  {
   "cell_type": "code",
   "execution_count": null,
   "metadata": {},
   "outputs": [],
   "source": [
    "#索引会减少维度\n",
    "wait_list[:,:,0]"
   ]
  },
  {
   "cell_type": "code",
   "execution_count": null,
   "metadata": {},
   "outputs": [],
   "source": [
    "#判断能否放得下：\n",
    "#对于某艘船要判断，所有的可排点能否放下该船，放不下直接False\n",
    "#假设能放下该船，要判断该船与闸室中所有的船是否为重叠 ,有重叠直接False\n",
    "\n",
    "\n",
    "tf.cast((wait_list[:,:,0]+xi<=L), tf.bool)& tf.cast((wait_list[:,:,1]+yi),tf.bool)"
   ]
  },
  {
   "cell_type": "code",
   "execution_count": null,
   "metadata": {},
   "outputs": [],
   "source": [
    "#假设放得下之后，就要判断新放下的船与闸室中已有的船是否会重叠\n",
    "\n",
    "#D:(batch,1)batch中每一个都有一个剩余容量，这里对应闸室状态"
   ]
  },
  {
   "cell_type": "code",
   "execution_count": null,
   "metadata": {},
   "outputs": [],
   "source": [
    "b=tf.random.uniform((5,2),50,100,dtype=tf.float64)"
   ]
  },
  {
   "cell_type": "code",
   "execution_count": null,
   "metadata": {},
   "outputs": [],
   "source": [
    "b"
   ]
  },
  {
   "cell_type": "code",
   "execution_count": null,
   "metadata": {},
   "outputs": [],
   "source": [
    "wait_list"
   ]
  },
  {
   "cell_type": "code",
   "execution_count": null,
   "metadata": {},
   "outputs": [],
   "source": [
    "wait_list<b"
   ]
  },
  {
   "cell_type": "code",
   "execution_count": null,
   "metadata": {},
   "outputs": [],
   "source": []
  },
  {
   "cell_type": "code",
   "execution_count": null,
   "metadata": {},
   "outputs": [],
   "source": [
    "tf.constant([2,3])<tf.constant([2,1])"
   ]
  },
  {
   "cell_type": "code",
   "execution_count": null,
   "metadata": {},
   "outputs": [],
   "source": [
    "tf.math.greater(wait_list,b)"
   ]
  },
  {
   "cell_type": "code",
   "execution_count": null,
   "metadata": {},
   "outputs": [],
   "source": [
    "tf.equal(wait_list,b)"
   ]
  },
  {
   "cell_type": "code",
   "execution_count": null,
   "metadata": {},
   "outputs": [],
   "source": []
  },
  {
   "cell_type": "code",
   "execution_count": null,
   "metadata": {},
   "outputs": [],
   "source": [
    "a=np.zeros((1,4))"
   ]
  },
  {
   "cell_type": "code",
   "execution_count": null,
   "metadata": {},
   "outputs": [],
   "source": [
    "a"
   ]
  },
  {
   "cell_type": "code",
   "execution_count": null,
   "metadata": {},
   "outputs": [],
   "source": [
    "tf.broadcast_to(a,[4,2,2,4])"
   ]
  },
  {
   "cell_type": "code",
   "execution_count": null,
   "metadata": {},
   "outputs": [],
   "source": [
    "aa=tf.constant([0,10,3])"
   ]
  },
  {
   "cell_type": "code",
   "execution_count": null,
   "metadata": {},
   "outputs": [],
   "source": [
    "bb=tf.constant([10,0,3])"
   ]
  },
  {
   "cell_type": "code",
   "execution_count": null,
   "metadata": {},
   "outputs": [],
   "source": [
    "aa|bb"
   ]
  },
  {
   "cell_type": "code",
   "execution_count": null,
   "metadata": {},
   "outputs": [],
   "source": [
    "aa&bb"
   ]
  },
  {
   "cell_type": "code",
   "execution_count": null,
   "metadata": {},
   "outputs": [],
   "source": [
    "tf.cast(aa^bb,tf.bool)"
   ]
  },
  {
   "cell_type": "code",
   "execution_count": null,
   "metadata": {},
   "outputs": [],
   "source": [
    "import tensorflow as tf\n",
    " \n",
    "def log_huber(x, m):\n",
    "    '''\n",
    "    因为是tensorflow2.1,所以默认使用的是EagerTensor，我们可以在里面直接使用python的条件判断，而不用使用\n",
    "    tf.while_loop、tf.cond等条件判断\n",
    "    '''\n",
    "    if tf.abs(x) <= m:\n",
    "        return x**2  # 无论这里返回什么，总是会被包装成默认的与之匹配的Tensor返回，这是自动实现的\n",
    "    else:\n",
    "        return m**2 * (1 - 2 * tf.math.log(m) + tf.math.log(x**2))\n",
    " \n",
    "x = tf.Variable(initial_value = 1.5)\n",
    "m = tf.Variable(initial_value = 2.0)\n",
    " \n",
    "with tf.GradientTape(persistent=True) as g:\n",
    "    g.watch(x)\n",
    "    y = tf.py_function(func=log_huber, inp=[x, m], Tout=tf.float32)\n",
    "    print(y)  # 应该是1.5**2 = 2.25\n",
    "    dy_dx = g.gradient(y, x)     # y对x求导，应该是2x，即3.0\n",
    "    print(dy_dx)"
   ]
  },
  {
   "cell_type": "code",
   "execution_count": null,
   "metadata": {},
   "outputs": [],
   "source": [
    "def add_sub(x, y):\n",
    "    '''\n",
    "    在此函数中使用纯python编程方式\n",
    "    '''\n",
    "    tf.print('x',x)\n",
    "    tf.print('y',y)\n",
    "    x_ = x.numpy()\n",
    "    y_ = y.numpy()\n",
    "    result1 = x_ + y_ - (x_ - y_)\n",
    "    result2 = x_ + y_ + (x_ - y_)  \n",
    "    # 返回的就是普通的python对象，但是它会自动转化成tensor来作为最终的结果，是自动完成的\n",
    "    return result1,result2\n",
    " \n",
    "x = tf.Variable(initial_value = [10,20,30])\n",
    "y = tf.Variable(initial_value = [100,200,300])\n",
    " \n",
    "y1,y2 = tf.py_function(func=add_sub, inp=[x, y], Tout=[tf.int32,tf.int32])\n",
    "print(y1)  \n",
    "print(y2)  \n",
    "'''\n",
    "tf.Tensor([200 400 600], shape=(3,), dtype=int32)\n",
    "tf.Tensor([20 40 60], shape=(3,), dtype=int32)\n",
    "'''"
   ]
  },
  {
   "cell_type": "code",
   "execution_count": null,
   "metadata": {},
   "outputs": [],
   "source": [
    "x[0]"
   ]
  },
  {
   "cell_type": "code",
   "execution_count": null,
   "metadata": {},
   "outputs": [],
   "source": []
  },
  {
   "cell_type": "code",
   "execution_count": null,
   "metadata": {},
   "outputs": [],
   "source": [
    "# wait_list"
   ]
  },
  {
   "cell_type": "code",
   "execution_count": null,
   "metadata": {},
   "outputs": [],
   "source": []
  },
  {
   "cell_type": "code",
   "execution_count": null,
   "metadata": {},
   "outputs": [],
   "source": []
  },
  {
   "cell_type": "code",
   "execution_count": null,
   "metadata": {},
   "outputs": [],
   "source": [
    "\n"
   ]
  },
  {
   "cell_type": "code",
   "execution_count": null,
   "metadata": {},
   "outputs": [],
   "source": [
    "a= tf.TensorArray(tf.float32, size=0, dynamic_size=True)\n",
    "a = a.write(0, [0, 0]) # 这里的write需要赋值给对方.\n",
    "a = a.write(1, [1, 1])\n",
    "a = a.write(2, [2, 2])\n",
    "\n",
    "\n",
    "# read_value1 = a.read(0) # 读取某个索引下的值.\n",
    "a = a.write(0, [11, 11])\n",
    "# read_value2 = a.read(0) # 读取某个索引下的值."
   ]
  },
  {
   "cell_type": "code",
   "execution_count": null,
   "metadata": {},
   "outputs": [],
   "source": [
    "read_value1"
   ]
  },
  {
   "cell_type": "code",
   "execution_count": null,
   "metadata": {},
   "outputs": [],
   "source": [
    "read_value2"
   ]
  },
  {
   "cell_type": "code",
   "execution_count": null,
   "metadata": {},
   "outputs": [],
   "source": [
    "a.stack()"
   ]
  },
  {
   "cell_type": "code",
   "execution_count": null,
   "metadata": {},
   "outputs": [],
   "source": [
    "#读一次就把相应的值读出来， 置为0\n",
    "read_value1 = a.read(0) # 读取某个索引下的值."
   ]
  },
  {
   "cell_type": "code",
   "execution_count": null,
   "metadata": {},
   "outputs": [],
   "source": [
    "a.stack()"
   ]
  },
  {
   "cell_type": "code",
   "execution_count": null,
   "metadata": {},
   "outputs": [],
   "source": [
    "read_value1 = a.read(1) # 读取某个索引下的值.\n",
    "read_value1"
   ]
  },
  {
   "cell_type": "code",
   "execution_count": null,
   "metadata": {},
   "outputs": [],
   "source": [
    "a.stack()"
   ]
  },
  {
   "cell_type": "code",
   "execution_count": null,
   "metadata": {},
   "outputs": [],
   "source": [
    "read_value1 = a.read(2) # 读取某个索引下的值.\n",
    "read_value1"
   ]
  },
  {
   "cell_type": "code",
   "execution_count": null,
   "metadata": {},
   "outputs": [],
   "source": [
    "a.stack()"
   ]
  },
  {
   "cell_type": "code",
   "execution_count": null,
   "metadata": {},
   "outputs": [],
   "source": []
  }
 ],
 "metadata": {
  "kernelspec": {
   "display_name": "Python 3",
   "language": "python",
   "name": "python3"
  },
  "language_info": {
   "codemirror_mode": {
    "name": "ipython",
    "version": 3
   },
   "file_extension": ".py",
   "mimetype": "text/x-python",
   "name": "python",
   "nbconvert_exporter": "python",
   "pygments_lexer": "ipython3",
   "version": "3.6.5"
  }
 },
 "nbformat": 4,
 "nbformat_minor": 2
}
