{
 "cells": [
  {
   "cell_type": "code",
   "execution_count": 1,
   "metadata": {},
   "outputs": [],
   "source": [
    "import pandas as pd\n",
    "import numpy as np"
   ]
  },
  {
   "cell_type": "code",
   "execution_count": null,
   "metadata": {},
   "outputs": [],
   "source": []
  },
  {
   "cell_type": "code",
   "execution_count": 2,
   "metadata": {},
   "outputs": [],
   "source": [
    "# one_brake=all_brake_boat[0]['brake_boat']"
   ]
  },
  {
   "cell_type": "code",
   "execution_count": 3,
   "metadata": {},
   "outputs": [],
   "source": [
    "# one_brake"
   ]
  },
  {
   "cell_type": "code",
   "execution_count": 10,
   "metadata": {},
   "outputs": [],
   "source": [
    "all_brake_boat={0: {'brake_boat': {38: [(0, 0), (124.97, 15.87)], 8: [(0, 15.87), (124.97, 15.87)], 28: [(124.97, 0), (124.97, 15.87)], 18: [(124.97, 15.87), (124.97, 15.87)]}, 'best_use_rate': 0.8333083613445378}, 1: {'brake_boat': {36: [(0, 0), (104.9, 16.62)], 19: [(0, 16.62), (111.34, 15.81)], 29: [(104.9, 0), (111.34, 15.81)], 39: [(111.34, 16.62), (111.34, 15.81)]}, 'best_use_rate': 0.7378460294117647}, 2: {'brake_boat': {34: [(0, 0), (96.34, 16.2)], 14: [(0, 16.2), (96.34, 16.2)], 6: [(96.34, 0), (104.9, 16.62)], 9: [(96.34, 16.62), (111.34, 15.81)]}, 'best_use_rate': 0.6959180042016807}, 3: {'brake_boat': {4: [(0, 0), (96.34, 16.2)], 25: [(96.34, 0), (126.74, 20.51)], 24: [(0, 16.2), (96.34, 16.2)]}, 'best_use_rate': 0.6009299789915966}, 4: {'brake_boat': {15: [(0, 0), (126.74, 20.51)], 35: [(126.74, 0), (126.74, 20.51)]}, 'best_use_rate': 0.5461002941176472}, 5: {'brake_boat': {5: [(0, 0), (126.74, 20.51)], 7: [(126.74, 0), (127.14, 18.32)]}, 'best_use_rate': 0.5177145168067228}, 6: {'brake_boat': {37: [(0, 0), (127.14, 18.32)], 27: [(127.14, 0), (127.14, 18.32)]}, 'best_use_rate': 0.4893287394957983}, 7: {'brake_boat': {17: [(0, 0), (127.14, 18.32)], 31: [(127.14, 0), (112.88, 19.52)]}, 'best_use_rate': 0.47611579831932777}, 8: {'brake_boat': {21: [(0, 0), (112.88, 19.52)], 1: [(112.88, 0), (112.88, 19.52)]}, 'best_use_rate': 0.4629028571428571}, 9: {'brake_boat': {11: [(0, 0), (112.88, 19.52)], 13: [(112.88, 0), (102.52, 21.0)]}, 'best_use_rate': 0.45759848739495795}, 10: {'brake_boat': {23: [(0, 0), (102.52, 21.0)], 3: [(102.52, 0), (102.52, 21.0)]}, 'best_use_rate': 0.45229411764705885}, 11: {'brake_boat': {33: [(0, 0), (102.52, 21.0)], 22: [(102.52, 0), (107.59, 19.28)]}, 'best_use_rate': 0.44403941176470585}, 12: {'brake_boat': {12: [(0, 0), (107.59, 19.28)], 32: [(107.59, 0), (107.59, 19.28)]}, 'best_use_rate': 0.43578470588235296}, 13: {'brake_boat': {2: [(0, 0), (107.59, 19.28)], 10: [(107.59, 0), (104.77, 17.68)]}, 'best_use_rate': 0.4124652100840336}, 14: {'brake_boat': {20: [(0, 0), (104.77, 17.68)], 30: [(104.77, 0), (104.77, 17.68)]}, 'best_use_rate': 0.38914571428571426}, 15: {'brake_boat': {0: [(0, 0), (104.77, 17.68)], 16: [(104.77, 0), (104.9, 16.62)]}, 'best_use_rate': 0.37770710084033615}, 16: {'brake_boat': {26: [(0, 0), (104.9, 16.62)]}, 'best_use_rate': 0.183134243697479}}\n",
    "all_brake_boat={0: {'brake_boat': {8: [(0, 0), (110.0, 19.22)], 7: [(110.0, 0), (103.0, 16.0)], 1: [(110.0, 16.0), (85.5, 16.3)]}, 'best_use_rate': 0.5415808823529412}, 1: {'brake_boat': {2: [(0, 0), (110.0, 19.22)], 4: [(110.0, 0), (110.0, 17.0)]}, 'best_use_rate': 0.41850840336134454}, 2: {'brake_boat': {3: [(0, 0), (110.0, 17.0)], 6: [(110.0, 0), (110.0, 17.0)]}, 'best_use_rate': 0.39285714285714285}, 3: {'brake_boat': {0: [(0, 0), (85.5, 16.3)], 5: [(85.5, 0), (107.0, 17.0)]}, 'best_use_rate': 0.33746323529411765}}\n",
    "all_brake_boat={0: {'brake_boat': {4: [(0, 0), (110.0, 19.22)], 3: [(110.0, 0), (103.0, 16.0)], 0: [(110.0, 16.0), (85.5, 16.3)]}, 'best_use_rate': 0.5415808823529412}, 1: {'brake_boat': {2: [(0, 0), (110.0, 17.0)], 1: [(110.0, 0), (110.0, 17.0)]}, 'best_use_rate': 0.39285714285714285}}\n",
    "\n",
    "def convert_one_brake_coord(one_brake):\n",
    "    all_keys=list(one_brake.keys())\n",
    "    all_values=one_brake.values()\n",
    "    all_values=list(all_values)\n",
    "    length=len( all_values)\n",
    "    brake_coord_L=[each[0][0] for each in list(all_values)]\n",
    "    brake_coord_W=[each[0][1] for each in list(all_values)]\n",
    "\n",
    "\n",
    "    brake_coord_L_series=pd.Series(brake_coord_L).rank(method='dense',ascending=True)\n",
    "    brake_coord_W_series=pd.Series(brake_coord_W).rank(method='dense',ascending=True)\n",
    "\n",
    "    brake_coord_L_rank=[each-1 for each in brake_coord_L_series]\n",
    "    brake_coord_W_rank=[each-1 for each in brake_coord_W_series]\n",
    "    \n",
    "    \n",
    "    df=pd.DataFrame(data=np.array([brake_coord_L,brake_coord_W]).T,columns=['L','W'])\n",
    "    if df['W'].nunique()<=1:\n",
    "        df2=df['L'].rank(method='dense',ascending=True).reset_index().rename(columns={'index':'level_1'})\n",
    "    else:\n",
    "        df2=df.groupby('W').apply(lambda df:df['L'].rank(method='dense',ascending=True)).reset_index()\n",
    "        df2=df2.drop('W',axis=1)\n",
    "    \n",
    "    \n",
    "    df2=df2.rename(columns={'L':'L_rank_raw'})\n",
    "    print(df2.columns)\n",
    "    print('df2',df2)\n",
    "    brake_coord_L_series_compact=pd.merge(df,df2, left_index=True,right_on='level_1',sort=True)['L_rank_raw']\n",
    "    brake_coord_L_rank=[each-1 for each in brake_coord_L_series_compact]\n",
    "    \n",
    "    \n",
    "    ##将宽度W对应的1排名，全部改成2\n",
    "    brake_coord_W_rank_new=[each if each==0 else 2 for each in  brake_coord_W_rank ]\n",
    "    ##转成整形\n",
    "    brake_coord_W_rank_new=[str(int(each)) for each in brake_coord_W_rank_new]\n",
    "    brake_coord_L_rank=[str(int(each)) for each in brake_coord_L_rank ]\n",
    "    \n",
    "    \n",
    "    XW_YL=list(zip(brake_coord_W_rank_new,brake_coord_L_rank))\n",
    "    \n",
    "    for ind in  range(length):\n",
    "        all_values[ind].append(','.join(XW_YL[ind]))\n",
    "        \n",
    "    one_brake_new={}\n",
    "    for i in  range(length):\n",
    "        one_brake_new[all_keys[i]]=all_values[i]\n",
    "    return one_brake_new\n",
    "def convert_all_brakes_coord(all_brake_boat):\n",
    "    all_brake_boat_new={}\n",
    "    for k in all_brake_boat:\n",
    "        one_brake=all_brake_boat[k]['brake_boat']\n",
    "        print('one_brake',one_brake)\n",
    "        one_brake_new=convert_one_brake_coord(one_brake)\n",
    "        all_brake_boat[k]['brake_boat']=one_brake_new\n",
    "        print('one_brake_new',one_brake_new)\n",
    "    \n",
    "    return all_brake_boat"
   ]
  },
  {
   "cell_type": "code",
   "execution_count": 11,
   "metadata": {},
   "outputs": [
    {
     "name": "stdout",
     "output_type": "stream",
     "text": [
      "one_brake {4: [(0, 0), (110.0, 19.22)], 3: [(110.0, 0), (103.0, 16.0)], 0: [(110.0, 16.0), (85.5, 16.3)]}\n",
      "Index(['level_1', 'L_rank_raw'], dtype='object')\n",
      "df2    level_1  L_rank_raw\n",
      "0        0         1.0\n",
      "1        1         2.0\n",
      "2        2         1.0\n",
      "one_brake_new {4: [(0, 0), (110.0, 19.22), '0,0'], 3: [(110.0, 0), (103.0, 16.0), '0,1'], 0: [(110.0, 16.0), (85.5, 16.3), '2,0']}\n",
      "one_brake {2: [(0, 0), (110.0, 17.0)], 1: [(110.0, 0), (110.0, 17.0)]}\n",
      "Index(['level_1', 'L_rank_raw'], dtype='object')\n",
      "df2    level_1  L_rank_raw\n",
      "0        0         1.0\n",
      "1        1         2.0\n",
      "one_brake_new {2: [(0, 0), (110.0, 17.0), '0,0'], 1: [(110.0, 0), (110.0, 17.0), '0,1']}\n"
     ]
    }
   ],
   "source": [
    "res=convert_all_brakes_coord(all_brake_boat)"
   ]
  },
  {
   "cell_type": "code",
   "execution_count": 12,
   "metadata": {},
   "outputs": [
    {
     "data": {
      "text/plain": [
       "{0: {'brake_boat': {4: [(0, 0), (110.0, 19.22), '0,0'],\n",
       "   3: [(110.0, 0), (103.0, 16.0), '0,1'],\n",
       "   0: [(110.0, 16.0), (85.5, 16.3), '2,0']},\n",
       "  'best_use_rate': 0.5415808823529412},\n",
       " 1: {'brake_boat': {2: [(0, 0), (110.0, 17.0), '0,0'],\n",
       "   1: [(110.0, 0), (110.0, 17.0), '0,1']},\n",
       "  'best_use_rate': 0.39285714285714285}}"
      ]
     },
     "execution_count": 12,
     "metadata": {},
     "output_type": "execute_result"
    }
   ],
   "source": [
    "res"
   ]
  },
  {
   "cell_type": "code",
   "execution_count": null,
   "metadata": {},
   "outputs": [],
   "source": []
  },
  {
   "cell_type": "code",
   "execution_count": 8,
   "metadata": {},
   "outputs": [],
   "source": [
    "one_brake={\n",
    "\t\t\t36: [(0, 0), (104.9, 16.62)],\n",
    "\t\t\t19: [(0, 16.62), (111.34, 15.81), (2, 0.0)],\n",
    "\t\t\t29: [(104.9, 0), (111.34, 15.81), (0.0, 1.0)],\n",
    "\t\t\t39: [(111.34, 16.62), (111.34, 15.81), (2, 2.0)],\n",
    "\t\t}"
   ]
  },
  {
   "cell_type": "code",
   "execution_count": 7,
   "metadata": {},
   "outputs": [],
   "source": [
    "# one_brake"
   ]
  },
  {
   "cell_type": "code",
   "execution_count": 8,
   "metadata": {},
   "outputs": [
    {
     "data": {
      "text/plain": [
       "{36: [(0, 0), (104.9, 16.62), (0.0, 0.0)],\n",
       " 19: [(0, 16.62), (111.34, 15.81), (2, 0.0), (2, 0.0)],\n",
       " 29: [(104.9, 0), (111.34, 15.81), (0.0, 1.0), (0.0, 1.0)],\n",
       " 39: [(111.34, 16.62), (111.34, 15.81), (2, 2.0), (2, 2.0)]}"
      ]
     },
     "execution_count": 8,
     "metadata": {},
     "output_type": "execute_result"
    }
   ],
   "source": [
    "convert_one_brake_coord(one_brake)"
   ]
  },
  {
   "cell_type": "code",
   "execution_count": null,
   "metadata": {},
   "outputs": [],
   "source": []
  },
  {
   "cell_type": "code",
   "execution_count": 9,
   "metadata": {},
   "outputs": [
    {
     "name": "stdout",
     "output_type": "stream",
     "text": [
      "one_brake {38: [(0, 0), (124.97, 15.87), (0.0, 0.0)], 8: [(0, 15.87), (124.97, 15.87), (2, 0.0)], 28: [(124.97, 0), (124.97, 15.87), (0.0, 1.0)], 18: [(124.97, 15.87), (124.97, 15.87), (2, 1.0)]}\n",
      "one_brake_new {38: [(0, 0), (124.97, 15.87), (0.0, 0.0), (0.0, 0.0)], 8: [(0, 15.87), (124.97, 15.87), (2, 0.0), (2, 0.0)], 28: [(124.97, 0), (124.97, 15.87), (0.0, 1.0), (0.0, 1.0)], 18: [(124.97, 15.87), (124.97, 15.87), (2, 1.0), (2, 1.0)]}\n",
      "one_brake {36: [(0, 0), (104.9, 16.62), (0.0, 0.0)], 19: [(0, 16.62), (111.34, 15.81), (2, 0.0)], 29: [(104.9, 0), (111.34, 15.81), (0.0, 1.0)], 39: [(111.34, 16.62), (111.34, 15.81), (2, 2.0)]}\n",
      "one_brake_new {36: [(0, 0), (104.9, 16.62), (0.0, 0.0), (0.0, 0.0)], 19: [(0, 16.62), (111.34, 15.81), (2, 0.0), (2, 0.0)], 29: [(104.9, 0), (111.34, 15.81), (0.0, 1.0), (0.0, 1.0)], 39: [(111.34, 16.62), (111.34, 15.81), (2, 2.0), (2, 2.0)]}\n",
      "one_brake {34: [(0, 0), (96.34, 16.2), (0.0, 0.0)], 14: [(0, 16.2), (96.34, 16.2), (2, 0.0)], 6: [(96.34, 0), (104.9, 16.62), (0.0, 1.0)], 9: [(96.34, 16.62), (111.34, 15.81), (2, 1.0)]}\n",
      "one_brake_new {34: [(0, 0), (96.34, 16.2), (0.0, 0.0), (0.0, 0.0)], 14: [(0, 16.2), (96.34, 16.2), (2, 0.0), (2, 0.0)], 6: [(96.34, 0), (104.9, 16.62), (0.0, 1.0), (0.0, 1.0)], 9: [(96.34, 16.62), (111.34, 15.81), (2, 1.0), (2, 1.0)]}\n",
      "one_brake {4: [(0, 0), (96.34, 16.2), (0.0, 0.0)], 25: [(96.34, 0), (126.74, 20.51), (0.0, 1.0)], 24: [(0, 16.2), (96.34, 16.2), (2, 0.0)]}\n",
      "one_brake_new {4: [(0, 0), (96.34, 16.2), (0.0, 0.0), (0.0, 0.0)], 25: [(96.34, 0), (126.74, 20.51), (0.0, 1.0), (0.0, 1.0)], 24: [(0, 16.2), (96.34, 16.2), (2, 0.0), (2, 0.0)]}\n",
      "one_brake {15: [(0, 0), (126.74, 20.51), (0.0, 0.0)], 35: [(126.74, 0), (126.74, 20.51), (0.0, 1.0)]}\n",
      "one_brake_new {15: [(0, 0), (126.74, 20.51), (0.0, 0.0), (0.0, 0.0)], 35: [(126.74, 0), (126.74, 20.51), (0.0, 1.0), (0.0, 1.0)]}\n",
      "one_brake {5: [(0, 0), (126.74, 20.51), (0.0, 0.0)], 7: [(126.74, 0), (127.14, 18.32), (0.0, 1.0)]}\n",
      "one_brake_new {5: [(0, 0), (126.74, 20.51), (0.0, 0.0), (0.0, 0.0)], 7: [(126.74, 0), (127.14, 18.32), (0.0, 1.0), (0.0, 1.0)]}\n",
      "one_brake {37: [(0, 0), (127.14, 18.32), (0.0, 0.0)], 27: [(127.14, 0), (127.14, 18.32), (0.0, 1.0)]}\n",
      "one_brake_new {37: [(0, 0), (127.14, 18.32), (0.0, 0.0), (0.0, 0.0)], 27: [(127.14, 0), (127.14, 18.32), (0.0, 1.0), (0.0, 1.0)]}\n",
      "one_brake {17: [(0, 0), (127.14, 18.32), (0.0, 0.0)], 31: [(127.14, 0), (112.88, 19.52), (0.0, 1.0)]}\n",
      "one_brake_new {17: [(0, 0), (127.14, 18.32), (0.0, 0.0), (0.0, 0.0)], 31: [(127.14, 0), (112.88, 19.52), (0.0, 1.0), (0.0, 1.0)]}\n",
      "one_brake {21: [(0, 0), (112.88, 19.52), (0.0, 0.0)], 1: [(112.88, 0), (112.88, 19.52), (0.0, 1.0)]}\n",
      "one_brake_new {21: [(0, 0), (112.88, 19.52), (0.0, 0.0), (0.0, 0.0)], 1: [(112.88, 0), (112.88, 19.52), (0.0, 1.0), (0.0, 1.0)]}\n",
      "one_brake {11: [(0, 0), (112.88, 19.52), (0.0, 0.0)], 13: [(112.88, 0), (102.52, 21.0), (0.0, 1.0)]}\n",
      "one_brake_new {11: [(0, 0), (112.88, 19.52), (0.0, 0.0), (0.0, 0.0)], 13: [(112.88, 0), (102.52, 21.0), (0.0, 1.0), (0.0, 1.0)]}\n",
      "one_brake {23: [(0, 0), (102.52, 21.0), (0.0, 0.0)], 3: [(102.52, 0), (102.52, 21.0), (0.0, 1.0)]}\n",
      "one_brake_new {23: [(0, 0), (102.52, 21.0), (0.0, 0.0), (0.0, 0.0)], 3: [(102.52, 0), (102.52, 21.0), (0.0, 1.0), (0.0, 1.0)]}\n",
      "one_brake {33: [(0, 0), (102.52, 21.0), (0.0, 0.0)], 22: [(102.52, 0), (107.59, 19.28), (0.0, 1.0)]}\n",
      "one_brake_new {33: [(0, 0), (102.52, 21.0), (0.0, 0.0), (0.0, 0.0)], 22: [(102.52, 0), (107.59, 19.28), (0.0, 1.0), (0.0, 1.0)]}\n",
      "one_brake {12: [(0, 0), (107.59, 19.28), (0.0, 0.0)], 32: [(107.59, 0), (107.59, 19.28), (0.0, 1.0)]}\n",
      "one_brake_new {12: [(0, 0), (107.59, 19.28), (0.0, 0.0), (0.0, 0.0)], 32: [(107.59, 0), (107.59, 19.28), (0.0, 1.0), (0.0, 1.0)]}\n",
      "one_brake {2: [(0, 0), (107.59, 19.28), (0.0, 0.0)], 10: [(107.59, 0), (104.77, 17.68), (0.0, 1.0)]}\n",
      "one_brake_new {2: [(0, 0), (107.59, 19.28), (0.0, 0.0), (0.0, 0.0)], 10: [(107.59, 0), (104.77, 17.68), (0.0, 1.0), (0.0, 1.0)]}\n",
      "one_brake {20: [(0, 0), (104.77, 17.68), (0.0, 0.0)], 30: [(104.77, 0), (104.77, 17.68), (0.0, 1.0)]}\n",
      "one_brake_new {20: [(0, 0), (104.77, 17.68), (0.0, 0.0), (0.0, 0.0)], 30: [(104.77, 0), (104.77, 17.68), (0.0, 1.0), (0.0, 1.0)]}\n",
      "one_brake {0: [(0, 0), (104.77, 17.68), (0.0, 0.0)], 16: [(104.77, 0), (104.9, 16.62), (0.0, 1.0)]}\n",
      "one_brake_new {0: [(0, 0), (104.77, 17.68), (0.0, 0.0), (0.0, 0.0)], 16: [(104.77, 0), (104.9, 16.62), (0.0, 1.0), (0.0, 1.0)]}\n",
      "one_brake {26: [(0, 0), (104.9, 16.62), (0.0, 0.0)]}\n",
      "one_brake_new {26: [(0, 0), (104.9, 16.62), (0.0, 0.0), (0.0, 0.0)]}\n"
     ]
    },
    {
     "data": {
      "text/plain": [
       "{0: {'brake_boat': {38: [(0, 0), (124.97, 15.87), (0.0, 0.0), (0.0, 0.0)],\n",
       "   8: [(0, 15.87), (124.97, 15.87), (2, 0.0), (2, 0.0)],\n",
       "   28: [(124.97, 0), (124.97, 15.87), (0.0, 1.0), (0.0, 1.0)],\n",
       "   18: [(124.97, 15.87), (124.97, 15.87), (2, 1.0), (2, 1.0)]},\n",
       "  'best_use_rate': 0.8333083613445378},\n",
       " 1: {'brake_boat': {36: [(0, 0), (104.9, 16.62), (0.0, 0.0), (0.0, 0.0)],\n",
       "   19: [(0, 16.62), (111.34, 15.81), (2, 0.0), (2, 0.0)],\n",
       "   29: [(104.9, 0), (111.34, 15.81), (0.0, 1.0), (0.0, 1.0)],\n",
       "   39: [(111.34, 16.62), (111.34, 15.81), (2, 2.0), (2, 2.0)]},\n",
       "  'best_use_rate': 0.7378460294117647},\n",
       " 2: {'brake_boat': {34: [(0, 0), (96.34, 16.2), (0.0, 0.0), (0.0, 0.0)],\n",
       "   14: [(0, 16.2), (96.34, 16.2), (2, 0.0), (2, 0.0)],\n",
       "   6: [(96.34, 0), (104.9, 16.62), (0.0, 1.0), (0.0, 1.0)],\n",
       "   9: [(96.34, 16.62), (111.34, 15.81), (2, 1.0), (2, 1.0)]},\n",
       "  'best_use_rate': 0.6959180042016807},\n",
       " 3: {'brake_boat': {4: [(0, 0), (96.34, 16.2), (0.0, 0.0), (0.0, 0.0)],\n",
       "   25: [(96.34, 0), (126.74, 20.51), (0.0, 1.0), (0.0, 1.0)],\n",
       "   24: [(0, 16.2), (96.34, 16.2), (2, 0.0), (2, 0.0)]},\n",
       "  'best_use_rate': 0.6009299789915966},\n",
       " 4: {'brake_boat': {15: [(0, 0), (126.74, 20.51), (0.0, 0.0), (0.0, 0.0)],\n",
       "   35: [(126.74, 0), (126.74, 20.51), (0.0, 1.0), (0.0, 1.0)]},\n",
       "  'best_use_rate': 0.5461002941176472},\n",
       " 5: {'brake_boat': {5: [(0, 0), (126.74, 20.51), (0.0, 0.0), (0.0, 0.0)],\n",
       "   7: [(126.74, 0), (127.14, 18.32), (0.0, 1.0), (0.0, 1.0)]},\n",
       "  'best_use_rate': 0.5177145168067228},\n",
       " 6: {'brake_boat': {37: [(0, 0), (127.14, 18.32), (0.0, 0.0), (0.0, 0.0)],\n",
       "   27: [(127.14, 0), (127.14, 18.32), (0.0, 1.0), (0.0, 1.0)]},\n",
       "  'best_use_rate': 0.4893287394957983},\n",
       " 7: {'brake_boat': {17: [(0, 0), (127.14, 18.32), (0.0, 0.0), (0.0, 0.0)],\n",
       "   31: [(127.14, 0), (112.88, 19.52), (0.0, 1.0), (0.0, 1.0)]},\n",
       "  'best_use_rate': 0.47611579831932777},\n",
       " 8: {'brake_boat': {21: [(0, 0), (112.88, 19.52), (0.0, 0.0), (0.0, 0.0)],\n",
       "   1: [(112.88, 0), (112.88, 19.52), (0.0, 1.0), (0.0, 1.0)]},\n",
       "  'best_use_rate': 0.4629028571428571},\n",
       " 9: {'brake_boat': {11: [(0, 0), (112.88, 19.52), (0.0, 0.0), (0.0, 0.0)],\n",
       "   13: [(112.88, 0), (102.52, 21.0), (0.0, 1.0), (0.0, 1.0)]},\n",
       "  'best_use_rate': 0.45759848739495795},\n",
       " 10: {'brake_boat': {23: [(0, 0), (102.52, 21.0), (0.0, 0.0), (0.0, 0.0)],\n",
       "   3: [(102.52, 0), (102.52, 21.0), (0.0, 1.0), (0.0, 1.0)]},\n",
       "  'best_use_rate': 0.45229411764705885},\n",
       " 11: {'brake_boat': {33: [(0, 0), (102.52, 21.0), (0.0, 0.0), (0.0, 0.0)],\n",
       "   22: [(102.52, 0), (107.59, 19.28), (0.0, 1.0), (0.0, 1.0)]},\n",
       "  'best_use_rate': 0.44403941176470585},\n",
       " 12: {'brake_boat': {12: [(0, 0), (107.59, 19.28), (0.0, 0.0), (0.0, 0.0)],\n",
       "   32: [(107.59, 0), (107.59, 19.28), (0.0, 1.0), (0.0, 1.0)]},\n",
       "  'best_use_rate': 0.43578470588235296},\n",
       " 13: {'brake_boat': {2: [(0, 0), (107.59, 19.28), (0.0, 0.0), (0.0, 0.0)],\n",
       "   10: [(107.59, 0), (104.77, 17.68), (0.0, 1.0), (0.0, 1.0)]},\n",
       "  'best_use_rate': 0.4124652100840336},\n",
       " 14: {'brake_boat': {20: [(0, 0), (104.77, 17.68), (0.0, 0.0), (0.0, 0.0)],\n",
       "   30: [(104.77, 0), (104.77, 17.68), (0.0, 1.0), (0.0, 1.0)]},\n",
       "  'best_use_rate': 0.38914571428571426},\n",
       " 15: {'brake_boat': {0: [(0, 0), (104.77, 17.68), (0.0, 0.0), (0.0, 0.0)],\n",
       "   16: [(104.77, 0), (104.9, 16.62), (0.0, 1.0), (0.0, 1.0)]},\n",
       "  'best_use_rate': 0.37770710084033615},\n",
       " 16: {'brake_boat': {26: [(0, 0), (104.9, 16.62), (0.0, 0.0), (0.0, 0.0)]},\n",
       "  'best_use_rate': 0.183134243697479}}"
      ]
     },
     "execution_count": 9,
     "metadata": {},
     "output_type": "execute_result"
    }
   ],
   "source": [
    "convert_all_brakes_coord(all_brake_boat)"
   ]
  },
  {
   "cell_type": "code",
   "execution_count": null,
   "metadata": {},
   "outputs": [],
   "source": []
  },
  {
   "cell_type": "code",
   "execution_count": null,
   "metadata": {},
   "outputs": [],
   "source": []
  },
  {
   "cell_type": "code",
   "execution_count": 10,
   "metadata": {},
   "outputs": [],
   "source": [
    "all_values=one_brake.values()"
   ]
  },
  {
   "cell_type": "code",
   "execution_count": 11,
   "metadata": {},
   "outputs": [
    {
     "data": {
      "text/plain": [
       "dict_values([[(0, 0), (104.9, 16.62), (0.0, 0.0)], [(0, 16.62), (111.34, 15.81), (2, 0.0), (2, 0.0)], [(104.9, 0), (111.34, 15.81), (0.0, 1.0), (0.0, 1.0)], [(111.34, 16.62), (111.34, 15.81), (2, 2.0), (2, 2.0)]])"
      ]
     },
     "execution_count": 11,
     "metadata": {},
     "output_type": "execute_result"
    }
   ],
   "source": [
    "all_values"
   ]
  },
  {
   "cell_type": "code",
   "execution_count": 12,
   "metadata": {},
   "outputs": [
    {
     "data": {
      "text/plain": [
       "[(36, [(0, 0), (104.9, 16.62), (0.0, 0.0)]),\n",
       " (19, [(0, 16.62), (111.34, 15.81), (2, 0.0), (2, 0.0)]),\n",
       " (29, [(104.9, 0), (111.34, 15.81), (0.0, 1.0), (0.0, 1.0)]),\n",
       " (39, [(111.34, 16.62), (111.34, 15.81), (2, 2.0), (2, 2.0)])]"
      ]
     },
     "execution_count": 12,
     "metadata": {},
     "output_type": "execute_result"
    }
   ],
   "source": [
    "sorted(one_brake.items(),key=lambda x:(x[1][0],x[1][1]))"
   ]
  },
  {
   "cell_type": "code",
   "execution_count": null,
   "metadata": {},
   "outputs": [],
   "source": [
    "15: {\n",
    "\t\t'brake_boat': {\n",
    "\t\t\t0: [(0, 0), (104.77, 17.68)],\n",
    "\t\t\t16: [(104.77, 0), (104.9, 16.62)]\n",
    "\t\t},"
   ]
  },
  {
   "cell_type": "code",
   "execution_count": 13,
   "metadata": {},
   "outputs": [],
   "source": [
    "one_brake={\n",
    "\t\t\t36: [(0, 0), (104.9, 16.62)],\n",
    "\t\t\t19: [(0, 16.62), (111.34, 15.81), (2, 0.0)],\n",
    "\t\t\t29: [(104.9, 0), (111.34, 15.81), (0.0, 1.0)],\n",
    "\t\t\t39: [(111.34, 16.62), (111.34, 15.81), (2, 2.0)],\n",
    "\t\t}"
   ]
  },
  {
   "cell_type": "code",
   "execution_count": 32,
   "metadata": {},
   "outputs": [],
   "source": [
    "# coords=[(0,0),(100,0),(100,18),(190,18)]\n",
    "# coords=[(0,0),(0,16.62),(104.9,0),(111.34,16.62)]\n",
    "coords=[(0,0),(104.77,0)]"
   ]
  },
  {
   "cell_type": "code",
   "execution_count": 33,
   "metadata": {},
   "outputs": [],
   "source": [
    "all_values=[[each] for each in coords]"
   ]
  },
  {
   "cell_type": "code",
   "execution_count": 34,
   "metadata": {},
   "outputs": [],
   "source": [
    "brake_coord_L=[each[0][0] for each in list(all_values)]\n",
    "brake_coord_W=[each[0][1] for each in list(all_values)]\n",
    "\n",
    "# print(brake_coord_L)\n",
    "# print(brake_coord_W)\n",
    "\n",
    "\n",
    "\n",
    "\n",
    "brake_coord_L_series=pd.Series(brake_coord_L).rank(method='dense',ascending=True)\n",
    "brake_coord_W_series=pd.Series(brake_coord_W).rank(method='dense',ascending=True)\n",
    "\n",
    "\n",
    "\n",
    "\n",
    "\n",
    "\n",
    "\n",
    "brake_coord_L_rank=[each-1 for each in brake_coord_L_series]\n",
    "brake_coord_W_rank=[each-1 for each in brake_coord_W_series]\n",
    "\n",
    "\n",
    "\n",
    "\n"
   ]
  },
  {
   "cell_type": "code",
   "execution_count": 35,
   "metadata": {},
   "outputs": [],
   "source": [
    "#brake_coord_L_series_compact=df.groupby('W').apply(lambda df:df['L'].rank(method='dense',ascending=True)).reset_index(drop=True)\n",
    "\n",
    "df=pd.DataFrame(data=np.array([brake_coord_L,brake_coord_W]).T,columns=['L','W'])\n"
   ]
  },
  {
   "cell_type": "code",
   "execution_count": 20,
   "metadata": {},
   "outputs": [
    {
     "data": {
      "text/html": [
       "<div>\n",
       "<style scoped>\n",
       "    .dataframe tbody tr th:only-of-type {\n",
       "        vertical-align: middle;\n",
       "    }\n",
       "\n",
       "    .dataframe tbody tr th {\n",
       "        vertical-align: top;\n",
       "    }\n",
       "\n",
       "    .dataframe thead th {\n",
       "        text-align: right;\n",
       "    }\n",
       "</style>\n",
       "<table border=\"1\" class=\"dataframe\">\n",
       "  <thead>\n",
       "    <tr style=\"text-align: right;\">\n",
       "      <th></th>\n",
       "      <th>L</th>\n",
       "      <th>W</th>\n",
       "    </tr>\n",
       "  </thead>\n",
       "  <tbody>\n",
       "    <tr>\n",
       "      <th>0</th>\n",
       "      <td>0.00</td>\n",
       "      <td>0.0</td>\n",
       "    </tr>\n",
       "    <tr>\n",
       "      <th>1</th>\n",
       "      <td>104.77</td>\n",
       "      <td>0.0</td>\n",
       "    </tr>\n",
       "  </tbody>\n",
       "</table>\n",
       "</div>"
      ],
      "text/plain": [
       "        L    W\n",
       "0    0.00  0.0\n",
       "1  104.77  0.0"
      ]
     },
     "execution_count": 20,
     "metadata": {},
     "output_type": "execute_result"
    }
   ],
   "source": [
    "df"
   ]
  },
  {
   "cell_type": "code",
   "execution_count": 29,
   "metadata": {},
   "outputs": [
    {
     "data": {
      "text/html": [
       "<div>\n",
       "<style scoped>\n",
       "    .dataframe tbody tr th:only-of-type {\n",
       "        vertical-align: middle;\n",
       "    }\n",
       "\n",
       "    .dataframe tbody tr th {\n",
       "        vertical-align: top;\n",
       "    }\n",
       "\n",
       "    .dataframe thead th {\n",
       "        text-align: right;\n",
       "    }\n",
       "</style>\n",
       "<table border=\"1\" class=\"dataframe\">\n",
       "  <thead>\n",
       "    <tr style=\"text-align: right;\">\n",
       "      <th></th>\n",
       "      <th>L</th>\n",
       "      <th>W</th>\n",
       "    </tr>\n",
       "  </thead>\n",
       "  <tbody>\n",
       "    <tr>\n",
       "      <th>0</th>\n",
       "      <td>0.00</td>\n",
       "      <td>0.00</td>\n",
       "    </tr>\n",
       "    <tr>\n",
       "      <th>1</th>\n",
       "      <td>0.00</td>\n",
       "      <td>16.62</td>\n",
       "    </tr>\n",
       "    <tr>\n",
       "      <th>2</th>\n",
       "      <td>104.90</td>\n",
       "      <td>0.00</td>\n",
       "    </tr>\n",
       "    <tr>\n",
       "      <th>3</th>\n",
       "      <td>111.34</td>\n",
       "      <td>16.62</td>\n",
       "    </tr>\n",
       "  </tbody>\n",
       "</table>\n",
       "</div>"
      ],
      "text/plain": [
       "        L      W\n",
       "0    0.00   0.00\n",
       "1    0.00  16.62\n",
       "2  104.90   0.00\n",
       "3  111.34  16.62"
      ]
     },
     "execution_count": 29,
     "metadata": {},
     "output_type": "execute_result"
    }
   ],
   "source": [
    "df"
   ]
  },
  {
   "cell_type": "code",
   "execution_count": 41,
   "metadata": {},
   "outputs": [
    {
     "data": {
      "text/plain": [
       "1"
      ]
     },
     "execution_count": 41,
     "metadata": {},
     "output_type": "execute_result"
    }
   ],
   "source": [
    "df['W'].nunique()"
   ]
  },
  {
   "cell_type": "code",
   "execution_count": 36,
   "metadata": {},
   "outputs": [],
   "source": [
    "df2=df.groupby('W').apply(lambda df:df['L'].rank(method='dense',ascending=True))#.reset_index()\n"
   ]
  },
  {
   "cell_type": "code",
   "execution_count": 44,
   "metadata": {},
   "outputs": [
    {
     "data": {
      "text/html": [
       "<div>\n",
       "<style scoped>\n",
       "    .dataframe tbody tr th:only-of-type {\n",
       "        vertical-align: middle;\n",
       "    }\n",
       "\n",
       "    .dataframe tbody tr th {\n",
       "        vertical-align: top;\n",
       "    }\n",
       "\n",
       "    .dataframe thead th {\n",
       "        text-align: right;\n",
       "    }\n",
       "</style>\n",
       "<table border=\"1\" class=\"dataframe\">\n",
       "  <thead>\n",
       "    <tr style=\"text-align: right;\">\n",
       "      <th></th>\n",
       "      <th>level_1</th>\n",
       "      <th>L</th>\n",
       "    </tr>\n",
       "  </thead>\n",
       "  <tbody>\n",
       "    <tr>\n",
       "      <th>0</th>\n",
       "      <td>0</td>\n",
       "      <td>1.0</td>\n",
       "    </tr>\n",
       "    <tr>\n",
       "      <th>1</th>\n",
       "      <td>1</td>\n",
       "      <td>2.0</td>\n",
       "    </tr>\n",
       "  </tbody>\n",
       "</table>\n",
       "</div>"
      ],
      "text/plain": [
       "   level_1    L\n",
       "0        0  1.0\n",
       "1        1  2.0"
      ]
     },
     "execution_count": 44,
     "metadata": {},
     "output_type": "execute_result"
    }
   ],
   "source": [
    "df['L'].rank(method='dense',ascending=True).reset_index().rename(columns={'index':'level_1'})"
   ]
  },
  {
   "cell_type": "code",
   "execution_count": 39,
   "metadata": {},
   "outputs": [
    {
     "data": {
      "text/html": [
       "<div>\n",
       "<style scoped>\n",
       "    .dataframe tbody tr th:only-of-type {\n",
       "        vertical-align: middle;\n",
       "    }\n",
       "\n",
       "    .dataframe tbody tr th {\n",
       "        vertical-align: top;\n",
       "    }\n",
       "\n",
       "    .dataframe thead th {\n",
       "        text-align: right;\n",
       "    }\n",
       "</style>\n",
       "<table border=\"1\" class=\"dataframe\">\n",
       "  <thead>\n",
       "    <tr style=\"text-align: right;\">\n",
       "      <th>L</th>\n",
       "      <th>0</th>\n",
       "      <th>1</th>\n",
       "    </tr>\n",
       "    <tr>\n",
       "      <th>W</th>\n",
       "      <th></th>\n",
       "      <th></th>\n",
       "    </tr>\n",
       "  </thead>\n",
       "  <tbody>\n",
       "    <tr>\n",
       "      <th>0.0</th>\n",
       "      <td>1.0</td>\n",
       "      <td>2.0</td>\n",
       "    </tr>\n",
       "  </tbody>\n",
       "</table>\n",
       "</div>"
      ],
      "text/plain": [
       "L      0    1\n",
       "W            \n",
       "0.0  1.0  2.0"
      ]
     },
     "execution_count": 39,
     "metadata": {},
     "output_type": "execute_result"
    }
   ],
   "source": [
    "df2"
   ]
  },
  {
   "cell_type": "code",
   "execution_count": 38,
   "metadata": {},
   "outputs": [
    {
     "data": {
      "text/html": [
       "<div>\n",
       "<style scoped>\n",
       "    .dataframe tbody tr th:only-of-type {\n",
       "        vertical-align: middle;\n",
       "    }\n",
       "\n",
       "    .dataframe tbody tr th {\n",
       "        vertical-align: top;\n",
       "    }\n",
       "\n",
       "    .dataframe thead th {\n",
       "        text-align: right;\n",
       "    }\n",
       "</style>\n",
       "<table border=\"1\" class=\"dataframe\">\n",
       "  <thead>\n",
       "    <tr style=\"text-align: right;\">\n",
       "      <th>L</th>\n",
       "      <th>W</th>\n",
       "      <th>0</th>\n",
       "      <th>1</th>\n",
       "    </tr>\n",
       "  </thead>\n",
       "  <tbody>\n",
       "    <tr>\n",
       "      <th>0</th>\n",
       "      <td>0.0</td>\n",
       "      <td>1.0</td>\n",
       "      <td>2.0</td>\n",
       "    </tr>\n",
       "  </tbody>\n",
       "</table>\n",
       "</div>"
      ],
      "text/plain": [
       "L    W    0    1\n",
       "0  0.0  1.0  2.0"
      ]
     },
     "execution_count": 38,
     "metadata": {},
     "output_type": "execute_result"
    }
   ],
   "source": [
    "df2.reset_index()"
   ]
  },
  {
   "cell_type": "code",
   "execution_count": 31,
   "metadata": {},
   "outputs": [
    {
     "data": {
      "text/html": [
       "<div>\n",
       "<style scoped>\n",
       "    .dataframe tbody tr th:only-of-type {\n",
       "        vertical-align: middle;\n",
       "    }\n",
       "\n",
       "    .dataframe tbody tr th {\n",
       "        vertical-align: top;\n",
       "    }\n",
       "\n",
       "    .dataframe thead th {\n",
       "        text-align: right;\n",
       "    }\n",
       "</style>\n",
       "<table border=\"1\" class=\"dataframe\">\n",
       "  <thead>\n",
       "    <tr style=\"text-align: right;\">\n",
       "      <th></th>\n",
       "      <th>W</th>\n",
       "      <th>level_1</th>\n",
       "      <th>L</th>\n",
       "    </tr>\n",
       "  </thead>\n",
       "  <tbody>\n",
       "    <tr>\n",
       "      <th>0</th>\n",
       "      <td>0.00</td>\n",
       "      <td>0</td>\n",
       "      <td>1.0</td>\n",
       "    </tr>\n",
       "    <tr>\n",
       "      <th>1</th>\n",
       "      <td>0.00</td>\n",
       "      <td>2</td>\n",
       "      <td>2.0</td>\n",
       "    </tr>\n",
       "    <tr>\n",
       "      <th>2</th>\n",
       "      <td>16.62</td>\n",
       "      <td>1</td>\n",
       "      <td>1.0</td>\n",
       "    </tr>\n",
       "    <tr>\n",
       "      <th>3</th>\n",
       "      <td>16.62</td>\n",
       "      <td>3</td>\n",
       "      <td>2.0</td>\n",
       "    </tr>\n",
       "  </tbody>\n",
       "</table>\n",
       "</div>"
      ],
      "text/plain": [
       "       W  level_1    L\n",
       "0   0.00        0  1.0\n",
       "1   0.00        2  2.0\n",
       "2  16.62        1  1.0\n",
       "3  16.62        3  2.0"
      ]
     },
     "execution_count": 31,
     "metadata": {},
     "output_type": "execute_result"
    }
   ],
   "source": [
    "df2.reset_index()"
   ]
  },
  {
   "cell_type": "code",
   "execution_count": null,
   "metadata": {},
   "outputs": [],
   "source": [
    "# df2=df2.drop('W',axis=1)\n",
    "# df2=df2.rename(columns={'L':'L_rank_raw'})"
   ]
  },
  {
   "cell_type": "code",
   "execution_count": null,
   "metadata": {},
   "outputs": [],
   "source": [
    "\n",
    "brake_coord_L_series_compact=pd.merge(df,df2, left_index=True,right_on='level_1',sort=True)['L_rank_raw']\n",
    "brake_coord_L_rank_compact=[each-1 for each in brake_coord_L_series_compact]"
   ]
  },
  {
   "cell_type": "code",
   "execution_count": null,
   "metadata": {},
   "outputs": [],
   "source": []
  },
  {
   "cell_type": "code",
   "execution_count": 88,
   "metadata": {},
   "outputs": [
    {
     "data": {
      "text/plain": [
       "[0, 0, 104.9, 111.34]"
      ]
     },
     "execution_count": 88,
     "metadata": {},
     "output_type": "execute_result"
    }
   ],
   "source": [
    "brake_coord_L"
   ]
  },
  {
   "cell_type": "code",
   "execution_count": 89,
   "metadata": {},
   "outputs": [
    {
     "data": {
      "text/plain": [
       "[0, 16.62, 0, 16.62]"
      ]
     },
     "execution_count": 89,
     "metadata": {},
     "output_type": "execute_result"
    }
   ],
   "source": [
    "brake_coord_W"
   ]
  },
  {
   "cell_type": "code",
   "execution_count": 90,
   "metadata": {},
   "outputs": [
    {
     "data": {
      "text/plain": [
       "[0.0, 0.0, 1.0, 2.0]"
      ]
     },
     "execution_count": 90,
     "metadata": {},
     "output_type": "execute_result"
    }
   ],
   "source": [
    "brake_coord_L_rank"
   ]
  },
  {
   "cell_type": "code",
   "execution_count": 91,
   "metadata": {},
   "outputs": [
    {
     "data": {
      "text/plain": [
       "[0.0, 0.0, 1.0, 1.0]"
      ]
     },
     "execution_count": 91,
     "metadata": {},
     "output_type": "execute_result"
    }
   ],
   "source": [
    "brake_coord_L_rank_compact"
   ]
  },
  {
   "cell_type": "code",
   "execution_count": 92,
   "metadata": {},
   "outputs": [
    {
     "data": {
      "text/plain": [
       "[0.0, 1.0, 0.0, 1.0]"
      ]
     },
     "execution_count": 92,
     "metadata": {},
     "output_type": "execute_result"
    }
   ],
   "source": [
    "brake_coord_W_rank"
   ]
  },
  {
   "cell_type": "code",
   "execution_count": 67,
   "metadata": {},
   "outputs": [
    {
     "data": {
      "text/html": [
       "<div>\n",
       "<style scoped>\n",
       "    .dataframe tbody tr th:only-of-type {\n",
       "        vertical-align: middle;\n",
       "    }\n",
       "\n",
       "    .dataframe tbody tr th {\n",
       "        vertical-align: top;\n",
       "    }\n",
       "\n",
       "    .dataframe thead th {\n",
       "        text-align: right;\n",
       "    }\n",
       "</style>\n",
       "<table border=\"1\" class=\"dataframe\">\n",
       "  <thead>\n",
       "    <tr style=\"text-align: right;\">\n",
       "      <th></th>\n",
       "      <th>L</th>\n",
       "      <th>W</th>\n",
       "      <th>W_rank</th>\n",
       "      <th>level_1</th>\n",
       "      <th>L_rank</th>\n",
       "    </tr>\n",
       "  </thead>\n",
       "  <tbody>\n",
       "    <tr>\n",
       "      <th>0</th>\n",
       "      <td>0.00</td>\n",
       "      <td>0.00</td>\n",
       "      <td>0.0</td>\n",
       "      <td>0</td>\n",
       "      <td>1.0</td>\n",
       "    </tr>\n",
       "    <tr>\n",
       "      <th>2</th>\n",
       "      <td>0.00</td>\n",
       "      <td>16.62</td>\n",
       "      <td>1.0</td>\n",
       "      <td>1</td>\n",
       "      <td>1.0</td>\n",
       "    </tr>\n",
       "    <tr>\n",
       "      <th>1</th>\n",
       "      <td>104.90</td>\n",
       "      <td>0.00</td>\n",
       "      <td>0.0</td>\n",
       "      <td>2</td>\n",
       "      <td>2.0</td>\n",
       "    </tr>\n",
       "    <tr>\n",
       "      <th>3</th>\n",
       "      <td>111.34</td>\n",
       "      <td>16.62</td>\n",
       "      <td>1.0</td>\n",
       "      <td>3</td>\n",
       "      <td>2.0</td>\n",
       "    </tr>\n",
       "  </tbody>\n",
       "</table>\n",
       "</div>"
      ],
      "text/plain": [
       "        L      W  W_rank  level_1  L_rank\n",
       "0    0.00   0.00     0.0        0     1.0\n",
       "2    0.00  16.62     1.0        1     1.0\n",
       "1  104.90   0.00     0.0        2     2.0\n",
       "3  111.34  16.62     1.0        3     2.0"
      ]
     },
     "execution_count": 67,
     "metadata": {},
     "output_type": "execute_result"
    }
   ],
   "source": [
    "pd.merge(df,df2, left_index=True,right_on='level_1',sort=True)"
   ]
  },
  {
   "cell_type": "code",
   "execution_count": 117,
   "metadata": {},
   "outputs": [],
   "source": [
    "# def get_second(x):\n",
    "#     return x[x.成绩.rank(method='dense', ascending=False) == 2.0]\n",
    "\n",
    "# df.groupby('班级').apply(get_second).reset_index(drop=True)\n"
   ]
  },
  {
   "cell_type": "code",
   "execution_count": 74,
   "metadata": {},
   "outputs": [],
   "source": [
    "df=pd.DataFrame(data=np.array([brake_coord_L,brake_coord_W]).T,columns=['L','W'])"
   ]
  },
  {
   "cell_type": "code",
   "execution_count": 75,
   "metadata": {},
   "outputs": [
    {
     "data": {
      "text/html": [
       "<div>\n",
       "<style scoped>\n",
       "    .dataframe tbody tr th:only-of-type {\n",
       "        vertical-align: middle;\n",
       "    }\n",
       "\n",
       "    .dataframe tbody tr th {\n",
       "        vertical-align: top;\n",
       "    }\n",
       "\n",
       "    .dataframe thead th {\n",
       "        text-align: right;\n",
       "    }\n",
       "</style>\n",
       "<table border=\"1\" class=\"dataframe\">\n",
       "  <thead>\n",
       "    <tr style=\"text-align: right;\">\n",
       "      <th></th>\n",
       "      <th>L</th>\n",
       "      <th>W</th>\n",
       "    </tr>\n",
       "  </thead>\n",
       "  <tbody>\n",
       "    <tr>\n",
       "      <th>0</th>\n",
       "      <td>0.00</td>\n",
       "      <td>0.00</td>\n",
       "    </tr>\n",
       "    <tr>\n",
       "      <th>1</th>\n",
       "      <td>0.00</td>\n",
       "      <td>16.62</td>\n",
       "    </tr>\n",
       "    <tr>\n",
       "      <th>2</th>\n",
       "      <td>104.90</td>\n",
       "      <td>0.00</td>\n",
       "    </tr>\n",
       "    <tr>\n",
       "      <th>3</th>\n",
       "      <td>111.34</td>\n",
       "      <td>16.62</td>\n",
       "    </tr>\n",
       "  </tbody>\n",
       "</table>\n",
       "</div>"
      ],
      "text/plain": [
       "        L      W\n",
       "0    0.00   0.00\n",
       "1    0.00  16.62\n",
       "2  104.90   0.00\n",
       "3  111.34  16.62"
      ]
     },
     "execution_count": 75,
     "metadata": {},
     "output_type": "execute_result"
    }
   ],
   "source": [
    "df"
   ]
  },
  {
   "cell_type": "code",
   "execution_count": 76,
   "metadata": {},
   "outputs": [],
   "source": [
    "def rank_L(df):\n",
    "    df['L'].rank(method='dense',ascending=True)"
   ]
  },
  {
   "cell_type": "code",
   "execution_count": 77,
   "metadata": {},
   "outputs": [],
   "source": [
    "df2=df.groupby('W').apply(lambda df:df['L'].rank(method='dense',ascending=True)).reset_index()"
   ]
  },
  {
   "cell_type": "code",
   "execution_count": 78,
   "metadata": {},
   "outputs": [
    {
     "data": {
      "text/html": [
       "<div>\n",
       "<style scoped>\n",
       "    .dataframe tbody tr th:only-of-type {\n",
       "        vertical-align: middle;\n",
       "    }\n",
       "\n",
       "    .dataframe tbody tr th {\n",
       "        vertical-align: top;\n",
       "    }\n",
       "\n",
       "    .dataframe thead th {\n",
       "        text-align: right;\n",
       "    }\n",
       "</style>\n",
       "<table border=\"1\" class=\"dataframe\">\n",
       "  <thead>\n",
       "    <tr style=\"text-align: right;\">\n",
       "      <th></th>\n",
       "      <th>W</th>\n",
       "      <th>level_1</th>\n",
       "      <th>L</th>\n",
       "    </tr>\n",
       "  </thead>\n",
       "  <tbody>\n",
       "    <tr>\n",
       "      <th>0</th>\n",
       "      <td>0.00</td>\n",
       "      <td>0</td>\n",
       "      <td>1.0</td>\n",
       "    </tr>\n",
       "    <tr>\n",
       "      <th>1</th>\n",
       "      <td>0.00</td>\n",
       "      <td>2</td>\n",
       "      <td>2.0</td>\n",
       "    </tr>\n",
       "    <tr>\n",
       "      <th>2</th>\n",
       "      <td>16.62</td>\n",
       "      <td>1</td>\n",
       "      <td>1.0</td>\n",
       "    </tr>\n",
       "    <tr>\n",
       "      <th>3</th>\n",
       "      <td>16.62</td>\n",
       "      <td>3</td>\n",
       "      <td>2.0</td>\n",
       "    </tr>\n",
       "  </tbody>\n",
       "</table>\n",
       "</div>"
      ],
      "text/plain": [
       "       W  level_1    L\n",
       "0   0.00        0  1.0\n",
       "1   0.00        2  2.0\n",
       "2  16.62        1  1.0\n",
       "3  16.62        3  2.0"
      ]
     },
     "execution_count": 78,
     "metadata": {},
     "output_type": "execute_result"
    }
   ],
   "source": [
    "df2"
   ]
  },
  {
   "cell_type": "code",
   "execution_count": 79,
   "metadata": {},
   "outputs": [
    {
     "data": {
      "text/plain": [
       "RangeIndex(start=0, stop=4, step=1)"
      ]
     },
     "execution_count": 79,
     "metadata": {},
     "output_type": "execute_result"
    }
   ],
   "source": [
    "df2.index"
   ]
  },
  {
   "cell_type": "code",
   "execution_count": 80,
   "metadata": {},
   "outputs": [],
   "source": [
    "df2=df2.sort_values(by=['W','L'])"
   ]
  },
  {
   "cell_type": "code",
   "execution_count": 81,
   "metadata": {},
   "outputs": [],
   "source": [
    "df2=df2.drop('W',axis=1)"
   ]
  },
  {
   "cell_type": "code",
   "execution_count": 82,
   "metadata": {},
   "outputs": [],
   "source": [
    "df2=df2.rename(columns={'L':'L_rank'})"
   ]
  },
  {
   "cell_type": "code",
   "execution_count": 83,
   "metadata": {},
   "outputs": [
    {
     "data": {
      "text/html": [
       "<div>\n",
       "<style scoped>\n",
       "    .dataframe tbody tr th:only-of-type {\n",
       "        vertical-align: middle;\n",
       "    }\n",
       "\n",
       "    .dataframe tbody tr th {\n",
       "        vertical-align: top;\n",
       "    }\n",
       "\n",
       "    .dataframe thead th {\n",
       "        text-align: right;\n",
       "    }\n",
       "</style>\n",
       "<table border=\"1\" class=\"dataframe\">\n",
       "  <thead>\n",
       "    <tr style=\"text-align: right;\">\n",
       "      <th></th>\n",
       "      <th>level_1</th>\n",
       "      <th>L_rank</th>\n",
       "    </tr>\n",
       "  </thead>\n",
       "  <tbody>\n",
       "    <tr>\n",
       "      <th>0</th>\n",
       "      <td>0</td>\n",
       "      <td>1.0</td>\n",
       "    </tr>\n",
       "    <tr>\n",
       "      <th>1</th>\n",
       "      <td>2</td>\n",
       "      <td>2.0</td>\n",
       "    </tr>\n",
       "    <tr>\n",
       "      <th>2</th>\n",
       "      <td>1</td>\n",
       "      <td>1.0</td>\n",
       "    </tr>\n",
       "    <tr>\n",
       "      <th>3</th>\n",
       "      <td>3</td>\n",
       "      <td>2.0</td>\n",
       "    </tr>\n",
       "  </tbody>\n",
       "</table>\n",
       "</div>"
      ],
      "text/plain": [
       "   level_1  L_rank\n",
       "0        0     1.0\n",
       "1        2     2.0\n",
       "2        1     1.0\n",
       "3        3     2.0"
      ]
     },
     "execution_count": 83,
     "metadata": {},
     "output_type": "execute_result"
    }
   ],
   "source": [
    "df2"
   ]
  },
  {
   "cell_type": "code",
   "execution_count": 84,
   "metadata": {},
   "outputs": [
    {
     "data": {
      "text/html": [
       "<div>\n",
       "<style scoped>\n",
       "    .dataframe tbody tr th:only-of-type {\n",
       "        vertical-align: middle;\n",
       "    }\n",
       "\n",
       "    .dataframe tbody tr th {\n",
       "        vertical-align: top;\n",
       "    }\n",
       "\n",
       "    .dataframe thead th {\n",
       "        text-align: right;\n",
       "    }\n",
       "</style>\n",
       "<table border=\"1\" class=\"dataframe\">\n",
       "  <thead>\n",
       "    <tr style=\"text-align: right;\">\n",
       "      <th></th>\n",
       "      <th>L</th>\n",
       "      <th>W</th>\n",
       "      <th>level_1</th>\n",
       "      <th>L_rank</th>\n",
       "    </tr>\n",
       "  </thead>\n",
       "  <tbody>\n",
       "    <tr>\n",
       "      <th>0</th>\n",
       "      <td>0.00</td>\n",
       "      <td>0.00</td>\n",
       "      <td>0</td>\n",
       "      <td>1.0</td>\n",
       "    </tr>\n",
       "    <tr>\n",
       "      <th>2</th>\n",
       "      <td>0.00</td>\n",
       "      <td>16.62</td>\n",
       "      <td>1</td>\n",
       "      <td>1.0</td>\n",
       "    </tr>\n",
       "    <tr>\n",
       "      <th>1</th>\n",
       "      <td>104.90</td>\n",
       "      <td>0.00</td>\n",
       "      <td>2</td>\n",
       "      <td>2.0</td>\n",
       "    </tr>\n",
       "    <tr>\n",
       "      <th>3</th>\n",
       "      <td>111.34</td>\n",
       "      <td>16.62</td>\n",
       "      <td>3</td>\n",
       "      <td>2.0</td>\n",
       "    </tr>\n",
       "  </tbody>\n",
       "</table>\n",
       "</div>"
      ],
      "text/plain": [
       "        L      W  level_1  L_rank\n",
       "0    0.00   0.00        0     1.0\n",
       "2    0.00  16.62        1     1.0\n",
       "1  104.90   0.00        2     2.0\n",
       "3  111.34  16.62        3     2.0"
      ]
     },
     "execution_count": 84,
     "metadata": {},
     "output_type": "execute_result"
    }
   ],
   "source": [
    "pd.merge(df,df2, left_index=True,right_on='level_1',sort=True)"
   ]
  },
  {
   "cell_type": "code",
   "execution_count": null,
   "metadata": {},
   "outputs": [],
   "source": []
  },
  {
   "cell_type": "code",
   "execution_count": 85,
   "metadata": {},
   "outputs": [
    {
     "data": {
      "text/plain": [
       "[0, 16.62, 0, 16.62]"
      ]
     },
     "execution_count": 85,
     "metadata": {},
     "output_type": "execute_result"
    }
   ],
   "source": [
    "brake_coord_W"
   ]
  },
  {
   "cell_type": "code",
   "execution_count": 86,
   "metadata": {},
   "outputs": [
    {
     "ename": "IndentationError",
     "evalue": "expected an indented block (<ipython-input-86-ce5aa05691bb>, line 5)",
     "output_type": "error",
     "traceback": [
      "\u001b[1;36m  File \u001b[1;32m\"<ipython-input-86-ce5aa05691bb>\"\u001b[1;36m, line \u001b[1;32m5\u001b[0m\n\u001b[1;33m    for index,each in df2.iterrows():\u001b[0m\n\u001b[1;37m      ^\u001b[0m\n\u001b[1;31mIndentationError\u001b[0m\u001b[1;31m:\u001b[0m expected an indented block\n"
     ]
    }
   ],
   "source": [
    "for index, e_w in enumerate(brake_coord_W):\n",
    "    \n",
    "    \n",
    "\n",
    "for index,each in df2.iterrows():\n",
    "#     print(index,each['W'])"
   ]
  },
  {
   "cell_type": "code",
   "execution_count": 36,
   "metadata": {},
   "outputs": [
    {
     "data": {
      "text/plain": [
       "0    1.0\n",
       "1    2.0\n",
       "Name: L, dtype: float64"
      ]
     },
     "execution_count": 36,
     "metadata": {},
     "output_type": "execute_result"
    }
   ],
   "source": [
    "df2[df2['W']==0]['L']"
   ]
  },
  {
   "cell_type": "code",
   "execution_count": null,
   "metadata": {},
   "outputs": [],
   "source": []
  },
  {
   "cell_type": "code",
   "execution_count": 142,
   "metadata": {},
   "outputs": [
    {
     "data": {
      "text/html": [
       "<div>\n",
       "<style scoped>\n",
       "    .dataframe tbody tr th:only-of-type {\n",
       "        vertical-align: middle;\n",
       "    }\n",
       "\n",
       "    .dataframe tbody tr th {\n",
       "        vertical-align: top;\n",
       "    }\n",
       "\n",
       "    .dataframe thead th {\n",
       "        text-align: right;\n",
       "    }\n",
       "</style>\n",
       "<table border=\"1\" class=\"dataframe\">\n",
       "  <thead>\n",
       "    <tr style=\"text-align: right;\">\n",
       "      <th></th>\n",
       "      <th>L_x</th>\n",
       "      <th>W</th>\n",
       "      <th>W_rank</th>\n",
       "      <th>L_y</th>\n",
       "    </tr>\n",
       "  </thead>\n",
       "  <tbody>\n",
       "    <tr>\n",
       "      <th>0</th>\n",
       "      <td>0.00</td>\n",
       "      <td>0.00</td>\n",
       "      <td>0.0</td>\n",
       "      <td>1.0</td>\n",
       "    </tr>\n",
       "    <tr>\n",
       "      <th>1</th>\n",
       "      <td>0.00</td>\n",
       "      <td>0.00</td>\n",
       "      <td>0.0</td>\n",
       "      <td>2.0</td>\n",
       "    </tr>\n",
       "    <tr>\n",
       "      <th>2</th>\n",
       "      <td>104.90</td>\n",
       "      <td>0.00</td>\n",
       "      <td>0.0</td>\n",
       "      <td>1.0</td>\n",
       "    </tr>\n",
       "    <tr>\n",
       "      <th>3</th>\n",
       "      <td>104.90</td>\n",
       "      <td>0.00</td>\n",
       "      <td>0.0</td>\n",
       "      <td>2.0</td>\n",
       "    </tr>\n",
       "    <tr>\n",
       "      <th>4</th>\n",
       "      <td>0.00</td>\n",
       "      <td>16.62</td>\n",
       "      <td>1.0</td>\n",
       "      <td>1.0</td>\n",
       "    </tr>\n",
       "    <tr>\n",
       "      <th>5</th>\n",
       "      <td>0.00</td>\n",
       "      <td>16.62</td>\n",
       "      <td>1.0</td>\n",
       "      <td>2.0</td>\n",
       "    </tr>\n",
       "    <tr>\n",
       "      <th>6</th>\n",
       "      <td>111.34</td>\n",
       "      <td>16.62</td>\n",
       "      <td>1.0</td>\n",
       "      <td>1.0</td>\n",
       "    </tr>\n",
       "    <tr>\n",
       "      <th>7</th>\n",
       "      <td>111.34</td>\n",
       "      <td>16.62</td>\n",
       "      <td>1.0</td>\n",
       "      <td>2.0</td>\n",
       "    </tr>\n",
       "  </tbody>\n",
       "</table>\n",
       "</div>"
      ],
      "text/plain": [
       "      L_x      W  W_rank  L_y\n",
       "0    0.00   0.00     0.0  1.0\n",
       "1    0.00   0.00     0.0  2.0\n",
       "2  104.90   0.00     0.0  1.0\n",
       "3  104.90   0.00     0.0  2.0\n",
       "4    0.00  16.62     1.0  1.0\n",
       "5    0.00  16.62     1.0  2.0\n",
       "6  111.34  16.62     1.0  1.0\n",
       "7  111.34  16.62     1.0  2.0"
      ]
     },
     "execution_count": 142,
     "metadata": {},
     "output_type": "execute_result"
    }
   ],
   "source": [
    "pd.merge(df,df2, left_index=True,left_on='level_1')"
   ]
  },
  {
   "cell_type": "code",
   "execution_count": null,
   "metadata": {},
   "outputs": [],
   "source": []
  },
  {
   "cell_type": "code",
   "execution_count": null,
   "metadata": {},
   "outputs": [],
   "source": [
    "dis3 = data3.groupby('distance_group')['case0'].count().reset_index()\n",
    "list_dis = ['gps incomplete', 'no move', 'in 5 meters', 'in 50 meters','in 500 meters','in 5 km','in 50 km','out 50 km']\n",
    "\n",
    "dis3['distance_group'] = dis3['distance_group'].astype('category')\n",
    "dis3['distance_group'].cat.reorder_categories(list_dis, inplace=True)\n",
    "dis3.sort_values('distance_group',inplace = True)\n"
   ]
  },
  {
   "cell_type": "code",
   "execution_count": 37,
   "metadata": {},
   "outputs": [
    {
     "data": {
      "text/plain": [
       "0     0.00\n",
       "1    16.62\n",
       "2     0.00\n",
       "3    16.62\n",
       "Name: W, dtype: float64"
      ]
     },
     "execution_count": 37,
     "metadata": {},
     "output_type": "execute_result"
    }
   ],
   "source": [
    "list_dis=df['W']\n",
    "list_dis"
   ]
  },
  {
   "cell_type": "code",
   "execution_count": 38,
   "metadata": {},
   "outputs": [
    {
     "ename": "ValueError",
     "evalue": "Categorical categories must be unique",
     "output_type": "error",
     "traceback": [
      "\u001b[1;31m---------------------------------------------------------------------------\u001b[0m",
      "\u001b[1;31mValueError\u001b[0m                                Traceback (most recent call last)",
      "\u001b[1;32m<ipython-input-38-c460e2dde001>\u001b[0m in \u001b[0;36m<module>\u001b[1;34m\u001b[0m\n\u001b[0;32m      1\u001b[0m \u001b[0mdf2\u001b[0m\u001b[1;33m[\u001b[0m\u001b[1;34m'W'\u001b[0m\u001b[1;33m]\u001b[0m\u001b[1;33m=\u001b[0m\u001b[0mdf2\u001b[0m\u001b[1;33m[\u001b[0m\u001b[1;34m'W'\u001b[0m\u001b[1;33m]\u001b[0m\u001b[1;33m.\u001b[0m\u001b[0mastype\u001b[0m\u001b[1;33m(\u001b[0m\u001b[1;34m'category'\u001b[0m\u001b[1;33m)\u001b[0m\u001b[1;33m\u001b[0m\u001b[0m\n\u001b[1;32m----> 2\u001b[1;33m \u001b[0mdf2\u001b[0m\u001b[1;33m[\u001b[0m\u001b[1;34m'W'\u001b[0m\u001b[1;33m]\u001b[0m\u001b[1;33m.\u001b[0m\u001b[0mcat\u001b[0m\u001b[1;33m.\u001b[0m\u001b[0mreorder_categories\u001b[0m\u001b[1;33m(\u001b[0m\u001b[0mlist_dis\u001b[0m\u001b[1;33m,\u001b[0m \u001b[0minplace\u001b[0m\u001b[1;33m=\u001b[0m\u001b[1;32mTrue\u001b[0m\u001b[1;33m)\u001b[0m\u001b[1;33m\u001b[0m\u001b[0m\n\u001b[0m\u001b[0;32m      3\u001b[0m \u001b[0mdf2\u001b[0m\u001b[1;33m.\u001b[0m\u001b[0msort_values\u001b[0m\u001b[1;33m(\u001b[0m\u001b[1;34m'W'\u001b[0m\u001b[1;33m,\u001b[0m\u001b[0minplace\u001b[0m \u001b[1;33m=\u001b[0m \u001b[1;32mTrue\u001b[0m\u001b[1;33m)\u001b[0m\u001b[1;33m\u001b[0m\u001b[0m\n",
      "\u001b[1;32mf:\\陶士来文件\\software\\python3_6_5\\lib\\site-packages\\pandas\\core\\accessor.py\u001b[0m in \u001b[0;36mf\u001b[1;34m(self, *args, **kwargs)\u001b[0m\n\u001b[0;32m     97\u001b[0m         \u001b[1;32mdef\u001b[0m \u001b[0m_create_delegator_method\u001b[0m\u001b[1;33m(\u001b[0m\u001b[0mname\u001b[0m\u001b[1;33m)\u001b[0m\u001b[1;33m:\u001b[0m\u001b[1;33m\u001b[0m\u001b[0m\n\u001b[0;32m     98\u001b[0m             \u001b[1;32mdef\u001b[0m \u001b[0mf\u001b[0m\u001b[1;33m(\u001b[0m\u001b[0mself\u001b[0m\u001b[1;33m,\u001b[0m \u001b[1;33m*\u001b[0m\u001b[0margs\u001b[0m\u001b[1;33m,\u001b[0m \u001b[1;33m**\u001b[0m\u001b[0mkwargs\u001b[0m\u001b[1;33m)\u001b[0m\u001b[1;33m:\u001b[0m\u001b[1;33m\u001b[0m\u001b[0m\n\u001b[1;32m---> 99\u001b[1;33m                 \u001b[1;32mreturn\u001b[0m \u001b[0mself\u001b[0m\u001b[1;33m.\u001b[0m\u001b[0m_delegate_method\u001b[0m\u001b[1;33m(\u001b[0m\u001b[0mname\u001b[0m\u001b[1;33m,\u001b[0m \u001b[1;33m*\u001b[0m\u001b[0margs\u001b[0m\u001b[1;33m,\u001b[0m \u001b[1;33m**\u001b[0m\u001b[0mkwargs\u001b[0m\u001b[1;33m)\u001b[0m\u001b[1;33m\u001b[0m\u001b[0m\n\u001b[0m\u001b[0;32m    100\u001b[0m \u001b[1;33m\u001b[0m\u001b[0m\n\u001b[0;32m    101\u001b[0m             \u001b[0mf\u001b[0m\u001b[1;33m.\u001b[0m\u001b[0m__name__\u001b[0m \u001b[1;33m=\u001b[0m \u001b[0mname\u001b[0m\u001b[1;33m\u001b[0m\u001b[0m\n",
      "\u001b[1;32mf:\\陶士来文件\\software\\python3_6_5\\lib\\site-packages\\pandas\\core\\arrays\\categorical.py\u001b[0m in \u001b[0;36m_delegate_method\u001b[1;34m(self, name, *args, **kwargs)\u001b[0m\n\u001b[0;32m   2589\u001b[0m \u001b[1;33m\u001b[0m\u001b[0m\n\u001b[0;32m   2590\u001b[0m         \u001b[0mmethod\u001b[0m \u001b[1;33m=\u001b[0m \u001b[0mgetattr\u001b[0m\u001b[1;33m(\u001b[0m\u001b[0mself\u001b[0m\u001b[1;33m.\u001b[0m\u001b[0m_parent\u001b[0m\u001b[1;33m,\u001b[0m \u001b[0mname\u001b[0m\u001b[1;33m)\u001b[0m\u001b[1;33m\u001b[0m\u001b[0m\n\u001b[1;32m-> 2591\u001b[1;33m         \u001b[0mres\u001b[0m \u001b[1;33m=\u001b[0m \u001b[0mmethod\u001b[0m\u001b[1;33m(\u001b[0m\u001b[1;33m*\u001b[0m\u001b[0margs\u001b[0m\u001b[1;33m,\u001b[0m \u001b[1;33m**\u001b[0m\u001b[0mkwargs\u001b[0m\u001b[1;33m)\u001b[0m\u001b[1;33m\u001b[0m\u001b[0m\n\u001b[0m\u001b[0;32m   2592\u001b[0m         \u001b[1;32mif\u001b[0m \u001b[0mres\u001b[0m \u001b[1;32mis\u001b[0m \u001b[1;32mnot\u001b[0m \u001b[1;32mNone\u001b[0m\u001b[1;33m:\u001b[0m\u001b[1;33m\u001b[0m\u001b[0m\n\u001b[0;32m   2593\u001b[0m             \u001b[1;32mreturn\u001b[0m \u001b[0mSeries\u001b[0m\u001b[1;33m(\u001b[0m\u001b[0mres\u001b[0m\u001b[1;33m,\u001b[0m \u001b[0mindex\u001b[0m\u001b[1;33m=\u001b[0m\u001b[0mself\u001b[0m\u001b[1;33m.\u001b[0m\u001b[0m_index\u001b[0m\u001b[1;33m,\u001b[0m \u001b[0mname\u001b[0m\u001b[1;33m=\u001b[0m\u001b[0mself\u001b[0m\u001b[1;33m.\u001b[0m\u001b[0m_name\u001b[0m\u001b[1;33m)\u001b[0m\u001b[1;33m\u001b[0m\u001b[0m\n",
      "\u001b[1;32mf:\\陶士来文件\\software\\python3_6_5\\lib\\site-packages\\pandas\\core\\arrays\\categorical.py\u001b[0m in \u001b[0;36mreorder_categories\u001b[1;34m(self, new_categories, ordered, inplace)\u001b[0m\n\u001b[0;32m    950\u001b[0m                 \u001b[1;34m\"items in new_categories are not the same as in old categories\"\u001b[0m\u001b[1;33m\u001b[0m\u001b[0m\n\u001b[0;32m    951\u001b[0m             )\n\u001b[1;32m--> 952\u001b[1;33m         \u001b[1;32mreturn\u001b[0m \u001b[0mself\u001b[0m\u001b[1;33m.\u001b[0m\u001b[0mset_categories\u001b[0m\u001b[1;33m(\u001b[0m\u001b[0mnew_categories\u001b[0m\u001b[1;33m,\u001b[0m \u001b[0mordered\u001b[0m\u001b[1;33m=\u001b[0m\u001b[0mordered\u001b[0m\u001b[1;33m,\u001b[0m \u001b[0minplace\u001b[0m\u001b[1;33m=\u001b[0m\u001b[0minplace\u001b[0m\u001b[1;33m)\u001b[0m\u001b[1;33m\u001b[0m\u001b[0m\n\u001b[0m\u001b[0;32m    953\u001b[0m \u001b[1;33m\u001b[0m\u001b[0m\n\u001b[0;32m    954\u001b[0m     \u001b[1;32mdef\u001b[0m \u001b[0madd_categories\u001b[0m\u001b[1;33m(\u001b[0m\u001b[0mself\u001b[0m\u001b[1;33m,\u001b[0m \u001b[0mnew_categories\u001b[0m\u001b[1;33m,\u001b[0m \u001b[0minplace\u001b[0m\u001b[1;33m=\u001b[0m\u001b[1;32mFalse\u001b[0m\u001b[1;33m)\u001b[0m\u001b[1;33m:\u001b[0m\u001b[1;33m\u001b[0m\u001b[0m\n",
      "\u001b[1;32mf:\\陶士来文件\\software\\python3_6_5\\lib\\site-packages\\pandas\\core\\arrays\\categorical.py\u001b[0m in \u001b[0;36mset_categories\u001b[1;34m(self, new_categories, ordered, rename, inplace)\u001b[0m\n\u001b[0;32m    811\u001b[0m         \u001b[1;32mif\u001b[0m \u001b[0mordered\u001b[0m \u001b[1;32mis\u001b[0m \u001b[1;32mNone\u001b[0m\u001b[1;33m:\u001b[0m\u001b[1;33m\u001b[0m\u001b[0m\n\u001b[0;32m    812\u001b[0m             \u001b[0mordered\u001b[0m \u001b[1;33m=\u001b[0m \u001b[0mself\u001b[0m\u001b[1;33m.\u001b[0m\u001b[0mdtype\u001b[0m\u001b[1;33m.\u001b[0m\u001b[0mordered\u001b[0m\u001b[1;33m\u001b[0m\u001b[0m\n\u001b[1;32m--> 813\u001b[1;33m         \u001b[0mnew_dtype\u001b[0m \u001b[1;33m=\u001b[0m \u001b[0mCategoricalDtype\u001b[0m\u001b[1;33m(\u001b[0m\u001b[0mnew_categories\u001b[0m\u001b[1;33m,\u001b[0m \u001b[0mordered\u001b[0m\u001b[1;33m=\u001b[0m\u001b[0mordered\u001b[0m\u001b[1;33m)\u001b[0m\u001b[1;33m\u001b[0m\u001b[0m\n\u001b[0m\u001b[0;32m    814\u001b[0m \u001b[1;33m\u001b[0m\u001b[0m\n\u001b[0;32m    815\u001b[0m         \u001b[0mcat\u001b[0m \u001b[1;33m=\u001b[0m \u001b[0mself\u001b[0m \u001b[1;32mif\u001b[0m \u001b[0minplace\u001b[0m \u001b[1;32melse\u001b[0m \u001b[0mself\u001b[0m\u001b[1;33m.\u001b[0m\u001b[0mcopy\u001b[0m\u001b[1;33m(\u001b[0m\u001b[1;33m)\u001b[0m\u001b[1;33m\u001b[0m\u001b[0m\n",
      "\u001b[1;32mf:\\陶士来文件\\software\\python3_6_5\\lib\\site-packages\\pandas\\core\\dtypes\\dtypes.py\u001b[0m in \u001b[0;36m__init__\u001b[1;34m(self, categories, ordered)\u001b[0m\n\u001b[0;32m    162\u001b[0m \u001b[1;33m\u001b[0m\u001b[0m\n\u001b[0;32m    163\u001b[0m     \u001b[1;32mdef\u001b[0m \u001b[0m__init__\u001b[0m\u001b[1;33m(\u001b[0m\u001b[0mself\u001b[0m\u001b[1;33m,\u001b[0m \u001b[0mcategories\u001b[0m\u001b[1;33m=\u001b[0m\u001b[1;32mNone\u001b[0m\u001b[1;33m,\u001b[0m \u001b[0mordered\u001b[0m\u001b[1;33m:\u001b[0m \u001b[0mOrdered\u001b[0m \u001b[1;33m=\u001b[0m \u001b[1;32mFalse\u001b[0m\u001b[1;33m)\u001b[0m\u001b[1;33m:\u001b[0m\u001b[1;33m\u001b[0m\u001b[0m\n\u001b[1;32m--> 164\u001b[1;33m         \u001b[0mself\u001b[0m\u001b[1;33m.\u001b[0m\u001b[0m_finalize\u001b[0m\u001b[1;33m(\u001b[0m\u001b[0mcategories\u001b[0m\u001b[1;33m,\u001b[0m \u001b[0mordered\u001b[0m\u001b[1;33m,\u001b[0m \u001b[0mfastpath\u001b[0m\u001b[1;33m=\u001b[0m\u001b[1;32mFalse\u001b[0m\u001b[1;33m)\u001b[0m\u001b[1;33m\u001b[0m\u001b[0m\n\u001b[0m\u001b[0;32m    165\u001b[0m \u001b[1;33m\u001b[0m\u001b[0m\n\u001b[0;32m    166\u001b[0m     \u001b[1;33m@\u001b[0m\u001b[0mclassmethod\u001b[0m\u001b[1;33m\u001b[0m\u001b[0m\n",
      "\u001b[1;32mf:\\陶士来文件\\software\\python3_6_5\\lib\\site-packages\\pandas\\core\\dtypes\\dtypes.py\u001b[0m in \u001b[0;36m_finalize\u001b[1;34m(self, categories, ordered, fastpath)\u001b[0m\n\u001b[0;32m    316\u001b[0m \u001b[1;33m\u001b[0m\u001b[0m\n\u001b[0;32m    317\u001b[0m         \u001b[1;32mif\u001b[0m \u001b[0mcategories\u001b[0m \u001b[1;32mis\u001b[0m \u001b[1;32mnot\u001b[0m \u001b[1;32mNone\u001b[0m\u001b[1;33m:\u001b[0m\u001b[1;33m\u001b[0m\u001b[0m\n\u001b[1;32m--> 318\u001b[1;33m             \u001b[0mcategories\u001b[0m \u001b[1;33m=\u001b[0m \u001b[0mself\u001b[0m\u001b[1;33m.\u001b[0m\u001b[0mvalidate_categories\u001b[0m\u001b[1;33m(\u001b[0m\u001b[0mcategories\u001b[0m\u001b[1;33m,\u001b[0m \u001b[0mfastpath\u001b[0m\u001b[1;33m=\u001b[0m\u001b[0mfastpath\u001b[0m\u001b[1;33m)\u001b[0m\u001b[1;33m\u001b[0m\u001b[0m\n\u001b[0m\u001b[0;32m    319\u001b[0m \u001b[1;33m\u001b[0m\u001b[0m\n\u001b[0;32m    320\u001b[0m         \u001b[0mself\u001b[0m\u001b[1;33m.\u001b[0m\u001b[0m_categories\u001b[0m \u001b[1;33m=\u001b[0m \u001b[0mcategories\u001b[0m\u001b[1;33m\u001b[0m\u001b[0m\n",
      "\u001b[1;32mf:\\陶士来文件\\software\\python3_6_5\\lib\\site-packages\\pandas\\core\\dtypes\\dtypes.py\u001b[0m in \u001b[0;36mvalidate_categories\u001b[1;34m(categories, fastpath)\u001b[0m\n\u001b[0;32m    493\u001b[0m \u001b[1;33m\u001b[0m\u001b[0m\n\u001b[0;32m    494\u001b[0m             \u001b[1;32mif\u001b[0m \u001b[1;32mnot\u001b[0m \u001b[0mcategories\u001b[0m\u001b[1;33m.\u001b[0m\u001b[0mis_unique\u001b[0m\u001b[1;33m:\u001b[0m\u001b[1;33m\u001b[0m\u001b[0m\n\u001b[1;32m--> 495\u001b[1;33m                 \u001b[1;32mraise\u001b[0m \u001b[0mValueError\u001b[0m\u001b[1;33m(\u001b[0m\u001b[1;34m\"Categorical categories must be unique\"\u001b[0m\u001b[1;33m)\u001b[0m\u001b[1;33m\u001b[0m\u001b[0m\n\u001b[0m\u001b[0;32m    496\u001b[0m \u001b[1;33m\u001b[0m\u001b[0m\n\u001b[0;32m    497\u001b[0m         \u001b[1;32mif\u001b[0m \u001b[0misinstance\u001b[0m\u001b[1;33m(\u001b[0m\u001b[0mcategories\u001b[0m\u001b[1;33m,\u001b[0m \u001b[0mABCCategoricalIndex\u001b[0m\u001b[1;33m)\u001b[0m\u001b[1;33m:\u001b[0m\u001b[1;33m\u001b[0m\u001b[0m\n",
      "\u001b[1;31mValueError\u001b[0m: Categorical categories must be unique"
     ]
    }
   ],
   "source": [
    "df2['W']=df2['W'].astype('category')\n",
    "df2['W'].cat.reorder_categories(list_dis, inplace=True)\n",
    "df2.sort_values('W',inplace = True)"
   ]
  },
  {
   "cell_type": "code",
   "execution_count": null,
   "metadata": {},
   "outputs": [],
   "source": []
  },
  {
   "cell_type": "code",
   "execution_count": null,
   "metadata": {},
   "outputs": [],
   "source": []
  },
  {
   "cell_type": "code",
   "execution_count": null,
   "metadata": {},
   "outputs": [],
   "source": []
  },
  {
   "cell_type": "code",
   "execution_count": null,
   "metadata": {},
   "outputs": [],
   "source": []
  },
  {
   "cell_type": "code",
   "execution_count": null,
   "metadata": {},
   "outputs": [],
   "source": []
  },
  {
   "cell_type": "code",
   "execution_count": 109,
   "metadata": {},
   "outputs": [],
   "source": [
    "##将宽度W对应的1排名，全部改成2\n",
    "brake_coord_W_rank_new=[each if each==0 else 2 for each in  brake_coord_W_rank ]"
   ]
  },
  {
   "cell_type": "code",
   "execution_count": 110,
   "metadata": {},
   "outputs": [
    {
     "data": {
      "text/plain": [
       "[0.0, 0.0, 2, 2]"
      ]
     },
     "execution_count": 110,
     "metadata": {},
     "output_type": "execute_result"
    }
   ],
   "source": [
    "brake_coord_W_rank_new"
   ]
  },
  {
   "cell_type": "code",
   "execution_count": 115,
   "metadata": {},
   "outputs": [],
   "source": [
    "# print([i if i == 0 else 100 for i in range(10)])"
   ]
  },
  {
   "cell_type": "code",
   "execution_count": 116,
   "metadata": {},
   "outputs": [],
   "source": [
    "# XL_YW=list(zip(brake_coord_L_rank,brake_coord_W_rank))\n",
    "XW_YL=list(zip(brake_coord_W_rank_new,brake_coord_L_rank))\n",
    "###还要处理，对应相同的W,看一下L是否存在更小的值\n",
    "\n",
    "\n"
   ]
  },
  {
   "cell_type": "code",
   "execution_count": 117,
   "metadata": {},
   "outputs": [
    {
     "data": {
      "text/plain": [
       "[(0.0, 0.0), (0.0, 1.0), (2, 1.0), (2, 2.0)]"
      ]
     },
     "execution_count": 117,
     "metadata": {},
     "output_type": "execute_result"
    }
   ],
   "source": [
    "XW_YL"
   ]
  },
  {
   "cell_type": "code",
   "execution_count": 118,
   "metadata": {},
   "outputs": [
    {
     "data": {
      "text/plain": [
       "[0, 0, 18, 18]"
      ]
     },
     "execution_count": 118,
     "metadata": {},
     "output_type": "execute_result"
    }
   ],
   "source": [
    "brake_coord_W"
   ]
  },
  {
   "cell_type": "code",
   "execution_count": null,
   "metadata": {},
   "outputs": [],
   "source": [
    "##从小到大排名，返回对应名次\n",
    "\n",
    "    "
   ]
  },
  {
   "cell_type": "code",
   "execution_count": 50,
   "metadata": {},
   "outputs": [
    {
     "data": {
      "text/plain": [
       "array([ 0.  , 15.87,  0.  , 15.87])"
      ]
     },
     "execution_count": 50,
     "metadata": {},
     "output_type": "execute_result"
    }
   ],
   "source": [
    "brake_coord_W"
   ]
  },
  {
   "cell_type": "code",
   "execution_count": 46,
   "metadata": {},
   "outputs": [
    {
     "data": {
      "text/plain": [
       "array([0, 1], dtype=int64)"
      ]
     },
     "execution_count": 46,
     "metadata": {},
     "output_type": "execute_result"
    }
   ],
   "source": [
    "np.unique(brake_coord_L).argsort()"
   ]
  },
  {
   "cell_type": "code",
   "execution_count": 41,
   "metadata": {},
   "outputs": [
    {
     "data": {
      "text/plain": [
       "array([0, 2, 1, 3], dtype=int64)"
      ]
     },
     "execution_count": 41,
     "metadata": {},
     "output_type": "execute_result"
    }
   ],
   "source": [
    "brake_coord_W.argsort()"
   ]
  },
  {
   "cell_type": "code",
   "execution_count": 21,
   "metadata": {},
   "outputs": [],
   "source": [
    "import numpy as np"
   ]
  },
  {
   "cell_type": "code",
   "execution_count": 23,
   "metadata": {},
   "outputs": [],
   "source": []
  },
  {
   "cell_type": "code",
   "execution_count": null,
   "metadata": {},
   "outputs": [],
   "source": []
  },
  {
   "cell_type": "code",
   "execution_count": 48,
   "metadata": {},
   "outputs": [],
   "source": [
    "# help(np.argsort)"
   ]
  },
  {
   "cell_type": "code",
   "execution_count": 24,
   "metadata": {},
   "outputs": [
    {
     "data": {
      "text/plain": [
       "array([3, 2, 0, 1], dtype=int64)"
      ]
     },
     "execution_count": 24,
     "metadata": {},
     "output_type": "execute_result"
    }
   ],
   "source": []
  },
  {
   "cell_type": "code",
   "execution_count": 44,
   "metadata": {},
   "outputs": [
    {
     "data": {
      "text/plain": [
       "array([1, 4, 3, 0, 2], dtype=int64)"
      ]
     },
     "execution_count": 44,
     "metadata": {},
     "output_type": "execute_result"
    }
   ],
   "source": [
    "dd=np.array([3,1,4,2,1])\n",
    "ind=dd.argsort()\n",
    "ind"
   ]
  },
  {
   "cell_type": "code",
   "execution_count": 45,
   "metadata": {},
   "outputs": [
    {
     "name": "stdout",
     "output_type": "stream",
     "text": [
      "1 1\n",
      "4 1\n",
      "3 2\n",
      "0 3\n",
      "2 4\n"
     ]
    }
   ],
   "source": [
    "for each in ind:\n",
    "    print(each,dd[each])"
   ]
  },
  {
   "cell_type": "code",
   "execution_count": null,
   "metadata": {},
   "outputs": [],
   "source": []
  },
  {
   "cell_type": "code",
   "execution_count": null,
   "metadata": {},
   "outputs": [],
   "source": []
  },
  {
   "cell_type": "code",
   "execution_count": 12,
   "metadata": {},
   "outputs": [
    {
     "name": "stdout",
     "output_type": "stream",
     "text": [
      "按值(value)排序:\n",
      "[(1, 2), (4, 12), (5, 12), (2, 18), (6, 18), (3, 323)]\n"
     ]
    }
   ],
   "source": [
    "def dictionairy():  \n",
    " \n",
    "    # 声明字典\n",
    "    key_value ={}     \n",
    " \n",
    "    # 初始化\n",
    "    key_value[2] = 18     \n",
    "    key_value[1] = 2 \n",
    "    key_value[5] = 12 \n",
    "    key_value[4] = 12\n",
    "    key_value[6] = 18      \n",
    "    key_value[3] = 323 \n",
    " \n",
    " \n",
    "    print (\"按值(value)排序:\")   \n",
    "    print(sorted(key_value.items(), key = lambda kv:(kv[1], kv[0])))     \n",
    "   \n",
    "def main(): \n",
    "    dictionairy()             \n",
    "      \n",
    "       \n",
    "main()"
   ]
  },
  {
   "cell_type": "code",
   "execution_count": 13,
   "metadata": {},
   "outputs": [
    {
     "data": {
      "text/plain": [
       "dict_items([(2, 56), (1, 2), (5, 12), (4, 24), (6, 18), (3, 323)])"
      ]
     },
     "execution_count": 13,
     "metadata": {},
     "output_type": "execute_result"
    }
   ],
   "source": [
    "# 声明字典\n",
    "key_value ={}     \n",
    "\n",
    "# 初始化\n",
    "key_value[2] = 56       \n",
    "key_value[1] = 2 \n",
    "key_value[5] = 12 \n",
    "key_value[4] = 24\n",
    "key_value[6] = 18      \n",
    "key_value[3] = 323 \n",
    "key_value.items()"
   ]
  },
  {
   "cell_type": "code",
   "execution_count": null,
   "metadata": {},
   "outputs": [],
   "source": []
  }
 ],
 "metadata": {
  "kernelspec": {
   "display_name": "Python 3",
   "language": "python",
   "name": "python3"
  },
  "language_info": {
   "codemirror_mode": {
    "name": "ipython",
    "version": 3
   },
   "file_extension": ".py",
   "mimetype": "text/x-python",
   "name": "python",
   "nbconvert_exporter": "python",
   "pygments_lexer": "ipython3",
   "version": "3.6.5"
  }
 },
 "nbformat": 4,
 "nbformat_minor": 2
}
