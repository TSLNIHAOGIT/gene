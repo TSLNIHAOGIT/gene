{
 "cells": [
  {
   "cell_type": "code",
   "execution_count": 4,
   "metadata": {},
   "outputs": [],
   "source": [
    "import tensorflow as tf\n",
    "import numpy as np"
   ]
  },
  {
   "cell_type": "code",
   "execution_count": 60,
   "metadata": {},
   "outputs": [],
   "source": [
    "wait_list=np.array([[100.0, 16.0], [92.0, 16.2], [104.8, 16.24], [110.0, 17.2], [109.7, 16.24], [108.0, 17.25], [100.0, 16.0], [86.48, 14.24], [89.9, 15.0], [102.0, 16.24], [104.98, 16.23], [99.9, 16.24], [129.98, 16.23], [129.9, 16.24], [86.8, 16.2], [100.02, 17.63], [99.8, 16.24], [86.8, 14.83], [82.0, 14.03], [92.0, 14.83], [98.8, 16.2], [93.82, 16.2], [86.8, 16.23], [87.0, 14.83], [100.0, 17.23], [109.9, 17.24], [108.0, 17.25], [89.8, 14.8], [89.8, 16.04], [110.0, 19.25], [100.0, 16.0], [99.8, 16.23], [111.0, 18.0], [129.92, 16.24], [110.0, 19.25], [130.0, 16.0], [130.0, 16.0], [130.0, 16.0], [80.0, 13.63], [129.98, 16.26], [105.0, 16.0], [104.98, 16.23], [91.0, 15.0], [86.8, 16.23], [129.98, 16.23], [56.8, 10.0], [108.0, 17.25], [110.0, 16.0], [105.0, 16.23], [100.0, 17.23], [95.0, 16.23], [110.0, 19.2], [99.8, 16.05], [129.9, 16.25], [99.8, 16.05], [79.6, 13.63], [100.0, 16.0], [130.0, 16.0], [130.0, 16.0], [108.0, 17.0], [80.0, 14.0], [86.8, 15.04], [99.8, 16.25], [61.0, 14.0], [86.86, 13.64], [99.8, 16.21], [76.7, 12.0], [110.0, 19.25], [92.0, 16.24], [92.0, 16.24], [99.8, 16.25], [90.0, 16.2], [99.8, 16.25], [106.0, 17.25], [92.0, 14.84], [99.8, 16.25], [91.3, 14.8], [92.0, 16.2], [99.8, 16.25], [105.0, 17.24], [95.0, 16.2], [105.0, 16.23], [92.0, 16.23], [110.0, 19.25], [105.0, 17.2], [79.6, 13.6], [110.0, 19.2], [79.6, 13.62], [108.0, 17.2], [65.5, 10.83], [87.0, 14.83], [68.0, 11.15], [92.0, 14.83], [98.9, 16.28], [78.0, 13.6], [92.0, 14.85], [110.0, 19.26], [86.48, 14.24], [110.0, 19.0], [88.0, 14.0], [105.0, 16.0], [79.8, 13.6], [129.97, 16.2], [130.0, 16.0], [109.8, 19.25], [90.0, 15.0], [99.8, 16.23], [105.0, 16.0], [108.0, 17.25], [107.0, 17.24], [78.0, 13.64], [110.0, 17.2], [107.0, 17.24], [99.6, 16.24], [112.0, 17.2], [110.0, 16.0], [104.81, 16.23], [85.28, 14.23], [80.0, 13.63], [80.0, 13.63], [105.0, 16.0], [104.81, 16.23], [99.6, 16.2], [105.0, 17.2], [99.8, 16.24], [110.0, 19.25], [78.0, 14.0], [99.6, 16.23], [89.8, 14.84], [110.0, 19.2], [129.97, 16.24], [129.97, 16.2], [110.0, 19.25], [57.6, 11.9], [80.0, 14.0], [87.0, 14.83], [100.2, 17.23], [86.48, 14.24], [110.0, 19.25], [65.5, 10.83], [79.6, 13.63], [80.0, 13.0], [85.32, 14.16], [79.58, 13.8], [90.45, 14.83], [106.0, 17.25], [106.0, 17.25], [109.88, 19.25], [104.9, 16.23], [84.9, 14.03], [90.8, 14.84], [90.8, 14.84], [82.0, 14.24], [92.0, 16.24], [92.0, 14.8], [110.0, 19.28], [79.6, 13.63], [104.88, 16.23], [107.0, 14.0], [99.8, 16.3], [80.0, 13.22], [79.78, 13.22], [87.0, 13.6], [87.0, 13.62], [87.0, 14.83], [87.0, 14.8], [109.42, 17.2], [79.0, 13.0], [105.0, 16.0], [110.0, 19.26], [110.0, 19.24], [110.0, 19.2], [110.0, 19.2], [82.3, 14.32], [87.8, 14.82], [104.8, 16.23], [105.0, 16.25], [99.8, 16.25], [88.0, 16.23], [105.0, 16.25], [86.0, 14.0], [86.8, 14.04], [104.88, 16.24], [80.0, 14.0], [92.0, 14.83], [64.9, 11.5], [99.8, 16.25], [100.0, 16.0], [86.8, 14.24], [86.0, 14.0], [78.0, 13.63], [82.0, 14.0], [87.0, 14.0], [88.0, 14.0], [108.8, 17.25], [130.0, 16.0], [86.0, 15.0], [106.8, 16.25], [105.0, 16.24], [106.0, 17.28], [106.0, 17.25], [99.8, 16.25], [90.8, 14.84], [110.0, 19.2], [110.0, 19.2], [86.8, 16.3], [79.6, 13.6], [79.6, 13.6], [79.6, 13.62], [79.6, 13.6], [92.0, 16.23], [99.8, 16.24], [105.0, 16.24], [105.0, 16.2], [79.6, 13.6], [79.6, 13.6], [99.0, 16.0], [79.0, 13.0], [110.0, 17.0], [105.0, 17.0], [92.0, 16.0], [92.0, 16.0], [110.0, 17.0], [110.0, 17.0], [80.0, 14.0], [89.0, 15.0], [105.02, 16.23], [92.0, 14.84], [88.0, 14.0], [100.0, 17.23], [100.0, 17.2], [100.0, 17.23], [100.0, 17.23], [75.7, 13.12], [74.3, 13.64], [87.0, 14.0], [85.0, 14.03], [82.0, 14.04], [107.0, 17.24], [110.0, 17.0], [90.0, 15.0], [105.0, 17.2], [104.81, 16.23], [129.98, 16.26], [129.98, 16.26], [84.0, 14.0], [92.0, 14.8], [99.6, 16.7], [104.98, 16.24], [110.0, 19.2], [92.0, 16.2], [99.8, 16.2], [87.0, 15.0], [79.6, 13.63], [83.0, 14.0]])\n",
    "wait_list=tf.Variable(wait_list[:15])"
   ]
  },
  {
   "cell_type": "code",
   "execution_count": 61,
   "metadata": {},
   "outputs": [
    {
     "data": {
      "text/plain": [
       "<tf.Variable 'Variable:0' shape=(15, 2) dtype=float64, numpy=\n",
       "array([[100.  ,  16.  ],\n",
       "       [ 92.  ,  16.2 ],\n",
       "       [104.8 ,  16.24],\n",
       "       [110.  ,  17.2 ],\n",
       "       [109.7 ,  16.24],\n",
       "       [108.  ,  17.25],\n",
       "       [100.  ,  16.  ],\n",
       "       [ 86.48,  14.24],\n",
       "       [ 89.9 ,  15.  ],\n",
       "       [102.  ,  16.24],\n",
       "       [104.98,  16.23],\n",
       "       [ 99.9 ,  16.24],\n",
       "       [129.98,  16.23],\n",
       "       [129.9 ,  16.24],\n",
       "       [ 86.8 ,  16.2 ]])>"
      ]
     },
     "execution_count": 61,
     "metadata": {},
     "output_type": "execute_result"
    }
   ],
   "source": [
    "wait_list"
   ]
  },
  {
   "cell_type": "code",
   "execution_count": 64,
   "metadata": {},
   "outputs": [],
   "source": [
    "#模拟3个batch ,每个batch序列长度为5（即有5艘船），每艘船维度为2（长宽）\n",
    "wait_list=tf.reshape(wait_list,(3,5,2))"
   ]
  },
  {
   "cell_type": "code",
   "execution_count": 65,
   "metadata": {},
   "outputs": [
    {
     "data": {
      "text/plain": [
       "<tf.Tensor: shape=(3, 5, 2), dtype=float64, numpy=\n",
       "array([[[100.  ,  16.  ],\n",
       "        [ 92.  ,  16.2 ],\n",
       "        [104.8 ,  16.24],\n",
       "        [110.  ,  17.2 ],\n",
       "        [109.7 ,  16.24]],\n",
       "\n",
       "       [[108.  ,  17.25],\n",
       "        [100.  ,  16.  ],\n",
       "        [ 86.48,  14.24],\n",
       "        [ 89.9 ,  15.  ],\n",
       "        [102.  ,  16.24]],\n",
       "\n",
       "       [[104.98,  16.23],\n",
       "        [ 99.9 ,  16.24],\n",
       "        [129.98,  16.23],\n",
       "        [129.9 ,  16.24],\n",
       "        [ 86.8 ,  16.2 ]]])>"
      ]
     },
     "execution_count": 65,
     "metadata": {},
     "output_type": "execute_result"
    }
   ],
   "source": [
    "wait_list"
   ]
  },
  {
   "cell_type": "code",
   "execution_count": 86,
   "metadata": {},
   "outputs": [],
   "source": [
    "# (xi+li<=L) and (yi+wi)<=W:#能否放下\n",
    "# (xi+li<=xj) or (xj+lj<=xi) or (yi+wi<=yj) or (yj+wj<=yi):是否重叠"
   ]
  },
  {
   "cell_type": "code",
   "execution_count": null,
   "metadata": {},
   "outputs": [],
   "source": [
    "#假设该batch是刚开始，对于每一个闸次初始化时可排点是一样的，随着动态变化，可排点不断变化\n",
    "#闸室中对应着两个队列，可排点队列和已排的船队列（位置坐标和长宽）\n",
    "#对应当前batch，中每一个序列，都要维护两个东西：当前闸室可排点状态，当前闸室已排船只状态\n",
    "# available_queue = [(0, 0)]"
   ]
  },
  {
   "cell_type": "code",
   "execution_count": 75,
   "metadata": {},
   "outputs": [],
   "source": [
    "W = 34\n",
    "L = 280\n",
    "xi=0\n",
    "yi=0"
   ]
  },
  {
   "cell_type": "code",
   "execution_count": 78,
   "metadata": {},
   "outputs": [
    {
     "data": {
      "text/plain": [
       "<tf.Tensor: shape=(3, 5, 1), dtype=float64, numpy=\n",
       "array([[[100.  ],\n",
       "        [ 92.  ],\n",
       "        [104.8 ],\n",
       "        [110.  ],\n",
       "        [109.7 ]],\n",
       "\n",
       "       [[108.  ],\n",
       "        [100.  ],\n",
       "        [ 86.48],\n",
       "        [ 89.9 ],\n",
       "        [102.  ]],\n",
       "\n",
       "       [[104.98],\n",
       "        [ 99.9 ],\n",
       "        [129.98],\n",
       "        [129.9 ],\n",
       "        [ 86.8 ]]])>"
      ]
     },
     "execution_count": 78,
     "metadata": {},
     "output_type": "execute_result"
    }
   ],
   "source": [
    "#切片维度不变\n",
    "wait_list[:,:,:1]"
   ]
  },
  {
   "cell_type": "code",
   "execution_count": 79,
   "metadata": {},
   "outputs": [
    {
     "data": {
      "text/plain": [
       "<tf.Tensor: shape=(3, 5), dtype=float64, numpy=\n",
       "array([[100.  ,  92.  , 104.8 , 110.  , 109.7 ],\n",
       "       [108.  , 100.  ,  86.48,  89.9 , 102.  ],\n",
       "       [104.98,  99.9 , 129.98, 129.9 ,  86.8 ]])>"
      ]
     },
     "execution_count": 79,
     "metadata": {},
     "output_type": "execute_result"
    }
   ],
   "source": [
    "#索引会减少维度\n",
    "wait_list[:,:,0]"
   ]
  },
  {
   "cell_type": "code",
   "execution_count": 85,
   "metadata": {},
   "outputs": [
    {
     "data": {
      "text/plain": [
       "<tf.Tensor: shape=(3, 5), dtype=bool, numpy=\n",
       "array([[ True,  True,  True,  True,  True],\n",
       "       [ True,  True,  True,  True,  True],\n",
       "       [ True,  True,  True,  True,  True]])>"
      ]
     },
     "execution_count": 85,
     "metadata": {},
     "output_type": "execute_result"
    }
   ],
   "source": [
    "#判断能否放得下：\n",
    "#对于某艘船要判断，所有的可排点能否放下该船，放不下直接False\n",
    "#假设能放下该船，要判断该船与闸室中所有的船是否为重叠 ,有重叠直接False\n",
    "\n",
    "\n",
    "tf.cast((wait_list[:,:,0]+xi<=L), tf.bool)& tf.cast((wait_list[:,:,1]+yi),tf.bool)"
   ]
  },
  {
   "cell_type": "code",
   "execution_count": null,
   "metadata": {},
   "outputs": [],
   "source": [
    "#假设放得下之后，就要判断新放下的船与闸室中已有的船是否会重叠\n",
    "\n",
    "#D:(batch,1)batch中每一个都有一个剩余容量，这里对应闸室状态"
   ]
  },
  {
   "cell_type": "code",
   "execution_count": 54,
   "metadata": {},
   "outputs": [],
   "source": [
    "b=tf.random.uniform((5,2),50,100,dtype=tf.float64)"
   ]
  },
  {
   "cell_type": "code",
   "execution_count": 55,
   "metadata": {},
   "outputs": [
    {
     "data": {
      "text/plain": [
       "<tf.Tensor: shape=(5, 2), dtype=float64, numpy=\n",
       "array([[51.92778904, 90.01365845],\n",
       "       [89.64427683, 63.22640669],\n",
       "       [71.42750751, 67.91149137],\n",
       "       [65.037063  , 72.8029208 ],\n",
       "       [78.26533333, 74.26993955]])>"
      ]
     },
     "execution_count": 55,
     "metadata": {},
     "output_type": "execute_result"
    }
   ],
   "source": [
    "b"
   ]
  },
  {
   "cell_type": "code",
   "execution_count": 56,
   "metadata": {},
   "outputs": [
    {
     "data": {
      "text/plain": [
       "<tf.Variable 'Variable:0' shape=(5, 2) dtype=float64, numpy=\n",
       "array([[100.  ,  16.  ],\n",
       "       [ 92.  ,  16.2 ],\n",
       "       [104.8 ,  16.24],\n",
       "       [110.  ,  17.2 ],\n",
       "       [109.7 ,  16.24]])>"
      ]
     },
     "execution_count": 56,
     "metadata": {},
     "output_type": "execute_result"
    }
   ],
   "source": [
    "wait_list"
   ]
  },
  {
   "cell_type": "code",
   "execution_count": 57,
   "metadata": {},
   "outputs": [
    {
     "data": {
      "text/plain": [
       "<tf.Tensor: shape=(5, 2), dtype=bool, numpy=\n",
       "array([[False,  True],\n",
       "       [False,  True],\n",
       "       [False,  True],\n",
       "       [False,  True],\n",
       "       [False,  True]])>"
      ]
     },
     "execution_count": 57,
     "metadata": {},
     "output_type": "execute_result"
    }
   ],
   "source": [
    "wait_list<b"
   ]
  },
  {
   "cell_type": "code",
   "execution_count": null,
   "metadata": {},
   "outputs": [],
   "source": []
  },
  {
   "cell_type": "code",
   "execution_count": 25,
   "metadata": {},
   "outputs": [
    {
     "data": {
      "text/plain": [
       "<tf.Tensor: shape=(2,), dtype=bool, numpy=array([False, False])>"
      ]
     },
     "execution_count": 25,
     "metadata": {},
     "output_type": "execute_result"
    }
   ],
   "source": [
    "tf.constant([2,3])<tf.constant([2,1])"
   ]
  },
  {
   "cell_type": "code",
   "execution_count": 26,
   "metadata": {},
   "outputs": [
    {
     "data": {
      "text/plain": [
       "<tf.Tensor: shape=(5, 2), dtype=bool, numpy=\n",
       "array([[ True,  True],\n",
       "       [ True,  True],\n",
       "       [ True,  True],\n",
       "       [ True,  True],\n",
       "       [ True,  True]])>"
      ]
     },
     "execution_count": 26,
     "metadata": {},
     "output_type": "execute_result"
    }
   ],
   "source": [
    "tf.math.greater(wait_list,b)"
   ]
  },
  {
   "cell_type": "code",
   "execution_count": 30,
   "metadata": {},
   "outputs": [
    {
     "data": {
      "text/plain": [
       "<tf.Tensor: shape=(5, 2), dtype=bool, numpy=\n",
       "array([[False, False],\n",
       "       [False, False],\n",
       "       [False, False],\n",
       "       [False, False],\n",
       "       [False, False]])>"
      ]
     },
     "execution_count": 30,
     "metadata": {},
     "output_type": "execute_result"
    }
   ],
   "source": [
    "tf.equal(wait_list,b)"
   ]
  },
  {
   "cell_type": "code",
   "execution_count": null,
   "metadata": {},
   "outputs": [],
   "source": []
  },
  {
   "cell_type": "code",
   "execution_count": 41,
   "metadata": {},
   "outputs": [],
   "source": [
    "a=np.zeros((1,4))"
   ]
  },
  {
   "cell_type": "code",
   "execution_count": 42,
   "metadata": {},
   "outputs": [
    {
     "data": {
      "text/plain": [
       "array([[0., 0., 0., 0.]])"
      ]
     },
     "execution_count": 42,
     "metadata": {},
     "output_type": "execute_result"
    }
   ],
   "source": [
    "a"
   ]
  },
  {
   "cell_type": "code",
   "execution_count": 43,
   "metadata": {},
   "outputs": [
    {
     "data": {
      "text/plain": [
       "<tf.Tensor: shape=(4, 2, 2, 4), dtype=float64, numpy=\n",
       "array([[[[0., 0., 0., 0.],\n",
       "         [0., 0., 0., 0.]],\n",
       "\n",
       "        [[0., 0., 0., 0.],\n",
       "         [0., 0., 0., 0.]]],\n",
       "\n",
       "\n",
       "       [[[0., 0., 0., 0.],\n",
       "         [0., 0., 0., 0.]],\n",
       "\n",
       "        [[0., 0., 0., 0.],\n",
       "         [0., 0., 0., 0.]]],\n",
       "\n",
       "\n",
       "       [[[0., 0., 0., 0.],\n",
       "         [0., 0., 0., 0.]],\n",
       "\n",
       "        [[0., 0., 0., 0.],\n",
       "         [0., 0., 0., 0.]]],\n",
       "\n",
       "\n",
       "       [[[0., 0., 0., 0.],\n",
       "         [0., 0., 0., 0.]],\n",
       "\n",
       "        [[0., 0., 0., 0.],\n",
       "         [0., 0., 0., 0.]]]])>"
      ]
     },
     "execution_count": 43,
     "metadata": {},
     "output_type": "execute_result"
    }
   ],
   "source": [
    "tf.broadcast_to(a,[4,2,2,4])"
   ]
  },
  {
   "cell_type": "code",
   "execution_count": 67,
   "metadata": {},
   "outputs": [],
   "source": [
    "aa=tf.constant([0,10,3])"
   ]
  },
  {
   "cell_type": "code",
   "execution_count": 68,
   "metadata": {},
   "outputs": [],
   "source": [
    "bb=tf.constant([10,0,3])"
   ]
  },
  {
   "cell_type": "code",
   "execution_count": 69,
   "metadata": {},
   "outputs": [
    {
     "data": {
      "text/plain": [
       "<tf.Tensor: shape=(3,), dtype=int32, numpy=array([10, 10,  3])>"
      ]
     },
     "execution_count": 69,
     "metadata": {},
     "output_type": "execute_result"
    }
   ],
   "source": [
    "aa|bb"
   ]
  },
  {
   "cell_type": "code",
   "execution_count": 70,
   "metadata": {},
   "outputs": [
    {
     "data": {
      "text/plain": [
       "<tf.Tensor: shape=(3,), dtype=int32, numpy=array([0, 0, 3])>"
      ]
     },
     "execution_count": 70,
     "metadata": {},
     "output_type": "execute_result"
    }
   ],
   "source": [
    "aa&bb"
   ]
  },
  {
   "cell_type": "code",
   "execution_count": 72,
   "metadata": {},
   "outputs": [
    {
     "data": {
      "text/plain": [
       "<tf.Tensor: shape=(3,), dtype=bool, numpy=array([ True,  True, False])>"
      ]
     },
     "execution_count": 72,
     "metadata": {},
     "output_type": "execute_result"
    }
   ],
   "source": [
    "tf.cast(aa^bb,tf.bool)"
   ]
  },
  {
   "cell_type": "code",
   "execution_count": null,
   "metadata": {},
   "outputs": [],
   "source": []
  }
 ],
 "metadata": {
  "kernelspec": {
   "display_name": "Python 3",
   "language": "python",
   "name": "python3"
  },
  "language_info": {
   "codemirror_mode": {
    "name": "ipython",
    "version": 3
   },
   "file_extension": ".py",
   "mimetype": "text/x-python",
   "name": "python",
   "nbconvert_exporter": "python",
   "pygments_lexer": "ipython3",
   "version": "3.6.5"
  }
 },
 "nbformat": 4,
 "nbformat_minor": 2
}
